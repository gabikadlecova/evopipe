{
 "cells": [
  {
   "cell_type": "code",
   "execution_count": 6,
   "metadata": {},
   "outputs": [],
   "source": [
    "import evopipe\n",
    "import warnings\n",
    "\n",
    "from sklearn.model_selection import train_test_split\n",
    "from sklearn import datasets\n",
    "\n",
    "from sklearn.model_selection import cross_val_score\n",
    "\n",
    "from sklearn.preprocessing import MinMaxScaler, StandardScaler, Normalizer, Binarizer\n",
    "from sklearn.decomposition import PCA, KernelPCA, NMF\n",
    "from sklearn.feature_selection import SelectKBest, chi2\n",
    "\n",
    "from sklearn.svm import SVC, LinearSVC\n",
    "from sklearn.neighbors import KNeighborsClassifier\n",
    "from sklearn.tree import DecisionTreeClassifier\n",
    "from sklearn.ensemble import RandomForestClassifier, AdaBoostClassifier\n",
    "from sklearn.discriminant_analysis import QuadraticDiscriminantAnalysis\n",
    "\n",
    "import matplotlib.pyplot as plt\n",
    "import seaborn as sns\n",
    "\n",
    "preproc_l = [MinMaxScaler(), StandardScaler(), Normalizer(), Binarizer(), PCA(), KernelPCA(), NMF(), SelectKBest(chi2)]\n",
    "classif_l = [SVC(), LinearSVC(), KNeighborsClassifier(), DecisionTreeClassifier(), RandomForestClassifier(),\n",
    "             AdaBoostClassifier(), QuadraticDiscriminantAnalysis()]"
   ]
  },
  {
   "cell_type": "code",
   "execution_count": 7,
   "metadata": {},
   "outputs": [],
   "source": [
    "wine = datasets.load_wine()\n",
    "train_X, test_X, train_Y, test_Y = train_test_split(wine.data, wine.target, test_size = 0.25, random_state = 0)"
   ]
  },
  {
   "cell_type": "code",
   "execution_count": 8,
   "metadata": {},
   "outputs": [
    {
     "name": "stdout",
     "output_type": "stream",
     "text": [
      "Format:\n",
      "------------\n",
      "Classifier\n",
      "score\n",
      "cross-validation score\n",
      "------------\n",
      "\n",
      "SVC\n",
      "0.5111111111111111\n",
      "0.4680555555555556\n",
      "\n",
      "LinearSVC\n",
      "0.9111111111111111\n",
      "0.7623015873015874\n",
      "\n",
      "KNeighborsClassifier\n",
      "0.7333333333333333\n",
      "0.8009920634920635\n",
      "\n",
      "DecisionTreeClassifier\n",
      "0.9333333333333333\n",
      "0.8230158730158731\n",
      "\n",
      "RandomForestClassifier\n",
      "0.9777777777777777\n",
      "0.9569444444444445\n",
      "\n",
      "AdaBoostClassifier\n",
      "0.8666666666666667\n",
      "0.9109126984126984\n",
      "\n",
      "QuadraticDiscriminantAnalysis\n",
      "1.0\n",
      "0.4680555555555556\n",
      "\n"
     ]
    }
   ],
   "source": [
    "print(\"Format:\")\n",
    "print(\"------------\")\n",
    "print(\"Classifier\")\n",
    "print(\"score\")\n",
    "print(\"cross-validation score\")\n",
    "print(\"------------\")\n",
    "print()\n",
    "\n",
    "with warnings.catch_warnings():\n",
    "    warnings.simplefilter('ignore')\n",
    "    for classif in classif_l:\n",
    "        print(classif.__class__.__name__)\n",
    "        classif.fit(train_X, train_Y)\n",
    "        print(classif.score(test_X, test_Y))\n",
    "        print(cross_val_score(classif, test_X, test_Y).mean())\n",
    "        print()"
   ]
  },
  {
   "cell_type": "code",
   "execution_count": 9,
   "metadata": {},
   "outputs": [
    {
     "name": "stderr",
     "output_type": "stream",
     "text": [
      "C:\\Anaconda\\lib\\site-packages\\deap\\creator.py:141: RuntimeWarning: A class named 'PipeFitness' has already been created and it will be overwritten. Consider deleting previous creation of that class or rename it.\n",
      "  RuntimeWarning)\n",
      "C:\\Anaconda\\lib\\site-packages\\deap\\creator.py:141: RuntimeWarning: A class named 'Individual' has already been created and it will be overwritten. Consider deleting previous creation of that class or rename it.\n",
      "  RuntimeWarning)\n"
     ]
    },
    {
     "name": "stdout",
     "output_type": "stream",
     "text": [
      "\n",
      "Gen 1:\n",
      "\n",
      "Hall of fame:\n",
      "['standardscaler', 'minmaxscaler', 'linearsvc']\n",
      "['minmaxscaler-1', 'minmaxscaler-2', 'kneighborsclassifier']\n",
      "['minmaxscaler', 'kernelpca', 'linearsvc']\n",
      "['standardscaler', 'minmaxscaler', 'kneighborsclassifier']\n",
      "['minmaxscaler', 'standardscaler', 'svc']\n",
      "\n",
      "Gen 6:\n",
      "\n",
      "Hall of fame:\n",
      "['standardscaler', 'minmaxscaler', 'linearsvc']\n",
      "['minmaxscaler-1', 'minmaxscaler-2', 'kneighborsclassifier']\n",
      "['minmaxscaler', 'kernelpca', 'linearsvc']\n",
      "['standardscaler', 'minmaxscaler', 'kneighborsclassifier']\n",
      "['minmaxscaler', 'standardscaler', 'svc']\n",
      "\n",
      "Gen 11:\n",
      "\n",
      "Hall of fame:\n",
      "['standardscaler', 'minmaxscaler', 'linearsvc']\n",
      "['minmaxscaler-1', 'minmaxscaler-2', 'kneighborsclassifier']\n",
      "['minmaxscaler', 'kernelpca', 'linearsvc']\n",
      "['standardscaler', 'minmaxscaler', 'kneighborsclassifier']\n",
      "['minmaxscaler', 'standardscaler', 'svc']\n",
      "\n",
      "Gen 16:\n",
      "\n",
      "Hall of fame:\n",
      "['standardscaler', 'minmaxscaler', 'linearsvc']\n",
      "['minmaxscaler-1', 'minmaxscaler-2', 'kneighborsclassifier']\n",
      "['minmaxscaler', 'kernelpca', 'linearsvc']\n",
      "['standardscaler', 'minmaxscaler', 'kneighborsclassifier']\n",
      "['minmaxscaler', 'standardscaler', 'svc']\n",
      "\n",
      "Gen 21:\n",
      "\n",
      "Hall of fame:\n",
      "['standardscaler', 'minmaxscaler', 'linearsvc']\n",
      "['minmaxscaler-1', 'minmaxscaler-2', 'kneighborsclassifier']\n",
      "['minmaxscaler', 'kernelpca', 'linearsvc']\n",
      "['standardscaler', 'minmaxscaler', 'kneighborsclassifier']\n",
      "['minmaxscaler', 'standardscaler', 'svc']\n",
      "\n",
      "Gen 26:\n",
      "\n",
      "Hall of fame:\n",
      "['standardscaler', 'minmaxscaler', 'linearsvc']\n",
      "['minmaxscaler-1', 'minmaxscaler-2', 'kneighborsclassifier']\n",
      "['minmaxscaler', 'kernelpca', 'linearsvc']\n",
      "['standardscaler', 'minmaxscaler', 'kneighborsclassifier']\n",
      "['minmaxscaler', 'standardscaler', 'svc']\n",
      "\n",
      "Best pipeline test score: 1.0\n",
      "\n",
      "Score: 1.0, Pipe: ['standardscaler', 'minmaxscaler', 'linearsvc']\n",
      "Score: 0.35555555555555557, Pipe: ['minmaxscaler-1', 'minmaxscaler-2', 'kneighborsclassifier']\n",
      "Score: 1.0, Pipe: ['minmaxscaler', 'kernelpca', 'linearsvc']\n",
      "Score: 0.9777777777777777, Pipe: ['standardscaler', 'minmaxscaler', 'kneighborsclassifier']\n",
      "Score: 1.0, Pipe: ['minmaxscaler', 'standardscaler', 'svc']\n"
     ]
    }
   ],
   "source": [
    "clf = evopipe.EvoPipeClassifier(preproc_l, classif_l, 2, pop_size=50, ngen=30)\n",
    "clf.fit(train_X, train_Y)\n",
    "\n",
    "score = clf.score(test_X, test_Y)\n",
    "print(\"\\nBest pipeline test score: {}\\n\".format(score))\n",
    "\n",
    "best_pipes = clf.best_pipelines()\n",
    "\n",
    "for pipe in best_pipes:\n",
    "    pipe.fit(train_X, train_Y)\n",
    "    score = pipe.score(test_X, test_Y)\n",
    "    \n",
    "    pipe_named_steps = []\n",
    "    for key, val in pipe.steps:\n",
    "        pipe_named_steps.append(key)       \n",
    "    print(\"Score: {}, Pipe: {}\".format(score, pipe_named_steps))"
   ]
  },
  {
   "cell_type": "code",
   "execution_count": 10,
   "metadata": {},
   "outputs": [
    {
     "name": "stdout",
     "output_type": "stream",
     "text": [
      "gen\tavg     \tmin     \tmax    \n",
      "0  \t0.889982\t0.338787\t0.97018\n",
      "1  \t0.946011\t0.277806\t0.97018\n",
      "2  \t0.9366  \t0.277806\t0.97018\n",
      "3  \t0.957551\t0.376007\t0.97018\n",
      "4  \t0.969596\t0.948264\t0.97018\n",
      "5  \t0.966536\t0.803375\t0.97018\n",
      "6  \t0.954361\t0.292122\t0.97018\n",
      "7  \t0.968852\t0.933442\t0.97018\n",
      "8  \t0.966264\t0.803375\t0.97018\n",
      "9  \t0.968397\t0.925208\t0.97018\n",
      "10 \t0.965233\t0.730099\t0.97018\n",
      "11 \t0.969596\t0.948264\t0.97018\n",
      "12 \t0.96838 \t0.880213\t0.97018\n",
      "13 \t0.962031\t0.729548\t0.97018\n",
      "14 \t0.97018 \t0.97018 \t0.97018\n",
      "15 \t0.96989 \t0.955687\t0.97018\n",
      "16 \t0.970169\t0.969674\t0.97018\n",
      "17 \t0.968232\t0.887965\t0.97018\n",
      "18 \t0.966843\t0.803375\t0.97018\n",
      "19 \t0.958129\t0.367643\t0.97018\n",
      "20 \t0.96867 \t0.894705\t0.97018\n",
      "21 \t0.969162\t0.955511\t0.97018\n",
      "22 \t0.966843\t0.803375\t0.97018\n",
      "23 \t0.966874\t0.819055\t0.97018\n",
      "24 \t0.951604\t0.376007\t0.97018\n",
      "25 \t0.958119\t0.367643\t0.97018\n",
      "26 \t0.97018 \t0.97018 \t0.97018\n",
      "27 \t0.966102\t0.803375\t0.97018\n",
      "28 \t0.956935\t0.308461\t0.97018\n",
      "29 \t0.956921\t0.308461\t0.97018\n"
     ]
    },
    {
     "data": {
      "image/png": "[encoded data removed]",
      "text/plain": [
       "<matplotlib.figure.Figure at 0x2970a88feb8>"
      ]
     },
     "metadata": {},
     "output_type": "display_data"
    }
   ],
   "source": [
    "print(clf.logbook)\n",
    "\n",
    "gen = clf.logbook.select(\"gen\")\n",
    "avgs, mins, maxs, vars = clf.logbook.select(\"avg\", \"min\", \"max\", \"var\")\n",
    "\n",
    "sns.set()\n",
    "\n",
    "fig = plt.figure()\n",
    "ax1 = fig.add_subplot(111)\n",
    "ax1.plot(gen, avgs, label='Average')\n",
    "ax1.set_xlabel(\"Generation\")\n",
    "ax1.set_ylabel(\"Fitness\")\n",
    "\n",
    "ax1.plot(gen, maxs, label='Maximum')\n",
    "ax1.set_xlabel(\"Generation\")\n",
    "# ax1.set_ylabel(\"Maximum Fitness\")\n",
    "\n",
    "plt.show()"
   ]
  },
  {
   "cell_type": "code",
   "execution_count": null,
   "metadata": {},
   "outputs": [],
   "source": []
  }
 ],
 "metadata": {
  "kernelspec": {
   "display_name": "Python 3",
   "language": "python",
   "name": "python3"
  },
  "language_info": {
   "codemirror_mode": {
    "name": "ipython",
    "version": 3
   },
   "file_extension": ".py",
   "mimetype": "text/x-python",
   "name": "python",
   "nbconvert_exporter": "python",
   "pygments_lexer": "ipython3",
   "version": "3.6.4"
  }
 },
 "nbformat": 4,
 "nbformat_minor": 2
}
