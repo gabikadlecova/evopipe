{
 "cells": [
  {
   "cell_type": "code",
   "execution_count": 3,
   "metadata": {},
   "outputs": [],
   "source": [
    "from sklearn import preprocessing\n",
    "from sklearn import model_selection\n",
    "\n",
    "import evopipe\n",
    "import steps\n",
    "import warnings\n",
    "\n",
    "from sklearn.model_selection import train_test_split\n",
    "from sklearn import datasets\n",
    "\n",
    "import matplotlib.pyplot as plt\n",
    "import seaborn as sns"
   ]
  },
  {
   "cell_type": "code",
   "execution_count": 4,
   "metadata": {},
   "outputs": [],
   "source": [
    "digits = datasets.load_digits()\n",
    "train_X, test_X, train_Y, test_Y = train_test_split(digits.data, digits.target, test_size = 0.25, random_state = 0)\n",
    "\n",
    "params = steps.get_params(len(train_X[0]))"
   ]
  },
  {
   "cell_type": "code",
   "execution_count": 2,
   "metadata": {},
   "outputs": [
    {
     "name": "stdout",
     "output_type": "stream",
     "text": [
      "Format:\n",
      "------------\n",
      "Classifier\n",
      "score\n",
      "cross-validation score\n",
      "GridSearch score\n",
      "------------\n",
      "\n",
      "SVC\n"
     ]
    },
    {
     "ename": "NameError",
     "evalue": "name 'train_X' is not defined",
     "output_type": "error",
     "traceback": [
      "\u001b[1;31m---------------------------------------------------------------------------\u001b[0m",
      "\u001b[1;31mNameError\u001b[0m                                 Traceback (most recent call last)",
      "\u001b[1;32m<ipython-input-2-3cb680609c6e>\u001b[0m in \u001b[0;36m<module>\u001b[1;34m()\u001b[0m\n\u001b[0;32m     13\u001b[0m         \u001b[0mclassif\u001b[0m \u001b[1;33m=\u001b[0m \u001b[0mcls\u001b[0m\u001b[1;33m(\u001b[0m\u001b[1;33m)\u001b[0m\u001b[1;33m\u001b[0m\u001b[0m\n\u001b[0;32m     14\u001b[0m         \u001b[0mprint\u001b[0m\u001b[1;33m(\u001b[0m\u001b[0mclassif\u001b[0m\u001b[1;33m.\u001b[0m\u001b[0m__class__\u001b[0m\u001b[1;33m.\u001b[0m\u001b[0m__name__\u001b[0m\u001b[1;33m)\u001b[0m\u001b[1;33m\u001b[0m\u001b[0m\n\u001b[1;32m---> 15\u001b[1;33m         \u001b[0mclassif\u001b[0m\u001b[1;33m.\u001b[0m\u001b[0mfit\u001b[0m\u001b[1;33m(\u001b[0m\u001b[0mtrain_X\u001b[0m\u001b[1;33m,\u001b[0m \u001b[0mtrain_Y\u001b[0m\u001b[1;33m)\u001b[0m\u001b[1;33m\u001b[0m\u001b[0m\n\u001b[0m\u001b[0;32m     16\u001b[0m         \u001b[0mprint\u001b[0m\u001b[1;33m(\u001b[0m\u001b[0mclassif\u001b[0m\u001b[1;33m.\u001b[0m\u001b[0mscore\u001b[0m\u001b[1;33m(\u001b[0m\u001b[0mtest_X\u001b[0m\u001b[1;33m,\u001b[0m \u001b[0mtest_Y\u001b[0m\u001b[1;33m)\u001b[0m\u001b[1;33m)\u001b[0m\u001b[1;33m\u001b[0m\u001b[0m\n\u001b[0;32m     17\u001b[0m         \u001b[0mprint\u001b[0m\u001b[1;33m(\u001b[0m\u001b[0mmodel_selection\u001b[0m\u001b[1;33m.\u001b[0m\u001b[0mcross_val_score\u001b[0m\u001b[1;33m(\u001b[0m\u001b[0mclassif\u001b[0m\u001b[1;33m,\u001b[0m \u001b[0mtest_X\u001b[0m\u001b[1;33m,\u001b[0m \u001b[0mtest_Y\u001b[0m\u001b[1;33m)\u001b[0m\u001b[1;33m.\u001b[0m\u001b[0mmean\u001b[0m\u001b[1;33m(\u001b[0m\u001b[1;33m)\u001b[0m\u001b[1;33m)\u001b[0m\u001b[1;33m\u001b[0m\u001b[0m\n",
      "\u001b[1;31mNameError\u001b[0m: name 'train_X' is not defined"
     ]
    }
   ],
   "source": [
    "print(\"Format:\")\n",
    "print(\"------------\")\n",
    "print(\"Classifier\")\n",
    "print(\"score\")\n",
    "print(\"cross-validation score\")\n",
    "print(\"GridSearch score\")\n",
    "print(\"------------\")\n",
    "print()\n",
    "\n",
    "with warnings.catch_warnings():\n",
    "    warnings.simplefilter('ignore')\n",
    "    for name, cls in steps.clfs.items():\n",
    "        classif = cls()\n",
    "        print(classif.__class__.__name__)\n",
    "        classif.fit(train_X, train_Y)\n",
    "        print(classif.score(test_X, test_Y))\n",
    "        print(model_selection.cross_val_score(classif, test_X, test_Y).mean())\n",
    "        \n",
    "        pipe_params = params[name]\n",
    "        gs = model_selection.GridSearchCV(classif, pipe_params, n_jobs=-1, verbose=5)\n",
    "        gs.fit(train_X, train_Y)\n",
    "        \n",
    "        print(gs.best_params_)\n",
    "        print(gs.score(test_X, test_Y))\n",
    "        print()"
   ]
  },
  {
   "cell_type": "code",
   "execution_count": 19,
   "metadata": {},
   "outputs": [
    {
     "name": "stderr",
     "output_type": "stream",
     "text": [
      "C:\\Anaconda\\lib\\site-packages\\deap\\creator.py:141: RuntimeWarning: A class named 'PipeFitness' has already been created and it will be overwritten. Consider deleting previous creation of that class or rename it.\n",
      "  RuntimeWarning)\n",
      "C:\\Anaconda\\lib\\site-packages\\deap\\creator.py:141: RuntimeWarning: A class named 'Individual' has already been created and it will be overwritten. Consider deleting previous creation of that class or rename it.\n",
      "  RuntimeWarning)\n"
     ]
    },
    {
     "name": "stdout",
     "output_type": "stream",
     "text": [
      "\n",
      "Gen 6:\n",
      "\n",
      "Hall of fame:\n",
      "[('MLP', {'activation': 'relu', 'solver': 'lbfgs', 'alpha': 0.01, 'learning_rate': 'invscaling', 'tol': 0.0001, 'max_iter': 200, 'learning_rate_init': 0.01, 'power_t': 2, 'momentum': 0.1, 'hidden_layer_sizes': (20,)})]\n",
      "[('kBest', {'k': 64}), ('PAC', {'loss': 'squared_hinge', 'C': 0.5})]\n",
      "[('SGD', {'penalty': 'elasticnet', 'loss': 'hinge', 'n_iter': 5, 'alpha': 0.0001, 'l1_ratio': 0.5, 'epsilon': 0.5, 'learning_rate': 'optimal', 'eta0': 0.01, 'power_t': 0.5})]\n",
      "[('PAC', {'loss': 'squared_hinge', 'C': 0.5})]\n",
      "[('kBest', {'k': 64}), ('SGD', {'penalty': 'elasticnet', 'loss': 'hinge', 'n_iter': 5, 'alpha': 0.0001, 'l1_ratio': 0.5, 'epsilon': 0.5, 'learning_rate': 'optimal', 'eta0': 0.01, 'power_t': 0.5})]\n",
      "\n",
      "Gen 11:\n",
      "\n",
      "Hall of fame:\n",
      "[('MLP', {'activation': 'relu', 'solver': 'lbfgs', 'alpha': 0.01, 'learning_rate': 'invscaling', 'tol': 0.0001, 'max_iter': 200, 'learning_rate_init': 0.01, 'power_t': 2, 'momentum': 0.1, 'hidden_layer_sizes': (20,)})]\n",
      "[('kBest', {'k': 64}), ('PAC', {'loss': 'squared_hinge', 'C': 0.5})]\n",
      "[('SGD', {'penalty': 'elasticnet', 'loss': 'hinge', 'n_iter': 5, 'alpha': 0.0001, 'l1_ratio': 0.5, 'epsilon': 0.5, 'learning_rate': 'optimal', 'eta0': 0.01, 'power_t': 0.5})]\n",
      "[('PAC', {'loss': 'squared_hinge', 'C': 0.5})]\n",
      "[('kBest', {'k': 64}), ('SGD', {'penalty': 'elasticnet', 'loss': 'hinge', 'n_iter': 5, 'alpha': 0.0001, 'l1_ratio': 0.5, 'epsilon': 0.5, 'learning_rate': 'optimal', 'eta0': 0.01, 'power_t': 0.5})]\n",
      "\n",
      "Gen 16:\n",
      "\n",
      "Hall of fame:\n",
      "[('MLP', {'activation': 'relu', 'solver': 'lbfgs', 'alpha': 0.01, 'learning_rate': 'invscaling', 'tol': 0.0001, 'max_iter': 200, 'learning_rate_init': 0.01, 'power_t': 2, 'momentum': 0.1, 'hidden_layer_sizes': (20,)})]\n",
      "[('PAC', {'loss': 'squared_hinge', 'C': 0.5})]\n",
      "[('kBest', {'k': 64}), ('SGD', {'penalty': 'elasticnet', 'loss': 'hinge', 'n_iter': 5, 'alpha': 0.0001, 'l1_ratio': 0.5, 'epsilon': 0.5, 'learning_rate': 'optimal', 'eta0': 0.01, 'power_t': 0.5})]\n",
      "[('kBest', {'k': 64}), ('PAC', {'loss': 'squared_hinge', 'C': 0.5})]\n",
      "[('SGD', {'penalty': 'elasticnet', 'loss': 'hinge', 'n_iter': 5, 'alpha': 0.0001, 'l1_ratio': 0.5, 'epsilon': 0.5, 'learning_rate': 'optimal', 'eta0': 0.01, 'power_t': 0.5})]\n",
      "\n",
      "Gen 21:\n",
      "\n",
      "Hall of fame:\n",
      "[('MLP', {'activation': 'relu', 'solver': 'lbfgs', 'alpha': 0.01, 'learning_rate': 'invscaling', 'tol': 0.0001, 'max_iter': 200, 'learning_rate_init': 0.01, 'power_t': 2, 'momentum': 0.1, 'hidden_layer_sizes': (20,)})]\n",
      "[('PAC', {'loss': 'squared_hinge', 'C': 0.5})]\n",
      "[('kBest', {'k': 64}), ('SGD', {'penalty': 'elasticnet', 'loss': 'hinge', 'n_iter': 100, 'alpha': 0.0001, 'l1_ratio': 0.5, 'epsilon': 0.1, 'learning_rate': 'optimal', 'eta0': 0.01, 'power_t': 0.5})]\n",
      "[('SGD', {'penalty': 'elasticnet', 'loss': 'hinge', 'n_iter': 100, 'alpha': 0.0001, 'l1_ratio': 0.5, 'epsilon': 0.1, 'learning_rate': 'optimal', 'eta0': 0.01, 'power_t': 0.5})]\n",
      "[('SGD', {'penalty': 'elasticnet', 'loss': 'hinge', 'n_iter': 100, 'alpha': 0.0001, 'l1_ratio': 0.5, 'epsilon': 0.5, 'learning_rate': 'optimal', 'eta0': 0.01, 'power_t': 0.5})]\n",
      "\n",
      "Gen 26:\n",
      "\n",
      "Hall of fame:\n",
      "[('SGD', {'penalty': 'elasticnet', 'loss': 'hinge', 'n_iter': 100, 'alpha': 0.0001, 'l1_ratio': 0.5, 'epsilon': 0.1, 'learning_rate': 'optimal', 'eta0': 0.01, 'power_t': 0.5})]\n",
      "[('SGD', {'penalty': 'elasticnet', 'loss': 'hinge', 'n_iter': 100, 'alpha': 0.0001, 'l1_ratio': 0.5, 'epsilon': 0.5, 'learning_rate': 'optimal', 'eta0': 0.01, 'power_t': 0.5})]\n",
      "[('MLP', {'activation': 'relu', 'solver': 'lbfgs', 'alpha': 0.01, 'learning_rate': 'invscaling', 'tol': 0.0001, 'max_iter': 200, 'learning_rate_init': 0.01, 'power_t': 2, 'momentum': 0.1, 'hidden_layer_sizes': (20,)})]\n",
      "[('PAC', {'loss': 'squared_hinge', 'C': 0.5})]\n",
      "[('SGD', {'penalty': 'l1', 'loss': 'hinge', 'n_iter': 5, 'alpha': 0.0001, 'l1_ratio': 0.5, 'epsilon': 0.1, 'learning_rate': 'optimal', 'eta0': 0.01, 'power_t': 0.5})]\n",
      "\n",
      "Gen 31:\n",
      "\n",
      "Hall of fame:\n",
      "[('SGD', {'penalty': 'elasticnet', 'loss': 'hinge', 'n_iter': 100, 'alpha': 0.0001, 'l1_ratio': 0.5, 'epsilon': 0.1, 'learning_rate': 'optimal', 'eta0': 0.01, 'power_t': 0.5})]\n",
      "[('SGD', {'penalty': 'elasticnet', 'loss': 'hinge', 'n_iter': 100, 'alpha': 0.0001, 'l1_ratio': 0.5, 'epsilon': 0.5, 'learning_rate': 'optimal', 'eta0': 0.01, 'power_t': 0.5})]\n",
      "[('MLP', {'activation': 'relu', 'solver': 'lbfgs', 'alpha': 0.01, 'learning_rate': 'invscaling', 'tol': 0.0001, 'max_iter': 200, 'learning_rate_init': 0.01, 'power_t': 2, 'momentum': 0.1, 'hidden_layer_sizes': (20,)})]\n",
      "[('PAC', {'loss': 'squared_hinge', 'C': 0.5})]\n",
      "[('SGD', {'penalty': 'l1', 'loss': 'hinge', 'n_iter': 5, 'alpha': 0.0001, 'l1_ratio': 0.5, 'epsilon': 0.1, 'learning_rate': 'optimal', 'eta0': 0.01, 'power_t': 0.5})]\n",
      "\n",
      "Gen 36:\n",
      "\n",
      "Hall of fame:\n",
      "[('SGD', {'penalty': 'elasticnet', 'loss': 'hinge', 'n_iter': 100, 'alpha': 0.0001, 'l1_ratio': 0.5, 'epsilon': 0.1, 'learning_rate': 'optimal', 'eta0': 0.01, 'power_t': 0.5})]\n",
      "[('SGD', {'penalty': 'elasticnet', 'loss': 'hinge', 'n_iter': 100, 'alpha': 0.0001, 'l1_ratio': 0.5, 'epsilon': 0.5, 'learning_rate': 'optimal', 'eta0': 0.01, 'power_t': 0.5})]\n",
      "[('MLP', {'activation': 'relu', 'solver': 'lbfgs', 'alpha': 0.01, 'learning_rate': 'invscaling', 'tol': 0.0001, 'max_iter': 200, 'learning_rate_init': 0.01, 'power_t': 2, 'momentum': 0.1, 'hidden_layer_sizes': (20,)})]\n",
      "[('SGD', {'penalty': 'elasticnet', 'loss': 'hinge', 'n_iter': 100, 'alpha': 0.0001, 'l1_ratio': 0.5, 'epsilon': 0.1, 'learning_rate': 'optimal', 'eta0': 0.01, 'power_t': 2})]\n",
      "[('PAC', {'loss': 'squared_hinge', 'C': 0.5})]\n"
     ]
    },
    {
     "name": "stderr",
     "output_type": "stream",
     "text": [
      "C:\\Anaconda\\lib\\site-packages\\sklearn\\linear_model\\stochastic_gradient.py:117: DeprecationWarning: n_iter parameter is deprecated in 0.19 and will be removed in 0.21. Use max_iter and tol instead.\n",
      "  DeprecationWarning)\n"
     ]
    },
    {
     "name": "stdout",
     "output_type": "stream",
     "text": [
      "\n",
      "Best pipeline test score: 0.9466666666666667\n",
      "\n"
     ]
    },
    {
     "name": "stderr",
     "output_type": "stream",
     "text": [
      "C:\\Anaconda\\lib\\site-packages\\sklearn\\linear_model\\stochastic_gradient.py:117: DeprecationWarning: n_iter parameter is deprecated in 0.19 and will be removed in 0.21. Use max_iter and tol instead.\n",
      "  DeprecationWarning)\n"
     ]
    },
    {
     "name": "stdout",
     "output_type": "stream",
     "text": [
      "Score: 0.9444444444444444, Pipe: ['sgdclassifier']\n"
     ]
    },
    {
     "name": "stderr",
     "output_type": "stream",
     "text": [
      "C:\\Anaconda\\lib\\site-packages\\sklearn\\linear_model\\stochastic_gradient.py:117: DeprecationWarning: n_iter parameter is deprecated in 0.19 and will be removed in 0.21. Use max_iter and tol instead.\n",
      "  DeprecationWarning)\n"
     ]
    },
    {
     "name": "stdout",
     "output_type": "stream",
     "text": [
      "Score: 0.9422222222222222, Pipe: ['sgdclassifier']\n",
      "Score: 0.9622222222222222, Pipe: ['mlpclassifier']\n"
     ]
    },
    {
     "name": "stderr",
     "output_type": "stream",
     "text": [
      "C:\\Anaconda\\lib\\site-packages\\sklearn\\linear_model\\stochastic_gradient.py:117: DeprecationWarning: n_iter parameter is deprecated in 0.19 and will be removed in 0.21. Use max_iter and tol instead.\n",
      "  DeprecationWarning)\n"
     ]
    },
    {
     "name": "stdout",
     "output_type": "stream",
     "text": [
      "Score: 0.9444444444444444, Pipe: ['sgdclassifier']\n",
      "Score: 0.9488888888888889, Pipe: ['passiveaggressiveclassifier']\n"
     ]
    },
    {
     "name": "stderr",
     "output_type": "stream",
     "text": [
      "C:\\Anaconda\\lib\\site-packages\\sklearn\\linear_model\\stochastic_gradient.py:128: FutureWarning: max_iter and tol parameters have been added in <class 'sklearn.linear_model.passive_aggressive.PassiveAggressiveClassifier'> in 0.19. If both are left unset, they default to max_iter=5 and tol=None. If tol is not None, max_iter defaults to max_iter=1000. From 0.21, default max_iter will be 1000, and default tol will be 1e-3.\n",
      "  \"and default tol will be 1e-3.\" % type(self), FutureWarning)\n"
     ]
    }
   ],
   "source": [
    "clf = evopipe.EvoPipeClassifier(steps.preproc, steps.clfs, params)\n",
    "clf.fit(train_X, train_Y, test_X, test_Y)\n",
    "\n",
    "score = clf.score(test_X, test_Y)\n",
    "print(\"\\nBest pipeline test score: {}\\n\".format(score))\n",
    "\n",
    "best_pipes = clf.best_pipelines()\n",
    "\n",
    "for pipe in best_pipes:\n",
    "    pipe.fit(train_X, train_Y)\n",
    "    score = pipe.score(test_X, test_Y)\n",
    "    \n",
    "    pipe_named_steps = []\n",
    "    for key, val in pipe.steps:\n",
    "        pipe_named_steps.append(key)       \n",
    "    print(\"Score: {}, Pipe: {}\".format(score, pipe_named_steps))"
   ]
  },
  {
   "cell_type": "code",
   "execution_count": 20,
   "metadata": {},
   "outputs": [
    {
     "name": "stdout",
     "output_type": "stream",
     "text": [
      "   \t                    fitness                     \t                   train_test                   \n",
      "   \t------------------------------------------------\t------------------------------------------------\n",
      "gen\tgen\tavg     \tmin     \tmax     \tgen\tavg     \tmin     \tmax     \n",
      "0  \t   \t0.178628\t0       \t0.959231\t   \t0.176148\t0       \t0.96    \n",
      "1  \t   \t0.378838\t0       \t0.959231\t   \t0.372741\t0       \t0.96    \n",
      "2  \t   \t0.695521\t0       \t0.959231\t   \t0.673778\t0       \t0.96    \n",
      "3  \t   \t0.860574\t0       \t0.959231\t   \t0.845185\t0       \t0.96    \n",
      "4  \t   \t0.939956\t0.859638\t0.959231\t   \t0.943259\t0.835556\t0.96    \n",
      "5  \t   \t0.947567\t0.933201\t0.949693\t   \t0.945111\t0.915556\t0.955556\n",
      "6  \t   \t0.948487\t0.947997\t0.951137\t   \t0.944148\t0.937778\t0.951111\n",
      "7  \t   \t0.948529\t0.942866\t0.951137\t   \t0.942667\t0.937778\t0.951111\n",
      "8  \t   \t0.948512\t0.943552\t0.951137\t   \t0.941481\t0.937778\t0.951111\n",
      "9  \t   \t0.947997\t0.940753\t0.951137\t   \t0.938963\t0.924444\t0.951111\n",
      "10 \t   \t0.948766\t0.940753\t0.951137\t   \t0.940593\t0.924444\t0.951111\n",
      "11 \t   \t0.949146\t0.940717\t0.951137\t   \t0.939259\t0.913333\t0.96    \n",
      "12 \t   \t0.949166\t0.939479\t0.951137\t   \t0.940519\t0.913333\t0.951111\n",
      "13 \t   \t0.950935\t0.944501\t0.952579\t   \t0.940296\t0.933333\t0.942222\n",
      "14 \t   \t0.94622 \t0.841077\t0.95914 \t   \t0.929259\t0.833333\t0.942222\n",
      "15 \t   \t0.954767\t0.948005\t0.95914 \t   \t0.933407\t0.928889\t0.942222\n",
      "16 \t   \t0.954718\t0.948154\t0.95914 \t   \t0.934   \t0.928889\t0.942222\n",
      "17 \t   \t0.955927\t0.942232\t0.95914 \t   \t0.93437 \t0.928889\t0.942222\n",
      "18 \t   \t0.957842\t0.95469 \t0.95914 \t   \t0.933111\t0.928889\t0.944444\n",
      "19 \t   \t0.958893\t0.95469 \t0.960608\t   \t0.934444\t0.928889\t0.944444\n",
      "20 \t   \t0.959355\t0.956908\t0.960608\t   \t0.936074\t0.928889\t0.942222\n",
      "21 \t   \t0.960115\t0.956908\t0.960608\t   \t0.940815\t0.928889\t0.946667\n",
      "22 \t   \t0.960439\t0.95914 \t0.960608\t   \t0.942963\t0.928889\t0.951111\n",
      "23 \t   \t0.960534\t0.955334\t0.96136 \t   \t0.942667\t0.937778\t0.951111\n",
      "24 \t   \t0.960497\t0.957677\t0.962113\t   \t0.943481\t0.937778\t0.948889\n",
      "25 \t   \t0.960561\t0.958402\t0.962113\t   \t0.944667\t0.942222\t0.948889\n",
      "26 \t   \t0.960992\t0.960598\t0.962113\t   \t0.945185\t0.94    \t0.948889\n",
      "27 \t   \t0.960601\t0.950178\t0.962113\t   \t0.943852\t0.931111\t0.948889\n",
      "28 \t   \t0.962444\t0.960598\t0.96663 \t   \t0.944   \t0.937778\t0.948889\n",
      "29 \t   \t0.962881\t0.958316\t0.96663 \t   \t0.941926\t0.931111\t0.948889\n",
      "30 \t   \t0.961402\t0.951776\t0.96663 \t   \t0.942   \t0.931111\t0.948889\n",
      "31 \t   \t0.963585\t0.953253\t0.96663 \t   \t0.939407\t0.931111\t0.948889\n",
      "32 \t   \t0.964886\t0.959191\t0.96663 \t   \t0.938519\t0.931111\t0.948889\n",
      "33 \t   \t0.964217\t0.956167\t0.96663 \t   \t0.938963\t0.931111\t0.946667\n",
      "34 \t   \t0.964841\t0.961263\t0.96663 \t   \t0.937037\t0.935556\t0.937778\n",
      "35 \t   \t0.963784\t0.924969\t0.96663 \t   \t0.937333\t0.926667\t0.94    \n",
      "36 \t   \t0.965351\t0.955411\t0.96663 \t   \t0.937852\t0.935556\t0.944444\n",
      "37 \t   \t0.964662\t0.94874 \t0.96663 \t   \t0.936593\t0.926667\t0.937778\n",
      "38 \t   \t0.964542\t0.94874 \t0.96663 \t   \t0.937926\t0.926667\t0.944444\n",
      "39 \t   \t0.965915\t0.945181\t0.96663 \t   \t0.937852\t0.937778\t0.94    \n"
     ]
    },
    {
     "data": {
      "image/png": "[encoded data removed]",
      "text/plain": [
       "<matplotlib.figure.Figure at 0x211173a44a8>"
      ]
     },
     "metadata": {},
     "output_type": "display_data"
    }
   ],
   "source": [
    "print(clf.logbook)\n",
    "\n",
    "gen = clf.logbook.select(\"gen\")\n",
    "avgs, mins, maxs, vars = clf.logbook.chapters[\"fitness\"].select(\"avg\", \"min\", \"max\", \"var\")\n",
    "avgs_tt, mins_tt, maxs_tt, vars_tt = clf.logbook.chapters[\"train_test\"].select(\"avg\", \"min\", \"max\", \"var\")\n",
    "\n",
    "sns.set()\n",
    "\n",
    "fig = plt.figure()\n",
    "ax1 = fig.add_subplot(111)\n",
    "ax1.plot(gen, avgs, label='Average')\n",
    "ax1.set_xlabel(\"Generation\")\n",
    "ax1.set_ylabel(\"Fitness\")\n",
    "\n",
    "ax1.plot(gen, maxs, label='Maximum')\n",
    "\n",
    "ax1.plot(gen, maxs_tt, label='Maximum test')\n",
    "ax1.plot(gen, avgs_tt, label='Average test')\n",
    "\n",
    "plt.show()"
   ]
  },
  {
   "cell_type": "code",
   "execution_count": null,
   "metadata": {},
   "outputs": [],
   "source": []
  }
 ],
 "metadata": {
  "kernelspec": {
   "display_name": "Python 3",
   "language": "python",
   "name": "python3"
  },
  "language_info": {
   "codemirror_mode": {
    "name": "ipython",
    "version": 3
   },
   "file_extension": ".py",
   "mimetype": "text/x-python",
   "name": "python",
   "nbconvert_exporter": "python",
   "pygments_lexer": "ipython3",
   "version": "3.6.4"
  }
 },
 "nbformat": 4,
 "nbformat_minor": 2
}
