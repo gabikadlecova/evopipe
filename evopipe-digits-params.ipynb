{
 "cells": [
  {
   "cell_type": "code",
   "execution_count": null,
   "metadata": {},
   "outputs": [],
   "source": [
    "from sklearn import preprocessing\n",
    "from sklearn import model_selection\n",
    "\n",
    "import evopipe\n",
    "import steps\n",
    "import warnings\n",
    "\n",
    "from sklearn.model_selection import train_test_split\n",
    "from sklearn import datasets\n",
    "\n",
    "import matplotlib.pyplot as plt\n",
    "import seaborn as sns"
   ]
  },
  {
   "cell_type": "code",
   "execution_count": null,
   "metadata": {},
   "outputs": [],
   "source": [
    "digits = datasets.load_digits()\n",
    "train_X, test_X, train_Y, test_Y = train_test_split(digits.data, digits.target, test_size = 0.25, random_state = 0)"
   ]
  },
  {
   "cell_type": "code",
   "execution_count": null,
   "metadata": {},
   "outputs": [],
   "source": [
    "print(\"Format:\")\n",
    "print(\"------------\")\n",
    "print(\"Classifier\")\n",
    "print(\"score\")\n",
    "print(\"cross-validation score\")\n",
    "print(\"GridSearch score\")\n",
    "print(\"------------\")\n",
    "print()\n",
    "\n",
    "with warnings.catch_warnings():\n",
    "    warnings.simplefilter('ignore')\n",
    "    for name, cls in steps.clfs.items():\n",
    "        classif = cls()\n",
    "        print(classif.__class__.__name__)\n",
    "        classif.fit(train_X, train_Y)\n",
    "        print(classif.score(test_X, test_Y))\n",
    "        print(model_selection.cross_val_score(classif, test_X, test_Y).mean())\n",
    "        \n",
    "        params = steps.params[name]\n",
    "        gs = model_selection.GridSearchCV(classif, params, n_jobs=-1)\n",
    "        gs.fit(train_X, train_Y)\n",
    "        \n",
    "        print(gs)\n",
    "        print(gs.score(test_X, test_Y))\n",
    "        print()"
   ]
  },
  {
   "cell_type": "code",
   "execution_count": 4,
   "metadata": {},
   "outputs": [
    {
     "name": "stdout",
     "output_type": "stream",
     "text": [
      "\n",
      "Gen 1:\n",
      "\n",
      "Hall of fame:\n",
      "[('PCA', {'whiten': False}), ('PCA', {'whiten': False}), ('QDA', {'reg_param': 0.5, 'tol': 0.001})]\n",
      "[('PCA', {'whiten': True}), ('kBest', {}), ('PCA', {'whiten': False}), ('kBest', {}), ('SVC', {'C': 15, 'gamma': 'auto', 'tol': 0.0001})]\n",
      "[('PCA', {'whiten': False}), ('PCA', {'whiten': False}), ('SVC', {'C': 2, 'gamma': 0.0001, 'tol': 0.001})]\n",
      "[('PCA', {'whiten': False}), ('kBest', {}), ('kBest', {}), ('PCA', {'whiten': False}), ('MLP', {'activation': 'logistic', 'solver': 'adam', 'alpha': 0.01, 'learning_rate': 'constant', 'tol': 0.0001, 'max_iter': 100, 'learning_rate_init': 0.01, 'power_t': 0.5, 'momentum': 0.1, 'hidden_layer_sizes': (100,)})]\n",
      "[('PCA', {'whiten': True}), ('PCA', {'whiten': True}), ('PCA', {'whiten': False}), ('logR', {'penalty': 'l2', 'C': 0.1, 'tol': 0.0001, 'solver': 'sag'})]\n",
      "\n",
      "Gen 6:\n",
      "\n",
      "Hall of fame:\n",
      "[('PCA', {'whiten': False}), ('PCA', {'whiten': False}), ('QDA', {'reg_param': 0.5, 'tol': 0.001})]\n",
      "[('PCA', {'whiten': True}), ('kBest', {}), ('PCA', {'whiten': False}), ('PCA', {'whiten': False}), ('SVC', {'C': 15, 'gamma': 'auto', 'tol': 0.0001})]\n",
      "[('PCA', {'whiten': True}), ('kBest', {}), ('PCA', {'whiten': False}), ('kBest', {}), ('SVC', {'C': 15, 'gamma': 'auto', 'tol': 0.0001})]\n",
      "[('PCA', {'whiten': False}), ('SVC', {'C': 2, 'gamma': 0.0001, 'tol': 0.001})]\n",
      "[('PCA', {'whiten': False}), ('PCA', {'whiten': False}), ('SVC', {'C': 2, 'gamma': 0.0001, 'tol': 0.001})]\n",
      "\n",
      "Gen 11:\n",
      "\n",
      "Hall of fame:\n",
      "[('PCA', {'whiten': False}), ('PCA', {'whiten': False}), ('QDA', {'reg_param': 0.5, 'tol': 0.001})]\n",
      "[('PCA', {'whiten': True}), ('kBest', {}), ('PCA', {'whiten': False}), ('PCA', {'whiten': False}), ('SVC', {'C': 15, 'gamma': 'auto', 'tol': 0.0001})]\n",
      "[('PCA', {'whiten': True}), ('kBest', {}), ('PCA', {'whiten': False}), ('kBest', {}), ('SVC', {'C': 15, 'gamma': 'auto', 'tol': 0.0001})]\n",
      "[('PCA', {'whiten': False}), ('SVC', {'C': 2, 'gamma': 0.0001, 'tol': 0.001})]\n",
      "[('PCA', {'whiten': False}), ('PCA', {'whiten': False}), ('SVC', {'C': 2, 'gamma': 0.0001, 'tol': 0.001})]\n",
      "\n",
      "Gen 16:\n",
      "\n",
      "Hall of fame:\n",
      "[('PCA', {'whiten': False}), ('PCA', {'whiten': False}), ('QDA', {'reg_param': 0.5, 'tol': 0.001})]\n",
      "[('PCA', {'whiten': True}), ('kBest', {}), ('PCA', {'whiten': False}), ('PCA', {'whiten': False}), ('SVC', {'C': 15, 'gamma': 'auto', 'tol': 0.0001})]\n",
      "[('PCA', {'whiten': True}), ('kBest', {}), ('PCA', {'whiten': False}), ('kBest', {}), ('SVC', {'C': 15, 'gamma': 'auto', 'tol': 0.0001})]\n",
      "[('PCA', {'whiten': False}), ('SVC', {'C': 2, 'gamma': 0.0001, 'tol': 0.001})]\n",
      "[('PCA', {'whiten': False}), ('PCA', {'whiten': False}), ('SVC', {'C': 2, 'gamma': 0.0001, 'tol': 0.001})]\n",
      "\n",
      "Gen 21:\n",
      "\n",
      "Hall of fame:\n",
      "[('PCA', {'whiten': False}), ('PCA', {'whiten': False}), ('QDA', {'reg_param': 0.5, 'tol': 0.001})]\n",
      "[('PCA', {'whiten': True}), ('kBest', {}), ('PCA', {'whiten': False}), ('PCA', {'whiten': False}), ('SVC', {'C': 15, 'gamma': 'auto', 'tol': 0.0001})]\n",
      "[('PCA', {'whiten': True}), ('kBest', {}), ('PCA', {'whiten': False}), ('kBest', {}), ('SVC', {'C': 15, 'gamma': 'auto', 'tol': 0.0001})]\n",
      "[('PCA', {'whiten': False}), ('SVC', {'C': 2, 'gamma': 0.0001, 'tol': 0.001})]\n",
      "[('PCA', {'whiten': False}), ('PCA', {'whiten': False}), ('SVC', {'C': 2, 'gamma': 0.0001, 'tol': 0.001})]\n",
      "\n",
      "Gen 26:\n",
      "\n",
      "Hall of fame:\n",
      "[('PCA', {'whiten': False}), ('PCA', {'whiten': False}), ('QDA', {'reg_param': 0.5, 'tol': 0.001})]\n",
      "[('PCA', {'whiten': True}), ('kBest', {}), ('PCA', {'whiten': False}), ('PCA', {'whiten': False}), ('SVC', {'C': 15, 'gamma': 'auto', 'tol': 0.0001})]\n",
      "[('PCA', {'whiten': True}), ('kBest', {}), ('PCA', {'whiten': False}), ('kBest', {}), ('SVC', {'C': 15, 'gamma': 'auto', 'tol': 0.0001})]\n",
      "[('PCA', {'whiten': False}), ('SVC', {'C': 2, 'gamma': 0.0001, 'tol': 0.001})]\n",
      "[('PCA', {'whiten': False}), ('PCA', {'whiten': False}), ('SVC', {'C': 2, 'gamma': 0.0001, 'tol': 0.001})]\n",
      "\n",
      "Gen 31:\n",
      "\n",
      "Hall of fame:\n",
      "[('PCA', {'whiten': False}), ('PCA', {'whiten': False}), ('QDA', {'reg_param': 0.5, 'tol': 0.001})]\n",
      "[('PCA', {'whiten': True}), ('kBest', {}), ('PCA', {'whiten': False}), ('PCA', {'whiten': False}), ('SVC', {'C': 15, 'gamma': 'auto', 'tol': 0.0001})]\n",
      "[('PCA', {'whiten': True}), ('kBest', {}), ('PCA', {'whiten': False}), ('kBest', {}), ('SVC', {'C': 15, 'gamma': 'auto', 'tol': 0.0001})]\n",
      "[('PCA', {'whiten': False}), ('SVC', {'C': 2, 'gamma': 0.0001, 'tol': 0.001})]\n",
      "[('PCA', {'whiten': False}), ('PCA', {'whiten': False}), ('SVC', {'C': 2, 'gamma': 0.0001, 'tol': 0.001})]\n",
      "\n",
      "Gen 36:\n",
      "\n",
      "Hall of fame:\n",
      "[('PCA', {'whiten': False}), ('PCA', {'whiten': False}), ('QDA', {'reg_param': 0.5, 'tol': 0.0001})]\n",
      "[('PCA', {'whiten': False}), ('PCA', {'whiten': False}), ('QDA', {'reg_param': 0.5, 'tol': 0.001})]\n",
      "[('PCA', {'whiten': True}), ('kBest', {}), ('PCA', {'whiten': False}), ('PCA', {'whiten': False}), ('SVC', {'C': 15, 'gamma': 'auto', 'tol': 0.0001})]\n",
      "[('PCA', {'whiten': True}), ('kBest', {}), ('PCA', {'whiten': False}), ('kBest', {}), ('SVC', {'C': 15, 'gamma': 'auto', 'tol': 0.0001})]\n",
      "[('PCA', {'whiten': False}), ('SVC', {'C': 2, 'gamma': 0.0001, 'tol': 0.001})]\n"
     ]
    },
    {
     "name": "stderr",
     "output_type": "stream",
     "text": [
      "C:\\Anaconda\\lib\\site-packages\\sklearn\\discriminant_analysis.py:682: UserWarning: Variables are collinear\n",
      "  warnings.warn(\"Variables are collinear\")\n",
      "C:\\Anaconda\\lib\\site-packages\\sklearn\\discriminant_analysis.py:682: UserWarning: Variables are collinear\n",
      "  warnings.warn(\"Variables are collinear\")\n",
      "C:\\Anaconda\\lib\\site-packages\\sklearn\\discriminant_analysis.py:682: UserWarning: Variables are collinear\n",
      "  warnings.warn(\"Variables are collinear\")\n"
     ]
    },
    {
     "name": "stdout",
     "output_type": "stream",
     "text": [
      "\n",
      "Best pipeline test score: 0.9888888888888889\n",
      "\n",
      "Score: 0.9888888888888889, Pipe: ['pca-1', 'pca-2', 'quadraticdiscriminantanalysis']\n",
      "Score: 0.9888888888888889, Pipe: ['pca-1', 'pca-2', 'quadraticdiscriminantanalysis']\n",
      "Score: 0.98, Pipe: ['pca-1', 'selectkbest', 'pca-2', 'pca-3', 'svc']\n",
      "Score: 0.98, Pipe: ['pca-1', 'selectkbest-1', 'pca-2', 'selectkbest-2', 'svc']\n",
      "Score: 0.9844444444444445, Pipe: ['pca', 'svc']\n"
     ]
    }
   ],
   "source": [
    "clf = evopipe.EvoPipeClassifier(steps.preproc, steps.clfs, steps.params)\n",
    "clf.fit(train_X, train_Y)\n",
    "\n",
    "score = clf.score(test_X, test_Y)\n",
    "print(\"\\nBest pipeline test score: {}\\n\".format(score))\n",
    "\n",
    "best_pipes = clf.best_pipelines()\n",
    "\n",
    "for pipe in best_pipes:\n",
    "    pipe.fit(train_X, train_Y)\n",
    "    score = pipe.score(test_X, test_Y)\n",
    "    \n",
    "    pipe_named_steps = []\n",
    "    for key, val in pipe.steps:\n",
    "        pipe_named_steps.append(key)       \n",
    "    print(\"Score: {}, Pipe: {}\".format(score, pipe_named_steps))"
   ]
  },
  {
   "cell_type": "code",
   "execution_count": 5,
   "metadata": {},
   "outputs": [
    {
     "name": "stdout",
     "output_type": "stream",
     "text": [
      "gen\tavg     \tmin     \tmax     \n",
      "0  \t0.898095\t0.639246\t0.983662\n",
      "1  \t0.947593\t0.824013\t0.983662\n",
      "2  \t0.963506\t0.896022\t0.983662\n",
      "3  \t0.966942\t0.719987\t0.983662\n",
      "4  \t0.97808 \t0.968838\t0.983662\n",
      "5  \t0.982873\t0.977728\t0.983662\n",
      "6  \t0.982721\t0.969546\t0.983662\n",
      "7  \t0.983662\t0.983662\t0.983662\n",
      "8  \t0.983662\t0.983662\t0.983662\n",
      "9  \t0.983662\t0.983662\t0.983662\n",
      "10 \t0.983662\t0.983662\t0.983662\n",
      "11 \t0.983662\t0.983662\t0.983662\n",
      "12 \t0.983662\t0.983662\t0.983662\n",
      "13 \t0.983662\t0.983662\t0.983662\n",
      "14 \t0.983662\t0.983662\t0.983662\n",
      "15 \t0.983662\t0.983662\t0.983662\n",
      "16 \t0.983662\t0.983662\t0.983662\n",
      "17 \t0.983662\t0.983662\t0.983662\n",
      "18 \t0.983662\t0.983662\t0.983662\n",
      "19 \t0.983662\t0.983662\t0.983662\n",
      "20 \t0.983662\t0.983662\t0.983662\n",
      "21 \t0.983662\t0.983662\t0.983662\n",
      "22 \t0.983662\t0.983662\t0.983662\n",
      "23 \t0.983662\t0.983662\t0.983662\n",
      "24 \t0.983662\t0.983662\t0.983662\n",
      "25 \t0.983662\t0.983662\t0.983662\n",
      "26 \t0.983662\t0.983662\t0.983662\n",
      "27 \t0.983662\t0.983662\t0.983662\n",
      "28 \t0.983662\t0.983662\t0.983662\n",
      "29 \t0.983662\t0.983662\t0.983662\n",
      "30 \t0.983662\t0.983662\t0.983662\n",
      "31 \t0.983662\t0.983662\t0.983662\n",
      "32 \t0.983662\t0.983662\t0.983662\n",
      "33 \t0.983662\t0.983662\t0.983662\n",
      "34 \t0.983662\t0.983662\t0.983662\n",
      "35 \t0.983662\t0.983662\t0.983662\n",
      "36 \t0.983662\t0.983662\t0.983662\n",
      "37 \t0.983662\t0.983662\t0.983662\n",
      "38 \t0.983662\t0.983662\t0.983662\n",
      "39 \t0.983662\t0.983662\t0.983662\n"
     ]
    },
    {
     "data": {
      "image/png": "[encoded data removed]",
      "text/plain": [
       "<matplotlib.figure.Figure at 0x2022a5d4898>"
      ]
     },
     "metadata": {},
     "output_type": "display_data"
    }
   ],
   "source": [
    "print(clf.logbook)\n",
    "\n",
    "gen = clf.logbook.select(\"gen\")\n",
    "avgs, mins, maxs, vars = clf.logbook.select(\"avg\", \"min\", \"max\", \"var\")\n",
    "\n",
    "sns.set()\n",
    "\n",
    "fig = plt.figure()\n",
    "ax1 = fig.add_subplot(111)\n",
    "ax1.plot(gen, avgs, label='Average')\n",
    "ax1.set_xlabel(\"Generation\")\n",
    "ax1.set_ylabel(\"Fitness\")\n",
    "\n",
    "ax1.plot(gen, maxs, label='Maximum')\n",
    "ax1.set_xlabel(\"Generation\")\n",
    "# ax1.set_ylabel(\"Maximum Fitness\")\n",
    "\n",
    "plt.show()"
   ]
  },
  {
   "cell_type": "code",
   "execution_count": null,
   "metadata": {},
   "outputs": [],
   "source": []
  }
 ],
 "metadata": {
  "kernelspec": {
   "display_name": "Python 3",
   "language": "python",
   "name": "python3"
  },
  "language_info": {
   "codemirror_mode": {
    "name": "ipython",
    "version": 3
   },
   "file_extension": ".py",
   "mimetype": "text/x-python",
   "name": "python",
   "nbconvert_exporter": "python",
   "pygments_lexer": "ipython3",
   "version": "3.6.4"
  }
 },
 "nbformat": 4,
 "nbformat_minor": 2
}
