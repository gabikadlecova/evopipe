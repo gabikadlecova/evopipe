{
 "cells": [
  {
   "cell_type": "code",
   "execution_count": 1,
   "metadata": {},
   "outputs": [],
   "source": [
    "import pandas as pd\n",
    "from sklearn import preprocessing\n",
    "from sklearn import model_selection\n",
    "\n",
    "from evopipe import steps, evopipe\n",
    "\n",
    "from sklearn.model_selection import train_test_split\n",
    "from sklearn import metrics\n",
    "\n",
    "import matplotlib.pyplot as plt\n",
    "import seaborn as sns"
   ]
  },
  {
   "cell_type": "code",
   "execution_count": 2,
   "metadata": {},
   "outputs": [],
   "source": [
    "filename = 'datasets/magic.csv'\n",
    "\n",
    "data = pd.read_csv(filename, sep=',')\n",
    "features = data[data.columns[:-1]]\n",
    "target = data[data.columns[-1]]\n",
    "le = preprocessing.LabelEncoder()\n",
    "\n",
    "ix = target.index\n",
    "target = pd.Series(le.fit_transform(target), index=ix)\n",
    "\n",
    "train_X, test_X, train_Y, test_Y = train_test_split(features, target, test_size = 0.25, random_state = 0)\n",
    "\n",
    "params = steps.get_params(len(train_X.iloc[0]))"
   ]
  },
  {
   "cell_type": "code",
   "execution_count": null,
   "metadata": {},
   "outputs": [
    {
     "name": "stdout",
     "output_type": "stream",
     "text": [
      "evaluating: [('FA', OrderedDict([('n_components', 2)]), 'featsel'), ('DT', OrderedDict([('criterion', 'entropy'), ('max_depth', 100), ('max_features', 0.5), ('min_samples_leaf', 10), ('min_samples_split', 10)]))]"
     ]
    }
   ],
   "source": [
    "# score is accuracy for magic\n",
    "clf = evopipe.EvoPipeClassifier(steps.preproc, steps.clfs, params, ['featsel', 'scaling'], pop_size=300, ngen=30, mutpb=0.5, swap_mutpb=0.2,\n",
    "                                param_mutpb=0.85, ind_mutpb=0.8, len_mutpb=0.5)\n",
    "clf.fit(train_X, train_Y, test_X, test_Y)\n",
    "\n",
    "score = clf.score(test_X, test_Y)\n",
    "print(\"\\nBest pipeline test score: {}\\n\".format(score))\n",
    "\n",
    "best_pipes = clf.best_pipelines()\n",
    "\n",
    "for pipe, score in best_pipes:\n",
    "    pipe.fit(train_X, train_Y)\n",
    "    # res_Y = pipe.predict(test_X)\n",
    "    \n",
    "    # score = metrics.cohen_kappa_score(test_Y, res_Y, weights='quadratic')\n",
    "    \n",
    "    pipe_named_steps = []\n",
    "    for key, val in pipe.steps:\n",
    "        pipe_named_steps.append(key)       \n",
    "    print(\"Score: {}, Pipe: {}\".format(score, pipe_named_steps))"
   ]
  },
  {
   "cell_type": "code",
   "execution_count": null,
   "metadata": {},
   "outputs": [],
   "source": [
    "print(clf.logbook)\n",
    "\n",
    "gen = clf.logbook.select(\"gen\")\n",
    "avgs, mins, maxs, vars = clf.logbook.chapters[\"fitness\"].select(\"avg\", \"min\", \"max\", \"var\")\n",
    "avgs_tt, mins_tt, maxs_tt, vars_tt = clf.logbook.chapters[\"train_test\"].select(\"avg\", \"min\", \"max\", \"var\")\n",
    "\n",
    "sns.set()\n",
    "\n",
    "fig = plt.figure()\n",
    "ax1 = fig.add_subplot(111)\n",
    "line1 = ax1.plot(gen, maxs, label='Maximum Fitness')\n",
    "ax1.set_xlabel(\"Generation\")\n",
    "ax1.set_ylabel(\"Fitness\")\n",
    "\n",
    "line2 = ax1.plot(gen, avgs, label='Average Fitness')\n",
    "\n",
    "line3 = ax1.plot(gen, maxs_tt, label='Maximum Test score')\n",
    "line4 = ax1.plot(gen, avgs_tt, label='Average Test score')\n",
    "\n",
    "lines = line1 + line2 + line3 + line4\n",
    "labels = [l.get_label() for l in lines]\n",
    "legend = plt.legend(lines, labels, loc='lower right', frameon=True)\n",
    "\n",
    "\n",
    "plt.show()"
   ]
  },
  {
   "cell_type": "code",
   "execution_count": null,
   "metadata": {},
   "outputs": [],
   "source": []
  }
 ],
 "metadata": {
  "kernelspec": {
   "display_name": "Python 3",
   "language": "python",
   "name": "python3"
  },
  "language_info": {
   "codemirror_mode": {
    "name": "ipython",
    "version": 3
   },
   "file_extension": ".py",
   "mimetype": "text/x-python",
   "name": "python",
   "nbconvert_exporter": "python",
   "pygments_lexer": "ipython3",
   "version": "3.6.4"
  }
 },
 "nbformat": 4,
 "nbformat_minor": 2
}
