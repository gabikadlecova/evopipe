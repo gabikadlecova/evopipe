{
 "cells": [
  {
   "cell_type": "code",
   "execution_count": 1,
   "metadata": {},
   "outputs": [],
   "source": [
    "import pandas as pd\n",
    "from sklearn import preprocessing\n",
    "from sklearn import model_selection\n",
    "\n",
    "import evopipe\n",
    "import steps\n",
    "import warnings\n",
    "\n",
    "from sklearn.model_selection import train_test_split\n",
    "from sklearn import datasets\n",
    "from sklearn import metrics\n",
    "\n",
    "import matplotlib.pyplot as plt\n",
    "import seaborn as sns"
   ]
  },
  {
   "cell_type": "code",
   "execution_count": 2,
   "metadata": {},
   "outputs": [],
   "source": [
    "filename = 'wilt-train.csv'\n",
    "\n",
    "data = pd.read_csv(filename, sep=',')\n",
    "train_X = data[data.columns[1:]]\n",
    "train_Y = data[data.columns[0]]\n",
    "le = preprocessing.LabelEncoder()\n",
    "\n",
    "ix = train_Y.index\n",
    "train_Y = pd.Series(le.fit_transform(train_Y), index=ix)\n",
    "\n",
    "\n",
    "test_filename = 'wilt-test.csv'\n",
    "\n",
    "data = pd.read_csv(test_filename, sep=',')\n",
    "test_X = data[data.columns[1:]]\n",
    "test_Y = data[data.columns[0]]\n",
    "le = preprocessing.LabelEncoder()\n",
    "\n",
    "ix = test_Y.index\n",
    "test_Y = pd.Series(le.fit_transform(test_Y), index=ix)\n",
    "\n",
    "params = steps.get_params(len(train_X.iloc[0]))"
   ]
  },
  {
   "cell_type": "code",
   "execution_count": 6,
   "metadata": {},
   "outputs": [
    {
     "name": "stdout",
     "output_type": "stream",
     "text": [
      "Format:\n",
      "------------\n",
      "Classifier\n",
      "score\n",
      "cross-validation score\n",
      "GridSearch score\n",
      "------------\n",
      "\n",
      "SVC\n",
      "0.628\n",
      "0.626004016064257\n",
      "Fitting 3 folds for each of 126 candidates, totalling 378 fits\n"
     ]
    },
    {
     "name": "stderr",
     "output_type": "stream",
     "text": [
      "[Parallel(n_jobs=-1)]: Done  10 tasks      | elapsed:    5.7s\n",
      "[Parallel(n_jobs=-1)]: Done  64 tasks      | elapsed:   21.1s\n",
      "[Parallel(n_jobs=-1)]: Done 154 tasks      | elapsed:   49.3s\n",
      "[Parallel(n_jobs=-1)]: Done 280 tasks      | elapsed:  1.6min\n",
      "[Parallel(n_jobs=-1)]: Done 378 out of 378 | elapsed:  2.1min finished\n"
     ]
    },
    {
     "name": "stdout",
     "output_type": "stream",
     "text": [
      "{'C': 10, 'gamma': 0.0001, 'tol': 0.0001}\n",
      "0.858\n",
      "\n",
      "LogisticRegression\n",
      "0.65\n",
      "0.8339309619430102\n",
      "Fitting 3 folds for each of 21 candidates, totalling 63 fits\n"
     ]
    },
    {
     "name": "stderr",
     "output_type": "stream",
     "text": [
      "[Parallel(n_jobs=-1)]: Done  10 tasks      | elapsed:    3.5s\n",
      "[Parallel(n_jobs=-1)]: Done  63 out of  63 | elapsed:    5.5s finished\n"
     ]
    },
    {
     "name": "stdout",
     "output_type": "stream",
     "text": [
      "{'C': 0.1, 'penalty': 'l2', 'solver': 'sag', 'tol': 0.01}\n",
      "0.626\n",
      "\n",
      "Perceptron\n",
      "0.626\n",
      "0.6381239242685025\n",
      "Fitting 3 folds for each of 60 candidates, totalling 180 fits\n"
     ]
    },
    {
     "name": "stderr",
     "output_type": "stream",
     "text": [
      "[Parallel(n_jobs=-1)]: Done  10 tasks      | elapsed:    3.0s\n",
      "[Parallel(n_jobs=-1)]: Done 180 out of 180 | elapsed:    3.8s finished\n"
     ]
    },
    {
     "name": "stdout",
     "output_type": "stream",
     "text": [
      "{'alpha': 0.0001, 'n_iter': 1, 'penalty': 'None'}\n",
      "0.626\n",
      "\n",
      "SGDClassifier\n",
      "0.614\n",
      "0.6435025817555938\n",
      "Fitting 3 folds for each of 69120 candidates, totalling 207360 fits\n"
     ]
    },
    {
     "name": "stderr",
     "output_type": "stream",
     "text": [
      "[Parallel(n_jobs=-1)]: Done  10 tasks      | elapsed:    3.0s\n",
      "[Parallel(n_jobs=-1)]: Done 462 tasks      | elapsed:    5.9s\n",
      "[Parallel(n_jobs=-1)]: Done 1902 tasks      | elapsed:   13.7s\n",
      "[Parallel(n_jobs=-1)]: Done 3918 tasks      | elapsed:   24.5s\n",
      "[Parallel(n_jobs=-1)]: Done 6510 tasks      | elapsed:   38.3s\n",
      "[Parallel(n_jobs=-1)]: Done 9678 tasks      | elapsed:   56.9s\n",
      "[Parallel(n_jobs=-1)]: Done 13422 tasks      | elapsed:  1.3min\n",
      "[Parallel(n_jobs=-1)]: Done 17742 tasks      | elapsed:  1.7min\n",
      "[Parallel(n_jobs=-1)]: Done 22638 tasks      | elapsed:  2.1min\n",
      "[Parallel(n_jobs=-1)]: Done 28110 tasks      | elapsed:  2.7min\n",
      "[Parallel(n_jobs=-1)]: Done 34158 tasks      | elapsed:  3.3min\n",
      "[Parallel(n_jobs=-1)]: Done 40782 tasks      | elapsed:  3.9min\n",
      "[Parallel(n_jobs=-1)]: Done 47982 tasks      | elapsed:  4.6min\n",
      "[Parallel(n_jobs=-1)]: Done 55758 tasks      | elapsed:  5.3min\n",
      "[Parallel(n_jobs=-1)]: Done 64110 tasks      | elapsed:  6.1min\n",
      "[Parallel(n_jobs=-1)]: Done 73038 tasks      | elapsed:  6.9min\n",
      "[Parallel(n_jobs=-1)]: Done 82542 tasks      | elapsed:  7.8min\n",
      "[Parallel(n_jobs=-1)]: Done 92622 tasks      | elapsed:  8.7min\n",
      "[Parallel(n_jobs=-1)]: Done 103278 tasks      | elapsed:  9.7min\n",
      "[Parallel(n_jobs=-1)]: Done 114510 tasks      | elapsed: 10.7min\n",
      "[Parallel(n_jobs=-1)]: Done 126318 tasks      | elapsed: 11.8min\n",
      "[Parallel(n_jobs=-1)]: Done 138702 tasks      | elapsed: 13.0min\n",
      "[Parallel(n_jobs=-1)]: Done 151662 tasks      | elapsed: 14.1min\n",
      "[Parallel(n_jobs=-1)]: Done 165198 tasks      | elapsed: 15.3min\n",
      "[Parallel(n_jobs=-1)]: Done 179310 tasks      | elapsed: 16.6min\n",
      "[Parallel(n_jobs=-1)]: Done 193998 tasks      | elapsed: 17.9min\n",
      "[Parallel(n_jobs=-1)]: Done 207360 out of 207360 | elapsed: 19.1min finished\n"
     ]
    },
    {
     "name": "stdout",
     "output_type": "stream",
     "text": [
      "{'alpha': 0.01, 'epsilon': 0.1, 'eta0': 0.01, 'l1_ratio': 0, 'learning_rate': 'optimal', 'loss': 'perceptron', 'n_iter': 5, 'penalty': 'l2', 'power_t': 2}\n",
      "0.626\n",
      "\n",
      "PassiveAggressiveClassifier\n",
      "0.628\n",
      "0.6159160451329125\n",
      "Fitting 3 folds for each of 14 candidates, totalling 42 fits\n"
     ]
    },
    {
     "name": "stderr",
     "output_type": "stream",
     "text": [
      "[Parallel(n_jobs=-1)]: Done  10 tasks      | elapsed:    3.0s\n",
      "[Parallel(n_jobs=-1)]: Done  35 out of  42 | elapsed:    3.0s remaining:    0.5s\n",
      "[Parallel(n_jobs=-1)]: Done  42 out of  42 | elapsed:    3.1s finished\n"
     ]
    },
    {
     "name": "stdout",
     "output_type": "stream",
     "text": [
      "{'C': 1.0, 'loss': 'squared_hinge'}\n",
      "0.626\n",
      "\n",
      "LinearDiscriminantAnalysis\n",
      "0.634\n",
      "0.8659638554216867\n",
      "Fitting 3 folds for each of 10 candidates, totalling 30 fits\n"
     ]
    },
    {
     "name": "stderr",
     "output_type": "stream",
     "text": [
      "[Parallel(n_jobs=-1)]: Done  10 tasks      | elapsed:    3.0s\n",
      "[Parallel(n_jobs=-1)]: Done  30 out of  30 | elapsed:    3.0s remaining:    0.0s\n",
      "[Parallel(n_jobs=-1)]: Done  30 out of  30 | elapsed:    3.0s finished\n"
     ]
    },
    {
     "name": "stdout",
     "output_type": "stream",
     "text": [
      "{'shrinkage': 0.1, 'solver': 'lsqr'}\n",
      "0.626\n",
      "\n",
      "QuadraticDiscriminantAnalysis\n",
      "0.78\n",
      "0.8659877605660738\n",
      "Fitting 3 folds for each of 12 candidates, totalling 36 fits\n"
     ]
    },
    {
     "name": "stderr",
     "output_type": "stream",
     "text": [
      "[Parallel(n_jobs=-1)]: Done  10 tasks      | elapsed:    3.1s\n",
      "[Parallel(n_jobs=-1)]: Done  29 out of  36 | elapsed:    3.1s remaining:    0.7s\n",
      "[Parallel(n_jobs=-1)]: Done  36 out of  36 | elapsed:    3.1s finished\n"
     ]
    },
    {
     "name": "stdout",
     "output_type": "stream",
     "text": [
      "{'reg_param': 0.0, 'tol': 0.0001}\n",
      "0.78\n",
      "\n",
      "MLPClassifier\n",
      "0.76\n",
      "0.6158204245553643\n",
      "Fitting 3 folds for each of 104976 candidates, totalling 314928 fits\n"
     ]
    },
    {
     "name": "stderr",
     "output_type": "stream",
     "text": [
      "[Parallel(n_jobs=-1)]: Done  10 tasks      | elapsed:    3.6s\n",
      "[Parallel(n_jobs=-1)]: Done  64 tasks      | elapsed:    6.3s\n",
      "[Parallel(n_jobs=-1)]: Done 154 tasks      | elapsed:   10.5s\n",
      "[Parallel(n_jobs=-1)]: Done 280 tasks      | elapsed:   17.0s\n",
      "[Parallel(n_jobs=-1)]: Done 442 tasks      | elapsed:   27.3s\n",
      "[Parallel(n_jobs=-1)]: Done 640 tasks      | elapsed:   41.3s\n",
      "[Parallel(n_jobs=-1)]: Done 874 tasks      | elapsed:  1.0min\n",
      "[Parallel(n_jobs=-1)]: Done 1144 tasks      | elapsed:  1.3min\n",
      "[Parallel(n_jobs=-1)]: Done 1654 tasks      | elapsed:  1.8min\n",
      "[Parallel(n_jobs=-1)]: Done 2338 tasks      | elapsed:  2.4min\n",
      "[Parallel(n_jobs=-1)]: Done 3094 tasks      | elapsed:  3.1min\n",
      "[Parallel(n_jobs=-1)]: Done 3768 tasks      | elapsed:  3.9min\n",
      "[Parallel(n_jobs=-1)]: Done 4434 tasks      | elapsed:  4.5min\n",
      "[Parallel(n_jobs=-1)]: Done 5406 tasks      | elapsed:  5.3min\n",
      "[Parallel(n_jobs=-1)]: Done 6450 tasks      | elapsed:  6.4min\n",
      "[Parallel(n_jobs=-1)]: Done 7069 tasks      | elapsed:  7.3min\n",
      "[Parallel(n_jobs=-1)]: Done 7663 tasks      | elapsed:  8.0min\n",
      "[Parallel(n_jobs=-1)]: Done 8479 tasks      | elapsed:  8.9min\n",
      "[Parallel(n_jobs=-1)]: Done 9811 tasks      | elapsed:  9.9min\n",
      "[Parallel(n_jobs=-1)]: Done 11215 tasks      | elapsed: 10.6min\n",
      "[Parallel(n_jobs=-1)]: Done 12691 tasks      | elapsed: 11.6min\n",
      "[Parallel(n_jobs=-1)]: Done 14239 tasks      | elapsed: 12.3min\n",
      "[Parallel(n_jobs=-1)]: Done 15859 tasks      | elapsed: 13.6min\n",
      "[Parallel(n_jobs=-1)]: Done 17551 tasks      | elapsed: 14.8min\n",
      "[Parallel(n_jobs=-1)]: Done 19315 tasks      | elapsed: 15.5min\n",
      "[Parallel(n_jobs=-1)]: Done 22521 tasks      | elapsed: 16.5min\n",
      "[Parallel(n_jobs=-1)]: Done 25133 tasks      | elapsed: 17.6min\n",
      "[Parallel(n_jobs=-1)]: Done 27793 tasks      | elapsed: 18.6min\n",
      "[Parallel(n_jobs=-1)]: Done 31897 tasks      | elapsed: 19.8min\n",
      "[Parallel(n_jobs=-1)]: Done 34499 tasks      | elapsed: 21.0min\n",
      "[Parallel(n_jobs=-1)]: Done 36606 tasks      | elapsed: 22.8min\n",
      "[Parallel(n_jobs=-1)]: Done 38839 tasks      | elapsed: 25.0min\n",
      "[Parallel(n_jobs=-1)]: Done 41079 tasks      | elapsed: 26.9min\n",
      "[Parallel(n_jobs=-1)]: Done 42489 tasks      | elapsed: 28.7min\n",
      "[Parallel(n_jobs=-1)]: Done 43731 tasks      | elapsed: 30.1min\n",
      "[Parallel(n_jobs=-1)]: Done 46251 tasks      | elapsed: 31.6min\n",
      "[Parallel(n_jobs=-1)]: Done 48879 tasks      | elapsed: 33.2min\n",
      "[Parallel(n_jobs=-1)]: Done 51384 tasks      | elapsed: 35.0min\n",
      "[Parallel(n_jobs=-1)]: Done 54156 tasks      | elapsed: 36.4min\n",
      "[Parallel(n_jobs=-1)]: Done 58334 tasks      | elapsed: 37.7min\n",
      "[Parallel(n_jobs=-1)]: Done 64166 tasks      | elapsed: 40.0min\n",
      "[Parallel(n_jobs=-1)]: Done 70142 tasks      | elapsed: 42.3min\n",
      "[Parallel(n_jobs=-1)]: Done 73010 tasks      | elapsed: 45.1min\n",
      "[Parallel(n_jobs=-1)]: Done 76142 tasks      | elapsed: 48.0min\n",
      "[Parallel(n_jobs=-1)]: Done 77970 tasks      | elapsed: 50.3min\n",
      "[Parallel(n_jobs=-1)]: Done 80454 tasks      | elapsed: 52.2min\n",
      "[Parallel(n_jobs=-1)]: Done 83802 tasks      | elapsed: 54.1min\n",
      "[Parallel(n_jobs=-1)]: Done 87222 tasks      | elapsed: 56.6min\n",
      "[Parallel(n_jobs=-1)]: Done 90714 tasks      | elapsed: 57.9min\n",
      "[Parallel(n_jobs=-1)]: Done 95698 tasks      | elapsed: 59.9min\n",
      "[Parallel(n_jobs=-1)]: Done 102970 tasks      | elapsed: 62.3min\n",
      "[Parallel(n_jobs=-1)]: Done 106602 tasks      | elapsed: 69.1min\n",
      "[Parallel(n_jobs=-1)]: Done 108492 tasks      | elapsed: 75.0min\n",
      "[Parallel(n_jobs=-1)]: Done 110418 tasks      | elapsed: 81.6min\n",
      "[Parallel(n_jobs=-1)]: Done 112380 tasks      | elapsed: 90.8min\n",
      "[Parallel(n_jobs=-1)]: Done 114378 tasks      | elapsed: 98.9min\n",
      "[Parallel(n_jobs=-1)]: Done 116412 tasks      | elapsed: 103.4min\n",
      "[Parallel(n_jobs=-1)]: Done 118860 tasks      | elapsed: 108.4min\n",
      "[Parallel(n_jobs=-1)]: Done 121025 tasks      | elapsed: 113.3min\n",
      "[Parallel(n_jobs=-1)]: Done 123345 tasks      | elapsed: 117.7min\n",
      "[Parallel(n_jobs=-1)]: Done 127065 tasks      | elapsed: 121.3min\n",
      "[Parallel(n_jobs=-1)]: Done 130561 tasks      | elapsed: 125.1min\n",
      "[Parallel(n_jobs=-1)]: Done 135120 tasks      | elapsed: 129.5min\n",
      "[Parallel(n_jobs=-1)]: Done 139666 tasks      | elapsed: 133.4min\n",
      "[Parallel(n_jobs=-1)]: Done 142311 tasks      | elapsed: 141.6min\n",
      "[Parallel(n_jobs=-1)]: Done 144669 tasks      | elapsed: 150.1min\n",
      "[Parallel(n_jobs=-1)]: Done 147063 tasks      | elapsed: 158.3min\n",
      "[Parallel(n_jobs=-1)]: Done 149493 tasks      | elapsed: 166.4min\n",
      "[Parallel(n_jobs=-1)]: Done 152320 tasks      | elapsed: 172.0min\n",
      "[Parallel(n_jobs=-1)]: Done 155134 tasks      | elapsed: 177.5min\n",
      "[Parallel(n_jobs=-1)]: Done 157901 tasks      | elapsed: 183.4min\n",
      "[Parallel(n_jobs=-1)]: Done 161837 tasks      | elapsed: 187.9min\n",
      "[Parallel(n_jobs=-1)]: Done 165903 tasks      | elapsed: 192.2min\n",
      "[Parallel(n_jobs=-1)]: Done 171455 tasks      | elapsed: 197.1min\n",
      "[Parallel(n_jobs=-1)]: Done 175853 tasks      | elapsed: 204.3min\n",
      "[Parallel(n_jobs=-1)]: Done 178571 tasks      | elapsed: 212.6min\n",
      "[Parallel(n_jobs=-1)]: Done 181325 tasks      | elapsed: 223.1min\n",
      "[Parallel(n_jobs=-1)]: Done 184115 tasks      | elapsed: 235.4min\n",
      "[Parallel(n_jobs=-1)]: Done 187367 tasks      | elapsed: 242.6min\n",
      "[Parallel(n_jobs=-1)]: Done 190676 tasks      | elapsed: 249.9min\n",
      "[Parallel(n_jobs=-1)]: Done 194121 tasks      | elapsed: 255.9min\n",
      "[Parallel(n_jobs=-1)]: Done 198847 tasks      | elapsed: 260.0min\n",
      "[Parallel(n_jobs=-1)]: Done 203552 tasks      | elapsed: 265.5min\n",
      "[Parallel(n_jobs=-1)]: Done 209412 tasks      | elapsed: 270.6min\n",
      "[Parallel(n_jobs=-1)]: Done 212899 tasks      | elapsed: 276.0min\n",
      "[Parallel(n_jobs=-1)]: Done 215977 tasks      | elapsed: 281.0min\n",
      "[Parallel(n_jobs=-1)]: Done 219122 tasks      | elapsed: 287.0min\n",
      "[Parallel(n_jobs=-1)]: Done 223313 tasks      | elapsed: 291.5min\n",
      "[Parallel(n_jobs=-1)]: Done 227297 tasks      | elapsed: 296.0min\n",
      "[Parallel(n_jobs=-1)]: Done 233800 tasks      | elapsed: 299.7min\n",
      "[Parallel(n_jobs=-1)]: Done 240041 tasks      | elapsed: 303.6min\n",
      "[Parallel(n_jobs=-1)]: Done 245970 tasks      | elapsed: 308.5min\n",
      "[Parallel(n_jobs=-1)]: Done 249300 tasks      | elapsed: 313.8min\n",
      "[Parallel(n_jobs=-1)]: Done 252666 tasks      | elapsed: 320.1min\n",
      "[Parallel(n_jobs=-1)]: Done 256586 tasks      | elapsed: 324.8min\n",
      "[Parallel(n_jobs=-1)]: Done 261451 tasks      | elapsed: 330.3min\n",
      "[Parallel(n_jobs=-1)]: Done 267392 tasks      | elapsed: 334.2min\n",
      "[Parallel(n_jobs=-1)]: Done 274472 tasks      | elapsed: 338.3min\n",
      "[Parallel(n_jobs=-1)]: Done 281670 tasks      | elapsed: 344.5min\n",
      "[Parallel(n_jobs=-1)]: Done 285252 tasks      | elapsed: 350.1min\n",
      "[Parallel(n_jobs=-1)]: Done 288870 tasks      | elapsed: 359.0min\n",
      "[Parallel(n_jobs=-1)]: Done 292524 tasks      | elapsed: 364.6min\n",
      "[Parallel(n_jobs=-1)]: Done 296877 tasks      | elapsed: 369.5min\n",
      "[Parallel(n_jobs=-1)]: Done 303960 tasks      | elapsed: 373.7min\n",
      "[Parallel(n_jobs=-1)]: Done 311786 tasks      | elapsed: 378.1min\n",
      "[Parallel(n_jobs=-1)]: Done 314928 out of 314928 | elapsed: 380.1min finished\n"
     ]
    },
    {
     "name": "stdout",
     "output_type": "stream",
     "text": [
      "{'activation': 'logistic', 'alpha': 0.0001, 'hidden_layer_sizes': (100,), 'learning_rate': 'invscaling', 'learning_rate_init': 0.0001, 'max_iter': 200, 'momentum': 0.9, 'power_t': 0.5, 'solver': 'lbfgs', 'tol': 0.001}\n",
      "0.626\n",
      "\n",
      "GaussianNB\n",
      "0.662\n",
      "0.6203384968445209\n",
      "Fitting 3 folds for each of 1 candidates, totalling 3 fits\n"
     ]
    },
    {
     "name": "stderr",
     "output_type": "stream",
     "text": [
      "[Parallel(n_jobs=-1)]: Done   3 out of   3 | elapsed:    4.0s remaining:    0.0s\n",
      "[Parallel(n_jobs=-1)]: Done   3 out of   3 | elapsed:    4.1s finished\n"
     ]
    },
    {
     "name": "stdout",
     "output_type": "stream",
     "text": [
      "{}\n",
      "0.662\n",
      "\n",
      "DecisionTreeClassifier\n",
      "0.8\n",
      "0.8380187416331996\n",
      "Fitting 3 folds for each of 1920 candidates, totalling 5760 fits\n"
     ]
    },
    {
     "name": "stderr",
     "output_type": "stream",
     "text": [
      "[Parallel(n_jobs=-1)]: Done  10 tasks      | elapsed:    3.6s\n",
      "[Parallel(n_jobs=-1)]: Done 1462 tasks      | elapsed:    6.7s\n",
      "[Parallel(n_jobs=-1)]: Done 5760 out of 5760 | elapsed:   17.3s finished\n"
     ]
    },
    {
     "name": "stdout",
     "output_type": "stream",
     "text": [
      "{'criterion': 'entropy', 'max_depth': 100, 'max_features': 0.75, 'min_samples_leaf': 1, 'min_samples_split': 10}\n",
      "0.83\n",
      "\n",
      "KMeans\n",
      "-4264994.072983537\n",
      "-2205841.3123105085\n",
      "Fitting 3 folds for each of 1 candidates, totalling 3 fits\n"
     ]
    },
    {
     "name": "stderr",
     "output_type": "stream",
     "text": [
      "[Parallel(n_jobs=-1)]: Done   3 out of   3 | elapsed:    3.2s remaining:    0.0s\n",
      "[Parallel(n_jobs=-1)]: Done   3 out of   3 | elapsed:    3.3s finished\n"
     ]
    },
    {
     "name": "stdout",
     "output_type": "stream",
     "text": [
      "{}\n",
      "-4264311.717758957\n",
      "\n"
     ]
    }
   ],
   "source": [
    "print(\"Format:\")\n",
    "print(\"------------\")\n",
    "print(\"Classifier\")\n",
    "print(\"score\")\n",
    "print(\"cross-validation score\")\n",
    "print(\"GridSearch score\")\n",
    "print(\"------------\")\n",
    "print()\n",
    "\n",
    "with warnings.catch_warnings():\n",
    "    warnings.simplefilter('ignore')\n",
    "    for name, cls in steps.clfs.items():\n",
    "        classif = cls()\n",
    "        print(classif.__class__.__name__)\n",
    "        classif.fit(train_X, train_Y)\n",
    "        print(classif.score(test_X, test_Y))\n",
    "        print(model_selection.cross_val_score(classif, test_X, test_Y).mean())\n",
    "        \n",
    "        pipe_params = params[name]\n",
    "        gs = model_selection.GridSearchCV(classif, pipe_params, n_jobs=-1, verbose=5)\n",
    "        gs.fit(train_X, train_Y)\n",
    "        \n",
    "        print(gs.best_params_)\n",
    "        print(gs.score(test_X, test_Y))\n",
    "        print()"
   ]
  },
  {
   "cell_type": "code",
   "execution_count": 6,
   "metadata": {},
   "outputs": [
    {
     "name": "stderr",
     "output_type": "stream",
     "text": [
      "C:\\Anaconda\\lib\\site-packages\\deap\\creator.py:141: RuntimeWarning: A class named 'PipeFitness' has already been created and it will be overwritten. Consider deleting previous creation of that class or rename it.\n",
      "  RuntimeWarning)\n",
      "C:\\Anaconda\\lib\\site-packages\\deap\\creator.py:141: RuntimeWarning: A class named 'Individual' has already been created and it will be overwritten. Consider deleting previous creation of that class or rename it.\n",
      "  RuntimeWarning)\n"
     ]
    },
    {
     "name": "stdout",
     "output_type": "stream",
     "text": [
      "\n",
      "Gen 6:\n",
      "\n",
      "Hall of fame:\n",
      "[('kBest', {'k': 5}), ('SVC', {'C': 15, 'gamma': 0.0001, 'tol': 0.0001})]\n",
      "[('SVC', {'C': 15, 'gamma': 0.0001, 'tol': 0.0001})]\n",
      "[('QDA', {'reg_param': 0.0, 'tol': 0.01})]\n",
      "[('QDA', {'reg_param': 0.5, 'tol': 0.0001})]\n",
      "[('PCA', {'n_components': 5, 'whiten': True}), ('SGD', {'penalty': 'elasticnet', 'loss': 'modified_huber', 'n_iter': 100, 'alpha': 0.0001, 'l1_ratio': 1, 'epsilon': 0.5, 'learning_rate': 'optimal', 'eta0': 0.01, 'power_t': 0.5})]\n",
      "\n",
      "Gen 11:\n",
      "\n",
      "Hall of fame:\n",
      "[('kBest', {'k': 5}), ('SVC', {'C': 15, 'gamma': 0.0001, 'tol': 0.0001})]\n",
      "[('SVC', {'C': 15, 'gamma': 0.0001, 'tol': 0.0001})]\n",
      "[('QDA', {'reg_param': 0.0, 'tol': 0.01})]\n",
      "[('QDA', {'reg_param': 0.5, 'tol': 0.0001})]\n",
      "[('PCA', {'n_components': 5, 'whiten': False}), ('gaussianNB', {})]\n",
      "\n",
      "Gen 16:\n",
      "\n",
      "Hall of fame:\n",
      "[('kBest', {'k': 5}), ('SVC', {'C': 15, 'gamma': 0.0001, 'tol': 0.0001})]\n",
      "[('SVC', {'C': 15, 'gamma': 0.0001, 'tol': 0.0001})]\n",
      "[('QDA', {'reg_param': 0.0, 'tol': 0.01})]\n",
      "[('QDA', {'reg_param': 0.5, 'tol': 0.0001})]\n",
      "[('PCA', {'n_components': 5, 'whiten': False}), ('gaussianNB', {})]\n",
      "\n",
      "Gen 21:\n",
      "\n",
      "Hall of fame:\n",
      "[('kBest', {'k': 5}), ('SVC', {'C': 15, 'gamma': 0.0001, 'tol': 0.0001})]\n",
      "[('SVC', {'C': 15, 'gamma': 0.0001, 'tol': 0.0001})]\n",
      "[('SVC', {'C': 5, 'gamma': 0.001, 'tol': 0.01})]\n",
      "[('SVC', {'C': 10, 'gamma': 0.0001, 'tol': 0.001})]\n",
      "[('QDA', {'reg_param': 0.0, 'tol': 0.01})]\n",
      "\n",
      "Gen 26:\n",
      "\n",
      "Hall of fame:\n",
      "[('kBest', {'k': 5}), ('SVC', {'C': 15, 'gamma': 0.0001, 'tol': 0.0001})]\n",
      "[('SVC', {'C': 15, 'gamma': 0.0001, 'tol': 0.0001})]\n",
      "[('SVC', {'C': 5, 'gamma': 0.001, 'tol': 0.01})]\n",
      "[('SVC', {'C': 10, 'gamma': 0.0001, 'tol': 0.001})]\n",
      "[('QDA', {'reg_param': 0.0, 'tol': 0.01})]\n",
      "\n",
      "Gen 31:\n",
      "\n",
      "Hall of fame:\n",
      "[('kBest', {'k': 5}), ('SVC', {'C': 15, 'gamma': 0.0001, 'tol': 0.0001})]\n",
      "[('SVC', {'C': 15, 'gamma': 0.0001, 'tol': 0.0001})]\n",
      "[('SVC', {'C': 5, 'gamma': 0.001, 'tol': 0.01})]\n",
      "[('SVC', {'C': 10, 'gamma': 0.0001, 'tol': 0.001})]\n",
      "[('QDA', {'reg_param': 0.0, 'tol': 0.01})]\n",
      "\n",
      "Gen 36:\n",
      "\n",
      "Hall of fame:\n",
      "[('kBest', {'k': 5}), ('SVC', {'C': 15, 'gamma': 0.0001, 'tol': 0.0001})]\n",
      "[('SVC', {'C': 15, 'gamma': 0.0001, 'tol': 0.0001})]\n",
      "[('SVC', {'C': 5, 'gamma': 0.001, 'tol': 0.01})]\n",
      "[('SVC', {'C': 10, 'gamma': 0.0001, 'tol': 0.001})]\n",
      "[('QDA', {'reg_param': 0.0, 'tol': 0.01})]\n",
      "\n",
      "Best pipeline test score: 0.862\n",
      "\n",
      "Kappa: 0.6867395489049504, Pipe: ['selectkbest', 'svc']\n",
      "Kappa: 0.6867395489049504, Pipe: ['svc']\n",
      "Kappa: 0.6651886707085332, Pipe: ['svc']\n",
      "Kappa: 0.6761776188564965, Pipe: ['svc']\n",
      "Kappa: 0.4772757512973065, Pipe: ['quadraticdiscriminantanalysis']\n"
     ]
    }
   ],
   "source": [
    "clf = evopipe.EvoPipeClassifier(steps.preproc, steps.clfs, params, mutpb=0.5, swap_mutpb=0.8, param_mutpb=0.7,\n",
    "                                ind_mutpb=0.8)\n",
    "clf.fit(train_X, train_Y, test_X, test_Y)\n",
    "\n",
    "score = clf.score(test_X, test_Y)\n",
    "print(\"\\nBest pipeline test score: {}\\n\".format(score))\n",
    "/\n",
    "best_pipes = clf.best_pipelines()\n",
    "\n",
    "for pipe in best_pipes:\n",
    "    pipe.fit(train_X, train_Y)\n",
    "    res_Y = pipe.predict(test_X)\n",
    "    \n",
    "    score = metrics.cohen_kappa_score(test_Y, res_Y, weights='quadratic')\n",
    "    \n",
    "    pipe_named_steps = []\n",
    "    for key, val in pipe.steps:\n",
    "        pipe_named_steps.append(key)       \n",
    "    print(\"Kappa: {}, Pipe: {}\".format(score, pipe_named_steps))"
   ]
  },
  {
   "cell_type": "code",
   "execution_count": 7,
   "metadata": {},
   "outputs": [
    {
     "name": "stdout",
     "output_type": "stream",
     "text": [
      "   \t                       fitness                        \t                       train_test                      \n",
      "   \t------------------------------------------------------\t-------------------------------------------------------\n",
      "gen\tvar        \tavg      \tmin         \tmax   \tvar       \tavg      \tmin        \tmax    \n",
      "1  \t0.129879   \t0.352597 \t0           \t0.8381\t0.0617158 \t0.219748 \t0          \t0.68674\n",
      "2  \t0.0825895  \t0.285675 \t0           \t0.8381\t0.0339493 \t0.0945999\t-0.162857  \t0.68674\n",
      "3  \t0.045454   \t0.680021 \t0.135868    \t0.8381\t0.0445502 \t0.503159 \t0          \t0.68674\n",
      "4  \t0.104877   \t0.534828 \t0           \t0.8381\t0.0503813 \t0.342602 \t0          \t0.68674\n",
      "5  \t0.115556   \t0.278211 \t0.00388763  \t0.8381\t0.0895684 \t0.194465 \t-0.00654786\t0.68674\n",
      "6  \t0.0495237  \t0.495067 \t0           \t0.8381\t0.0361706 \t0.379809 \t0          \t0.68674\n",
      "7  \t0.134329   \t0.2316   \t0           \t0.8381\t0.0922262 \t0.183131 \t0          \t0.68674\n",
      "8  \t0.106797   \t0.281207 \t0           \t0.8381\t0.0774515 \t0.192456 \t0          \t0.68674\n",
      "9  \t0.117201   \t0.474631 \t0           \t0.8381\t0.0518244 \t0.296295 \t0          \t0.68674\n",
      "10 \t0.0931379  \t0.315313 \t0           \t0.8381\t0.0620344 \t0.227853 \t0          \t0.68674\n",
      "11 \t0.0951462  \t0.149206 \t0           \t0.8381\t0.0684725 \t0.103043 \t-0.0428008 \t0.68674\n",
      "12 \t0.147541   \t0.251362 \t-0.000410362\t0.8381\t0.0990384 \t0.206022 \t0          \t0.68674\n",
      "13 \t0.0801721  \t0.11627  \t0           \t0.8381\t0.0582636 \t0.0746464\t-0.0563961 \t0.68674\n",
      "14 \t0.0610481  \t0.0984138\t0           \t0.8381\t0.0455853 \t0.049475 \t-0.0448197 \t0.68674\n",
      "15 \t0.120894   \t0.218981 \t0.00212477  \t0.8381\t0.0925361 \t0.16805  \t-0.0448197 \t0.68674\n",
      "16 \t0.0691943  \t0.285674 \t0           \t0.8381\t0.0624032 \t0.141464 \t-0.00129956\t0.68674\n",
      "17 \t0.155497   \t0.387906 \t-0.00694428 \t0.8381\t0.108473  \t0.310318 \t0          \t0.68674\n",
      "18 \t0.0589619  \t0.119243 \t0           \t0.8381\t0.0445369 \t0.0577708\t-0.0654187 \t0.68674\n",
      "19 \t0.166363   \t0.499107 \t-0.00488623 \t0.8381\t0.109926  \t0.405987 \t0          \t0.68674\n",
      "20 \t0.0669519  \t0.234241 \t0           \t0.8381\t0.0536392 \t0.336393 \t0          \t0.68674\n",
      "21 \t0.158944   \t0.350272 \t0           \t0.8381\t0.111529  \t0.277801 \t0          \t0.68674\n",
      "22 \t0.160345   \t0.313807 \t0           \t0.8381\t0.108489  \t0.254171 \t0          \t0.68674\n",
      "23 \t0.103502   \t0.197634 \t0           \t0.8381\t0.0842958 \t0.109    \t-0.0654187 \t0.68674\n",
      "24 \t0.114364   \t0.322335 \t0           \t0.8381\t0.0823018 \t0.197201 \t0          \t0.68674\n",
      "25 \t0.0811676  \t0.111747 \t0           \t0.8381\t0.0544973 \t0.0915653\t0          \t0.68674\n",
      "26 \t0.0799929  \t0.160981 \t0           \t0.8381\t0.0498951 \t0.123734 \t0          \t0.68674\n",
      "27 \t0.148262   \t0.377217 \t0           \t0.8381\t0.11261   \t0.329498 \t-0.0525022 \t0.68674\n",
      "28 \t0.0606491  \t0.101194 \t0           \t0.8381\t0.0442339 \t0.0573643\t-0.0428008 \t0.68674\n",
      "29 \t0.0976054  \t0.595079 \t0           \t0.8381\t0.057682  \t0.425581 \t-0.0428008 \t0.68674\n",
      "30 \t0.105751   \t0.483309 \t0.00212477  \t0.8381\t0.0570642 \t0.322065 \t0.00668618 \t0.68674\n",
      "31 \t0.0979547  \t0.626126 \t0           \t0.8381\t0.0458957 \t0.410505 \t0          \t0.68674\n",
      "32 \t0.000719577\t0.78445  \t0.771038    \t0.8381\t0.00738556\t0.514861 \t0.471891   \t0.68674\n",
      "33 \t0.154386   \t0.480718 \t0           \t0.8381\t0.0841239 \t0.342891 \t0          \t0.68674\n",
      "34 \t0.094046   \t0.153518 \t-0.00175466 \t0.8381\t0.0664473 \t0.110464 \t-0.0119763 \t0.68674\n",
      "35 \t0.144317   \t0.370217 \t-0.00256743 \t0.8381\t0.102167  \t0.31651  \t0          \t0.68674\n",
      "36 \t0.0647615  \t0.259835 \t-0.00275511 \t0.8381\t0.0432859 \t0.217287 \t-0.00399462\t0.68674\n",
      "37 \t0.100808   \t0.2852   \t0           \t0.8381\t0.0826023 \t0.169444 \t0          \t0.68674\n",
      "38 \t0.0931589  \t0.562538 \t0.00831882  \t0.8381\t0.0569721 \t0.419817 \t0          \t0.68674\n",
      "39 \t0.124618   \t0.398033 \t0           \t0.8381\t0.0933767 \t0.291681 \t-0.0119517 \t0.68674\n"
     ]
    },
    {
     "data": {
      "image/png": "[encoded data removed]",
      "text/plain": [
       "<matplotlib.figure.Figure at 0x1c8f1c15080>"
      ]
     },
     "metadata": {},
     "output_type": "display_data"
    }
   ],
   "source": [
    "print(clf.logbook)\n",
    "\n",
    "gen = clf.logbook.select(\"gen\")\n",
    "avgs, mins, maxs, vars = clf.logbook.chapters[\"fitness\"].select(\"avg\", \"min\", \"max\", \"var\")\n",
    "avgs_tt, mins_tt, maxs_tt, vars_tt = clf.logbook.chapters[\"train_test\"].select(\"avg\", \"min\", \"max\", \"var\")\n",
    "\n",
    "sns.set()\n",
    "\n",
    "fig = plt.figure()\n",
    "ax1 = fig.add_subplot(111)\n",
    "ax1.plot(gen, avgs, label='Average')\n",
    "ax1.set_xlabel(\"Generation\")\n",
    "ax1.set_ylabel(\"Fitness\")\n",
    "\n",
    "ax1.plot(gen, maxs, label='Maximum')\n",
    "\n",
    "ax1.plot(gen, maxs_tt, label='Maximum test')\n",
    "ax1.plot(gen, avgs_tt, label='Average test')\n",
    "\n",
    "plt.show()"
   ]
  },
  {
   "cell_type": "code",
   "execution_count": null,
   "metadata": {},
   "outputs": [],
   "source": []
  }
 ],
 "metadata": {
  "kernelspec": {
   "display_name": "Python 3",
   "language": "python",
   "name": "python3"
  },
  "language_info": {
   "codemirror_mode": {
    "name": "ipython",
    "version": 3
   },
   "file_extension": ".py",
   "mimetype": "text/x-python",
   "name": "python",
   "nbconvert_exporter": "python",
   "pygments_lexer": "ipython3",
   "version": "3.6.4"
  }
 },
 "nbformat": 4,
 "nbformat_minor": 2
}
