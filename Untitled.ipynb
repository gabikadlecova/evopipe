{
 "cells": [
  {
   "cell_type": "code",
   "execution_count": null,
   "metadata": {},
   "outputs": [],
   "source": [
    "import pandas as pd\n",
    "from sklearn import preprocessing\n",
    "from sklearn import model_selection\n",
    "\n",
    "import evopipe\n",
    "import steps\n",
    "import warnings\n",
    "\n",
    "from sklearn.model_selection import train_test_split\n",
    "from sklearn import datasets\n",
    "from sklearn import metrics\n",
    "\n",
    "import matplotlib.pyplot as plt\n",
    "import seaborn as sns"
   ]
  },
  {
   "cell_type": "code",
   "execution_count": 7,
   "metadata": {},
   "outputs": [],
   "source": [
    "filename = 'wilt-train.csv'\n",
    "\n",
    "data = pd.read_csv(filename, sep=',')\n",
    "train_X = data[data.columns[1:]]\n",
    "train_Y = data[data.columns[0]]\n",
    "le = preprocessing.LabelEncoder()\n",
    "\n",
    "ix = train_Y.index\n",
    "train_Y = pd.Series(le.fit_transform(train_Y), index=ix)\n",
    "\n",
    "\n",
    "test_filename = 'wilt-test.csv'\n",
    "\n",
    "data = pd.read_csv(test_filename, sep=',')\n",
    "test_X = data[data.columns[1:]]\n",
    "test_Y = data[data.columns[0]]\n",
    "le = preprocessing.LabelEncoder()\n",
    "\n",
    "ix = test_Y.index\n",
    "test_Y = pd.Series(le.fit_transform(test_Y), index=ix)"
   ]
  },
  {
   "cell_type": "code",
   "execution_count": 8,
   "metadata": {},
   "outputs": [
    {
     "name": "stdout",
     "output_type": "stream",
     "text": [
      "Format:\n",
      "------------\n",
      "Classifier\n",
      "score\n",
      "cross-validation score\n",
      "GridSearch score\n",
      "------------\n",
      "\n",
      "SVC\n",
      "0.628\n",
      "0.626004016064257\n",
      "Fitting 3 folds for each of 126 candidates, totalling 378 fits\n"
     ]
    },
    {
     "name": "stderr",
     "output_type": "stream",
     "text": [
      "[Parallel(n_jobs=-1)]: Done  10 tasks      | elapsed:    6.1s\n",
      "[Parallel(n_jobs=-1)]: Done  64 tasks      | elapsed:   22.3s\n",
      "[Parallel(n_jobs=-1)]: Done 154 tasks      | elapsed:   51.8s\n",
      "[Parallel(n_jobs=-1)]: Done 280 tasks      | elapsed:  1.7min\n",
      "[Parallel(n_jobs=-1)]: Done 378 out of 378 | elapsed:  2.3min finished\n"
     ]
    },
    {
     "name": "stdout",
     "output_type": "stream",
     "text": [
      "{'C': 10, 'gamma': 0.0001, 'tol': 0.0001}\n",
      "0.858\n",
      "\n",
      "LogisticRegression\n",
      "0.65\n",
      "0.8339309619430102\n",
      "Fitting 3 folds for each of 21 candidates, totalling 63 fits\n"
     ]
    },
    {
     "name": "stderr",
     "output_type": "stream",
     "text": [
      "[Parallel(n_jobs=-1)]: Done  10 tasks      | elapsed:    3.4s\n",
      "[Parallel(n_jobs=-1)]: Done  63 out of  63 | elapsed:    5.3s finished\n"
     ]
    },
    {
     "name": "stdout",
     "output_type": "stream",
     "text": [
      "{'C': 0.1, 'penalty': 'l2', 'solver': 'sag', 'tol': 0.01}\n",
      "0.626\n",
      "\n",
      "Perceptron\n",
      "0.626\n",
      "0.6381239242685025\n",
      "Fitting 3 folds for each of 60 candidates, totalling 180 fits\n"
     ]
    },
    {
     "name": "stderr",
     "output_type": "stream",
     "text": [
      "[Parallel(n_jobs=-1)]: Done  10 tasks      | elapsed:    3.0s\n",
      "[Parallel(n_jobs=-1)]: Done 180 out of 180 | elapsed:    3.8s finished\n"
     ]
    },
    {
     "name": "stdout",
     "output_type": "stream",
     "text": [
      "{'alpha': 0.0001, 'n_iter': 1, 'penalty': 'None'}\n",
      "0.626\n",
      "\n",
      "SGDClassifier\n",
      "0.62\n",
      "0.5637550200803213\n",
      "Fitting 3 folds for each of 69120 candidates, totalling 207360 fits\n"
     ]
    },
    {
     "name": "stderr",
     "output_type": "stream",
     "text": [
      "[Parallel(n_jobs=-1)]: Done  10 tasks      | elapsed:    3.1s\n",
      "[Parallel(n_jobs=-1)]: Done 639 tasks      | elapsed:    6.9s\n",
      "[Parallel(n_jobs=-1)]: Done 1948 tasks      | elapsed:   16.3s\n",
      "[Parallel(n_jobs=-1)]: Done 3334 tasks      | elapsed:   24.5s\n",
      "[Parallel(n_jobs=-1)]: Done 5116 tasks      | elapsed:   34.0s\n",
      "[Parallel(n_jobs=-1)]: Done 7294 tasks      | elapsed:   46.8s\n",
      "[Parallel(n_jobs=-1)]: Done 9868 tasks      | elapsed:  1.0min\n",
      "[Parallel(n_jobs=-1)]: Done 12838 tasks      | elapsed:  1.3min\n",
      "[Parallel(n_jobs=-1)]: Done 16204 tasks      | elapsed:  1.6min\n",
      "[Parallel(n_jobs=-1)]: Done 19966 tasks      | elapsed:  2.0min\n",
      "[Parallel(n_jobs=-1)]: Done 24124 tasks      | elapsed:  2.4min\n",
      "[Parallel(n_jobs=-1)]: Done 28678 tasks      | elapsed:  2.8min\n",
      "[Parallel(n_jobs=-1)]: Done 33628 tasks      | elapsed:  3.3min\n",
      "[Parallel(n_jobs=-1)]: Done 38974 tasks      | elapsed:  3.8min\n",
      "[Parallel(n_jobs=-1)]: Done 44716 tasks      | elapsed:  4.3min\n",
      "[Parallel(n_jobs=-1)]: Done 50854 tasks      | elapsed:  4.9min\n",
      "[Parallel(n_jobs=-1)]: Done 57388 tasks      | elapsed:  5.5min\n",
      "[Parallel(n_jobs=-1)]: Done 64318 tasks      | elapsed:  6.2min\n",
      "[Parallel(n_jobs=-1)]: Done 71644 tasks      | elapsed:  6.9min\n",
      "[Parallel(n_jobs=-1)]: Done 79366 tasks      | elapsed:  7.6min\n",
      "[Parallel(n_jobs=-1)]: Done 87484 tasks      | elapsed:  8.4min\n",
      "[Parallel(n_jobs=-1)]: Done 95998 tasks      | elapsed:  9.2min\n",
      "[Parallel(n_jobs=-1)]: Done 104908 tasks      | elapsed: 10.1min\n",
      "[Parallel(n_jobs=-1)]: Done 114214 tasks      | elapsed: 10.9min\n",
      "[Parallel(n_jobs=-1)]: Done 123916 tasks      | elapsed: 11.9min\n",
      "[Parallel(n_jobs=-1)]: Done 134014 tasks      | elapsed: 12.8min\n",
      "[Parallel(n_jobs=-1)]: Done 144508 tasks      | elapsed: 13.8min\n",
      "[Parallel(n_jobs=-1)]: Done 155398 tasks      | elapsed: 14.8min\n",
      "[Parallel(n_jobs=-1)]: Done 166684 tasks      | elapsed: 15.8min\n",
      "[Parallel(n_jobs=-1)]: Done 178366 tasks      | elapsed: 16.9min\n",
      "[Parallel(n_jobs=-1)]: Done 190444 tasks      | elapsed: 18.0min\n",
      "[Parallel(n_jobs=-1)]: Done 202918 tasks      | elapsed: 19.2min\n",
      "[Parallel(n_jobs=-1)]: Done 207360 out of 207360 | elapsed: 19.6min finished\n"
     ]
    },
    {
     "name": "stdout",
     "output_type": "stream",
     "text": [
      "{'alpha': 0.01, 'epsilon': 0.01, 'eta0': 0.01, 'l1_ratio': 1, 'learning_rate': 'optimal', 'loss': 'modified_huber', 'n_iter': 5, 'penalty': 'none', 'power_t': 2}\n",
      "0.628\n",
      "\n",
      "PassiveAggressiveClassifier\n",
      "0.626\n",
      "0.63659399502773\n",
      "Fitting 3 folds for each of 14 candidates, totalling 42 fits\n"
     ]
    },
    {
     "name": "stderr",
     "output_type": "stream",
     "text": [
      "[Parallel(n_jobs=-1)]: Done  10 tasks      | elapsed:    3.0s\n",
      "[Parallel(n_jobs=-1)]: Done  35 out of  42 | elapsed:    3.1s remaining:    0.5s\n",
      "[Parallel(n_jobs=-1)]: Done  42 out of  42 | elapsed:    3.1s finished\n"
     ]
    },
    {
     "name": "stdout",
     "output_type": "stream",
     "text": [
      "{'C': 0.1, 'loss': 'hinge'}\n",
      "0.624\n",
      "\n",
      "LinearDiscriminantAnalysis\n",
      "0.634\n",
      "0.8659638554216867\n",
      "Fitting 3 folds for each of 10 candidates, totalling 30 fits\n"
     ]
    },
    {
     "name": "stderr",
     "output_type": "stream",
     "text": [
      "[Parallel(n_jobs=-1)]: Done  10 tasks      | elapsed:    3.0s\n",
      "[Parallel(n_jobs=-1)]: Done  30 out of  30 | elapsed:    3.0s remaining:    0.0s\n",
      "[Parallel(n_jobs=-1)]: Done  30 out of  30 | elapsed:    3.0s finished\n"
     ]
    },
    {
     "name": "stdout",
     "output_type": "stream",
     "text": [
      "{'shrinkage': 0.1, 'solver': 'lsqr'}\n",
      "0.626\n",
      "\n",
      "QuadraticDiscriminantAnalysis\n",
      "0.78\n",
      "0.8659877605660738\n",
      "Fitting 3 folds for each of 12 candidates, totalling 36 fits\n"
     ]
    },
    {
     "name": "stderr",
     "output_type": "stream",
     "text": [
      "[Parallel(n_jobs=-1)]: Done  10 tasks      | elapsed:    3.0s\n",
      "[Parallel(n_jobs=-1)]: Done  29 out of  36 | elapsed:    3.1s remaining:    0.7s\n",
      "[Parallel(n_jobs=-1)]: Done  36 out of  36 | elapsed:    3.1s finished\n"
     ]
    },
    {
     "name": "stdout",
     "output_type": "stream",
     "text": [
      "{'reg_param': 0.0, 'tol': 0.0001}\n",
      "0.78\n",
      "\n",
      "MLPClassifier\n",
      "0.626\n",
      "0.6720214190093708\n",
      "Fitting 3 folds for each of 104976 candidates, totalling 314928 fits\n"
     ]
    },
    {
     "name": "stderr",
     "output_type": "stream",
     "text": [
      "[Parallel(n_jobs=-1)]: Done  10 tasks      | elapsed:    3.6s\n",
      "[Parallel(n_jobs=-1)]: Done  64 tasks      | elapsed:    6.1s\n",
      "[Parallel(n_jobs=-1)]: Done 195 tasks      | elapsed:   12.3s\n",
      "[Parallel(n_jobs=-1)]: Done 447 tasks      | elapsed:   27.7s\n",
      "[Parallel(n_jobs=-1)]: Done 771 tasks      | elapsed:   51.2s\n",
      "[Parallel(n_jobs=-1)]: Done 974 tasks      | elapsed:  1.1min\n",
      "[Parallel(n_jobs=-1)]: Done 1308 tasks      | elapsed:  1.4min\n",
      "[Parallel(n_jobs=-1)]: Done 1848 tasks      | elapsed:  1.9min\n",
      "[Parallel(n_jobs=-1)]: Done 2460 tasks      | elapsed:  2.4min\n",
      "[Parallel(n_jobs=-1)]: Done 3144 tasks      | elapsed:  3.0min\n",
      "[Parallel(n_jobs=-1)]: Done 3900 tasks      | elapsed:  3.9min\n",
      "[Parallel(n_jobs=-1)]: Done 4728 tasks      | elapsed:  4.6min\n",
      "[Parallel(n_jobs=-1)]: Done 5628 tasks      | elapsed:  5.4min\n",
      "[Parallel(n_jobs=-1)]: Done 6449 tasks      | elapsed:  6.3min\n",
      "[Parallel(n_jobs=-1)]: Done 6971 tasks      | elapsed:  7.2min\n",
      "[Parallel(n_jobs=-1)]: Done 7529 tasks      | elapsed:  7.9min\n",
      "[Parallel(n_jobs=-1)]: Done 8123 tasks      | elapsed:  8.6min\n"
     ]
    },
    {
     "ename": "KeyboardInterrupt",
     "evalue": "",
     "output_type": "error",
     "traceback": [
      "\u001b[1;31m---------------------------------------------------------------------------\u001b[0m",
      "\u001b[1;31mKeyboardInterrupt\u001b[0m                         Traceback (most recent call last)",
      "\u001b[1;32m<ipython-input-8-76038cfbac3b>\u001b[0m in \u001b[0;36m<module>\u001b[1;34m()\u001b[0m\n\u001b[0;32m     19\u001b[0m         \u001b[0mparams\u001b[0m \u001b[1;33m=\u001b[0m \u001b[0msteps\u001b[0m\u001b[1;33m.\u001b[0m\u001b[0mparams\u001b[0m\u001b[1;33m[\u001b[0m\u001b[0mname\u001b[0m\u001b[1;33m]\u001b[0m\u001b[1;33m\u001b[0m\u001b[0m\n\u001b[0;32m     20\u001b[0m         \u001b[0mgs\u001b[0m \u001b[1;33m=\u001b[0m \u001b[0mmodel_selection\u001b[0m\u001b[1;33m.\u001b[0m\u001b[0mGridSearchCV\u001b[0m\u001b[1;33m(\u001b[0m\u001b[0mclassif\u001b[0m\u001b[1;33m,\u001b[0m \u001b[0mparams\u001b[0m\u001b[1;33m,\u001b[0m \u001b[0mn_jobs\u001b[0m\u001b[1;33m=\u001b[0m\u001b[1;33m-\u001b[0m\u001b[1;36m1\u001b[0m\u001b[1;33m,\u001b[0m \u001b[0mverbose\u001b[0m\u001b[1;33m=\u001b[0m\u001b[1;36m5\u001b[0m\u001b[1;33m)\u001b[0m\u001b[1;33m\u001b[0m\u001b[0m\n\u001b[1;32m---> 21\u001b[1;33m         \u001b[0mgs\u001b[0m\u001b[1;33m.\u001b[0m\u001b[0mfit\u001b[0m\u001b[1;33m(\u001b[0m\u001b[0mtrain_X\u001b[0m\u001b[1;33m,\u001b[0m \u001b[0mtrain_Y\u001b[0m\u001b[1;33m)\u001b[0m\u001b[1;33m\u001b[0m\u001b[0m\n\u001b[0m\u001b[0;32m     22\u001b[0m \u001b[1;33m\u001b[0m\u001b[0m\n\u001b[0;32m     23\u001b[0m         \u001b[0mprint\u001b[0m\u001b[1;33m(\u001b[0m\u001b[0mgs\u001b[0m\u001b[1;33m.\u001b[0m\u001b[0mbest_params_\u001b[0m\u001b[1;33m)\u001b[0m\u001b[1;33m\u001b[0m\u001b[0m\n",
      "\u001b[1;32mC:\\Anaconda\\lib\\site-packages\\sklearn\\model_selection\\_search.py\u001b[0m in \u001b[0;36mfit\u001b[1;34m(self, X, y, groups, **fit_params)\u001b[0m\n\u001b[0;32m    637\u001b[0m                                   error_score=self.error_score)\n\u001b[0;32m    638\u001b[0m           for parameters, (train, test) in product(candidate_params,\n\u001b[1;32m--> 639\u001b[1;33m                                                    cv.split(X, y, groups)))\n\u001b[0m\u001b[0;32m    640\u001b[0m \u001b[1;33m\u001b[0m\u001b[0m\n\u001b[0;32m    641\u001b[0m         \u001b[1;31m# if one choose to see train score, \"out\" will contain train score info\u001b[0m\u001b[1;33m\u001b[0m\u001b[1;33m\u001b[0m\u001b[0m\n",
      "\u001b[1;32mC:\\Anaconda\\lib\\site-packages\\sklearn\\externals\\joblib\\parallel.py\u001b[0m in \u001b[0;36m__call__\u001b[1;34m(self, iterable)\u001b[0m\n\u001b[0;32m    787\u001b[0m                 \u001b[1;31m# consumption.\u001b[0m\u001b[1;33m\u001b[0m\u001b[1;33m\u001b[0m\u001b[0m\n\u001b[0;32m    788\u001b[0m                 \u001b[0mself\u001b[0m\u001b[1;33m.\u001b[0m\u001b[0m_iterating\u001b[0m \u001b[1;33m=\u001b[0m \u001b[1;32mFalse\u001b[0m\u001b[1;33m\u001b[0m\u001b[0m\n\u001b[1;32m--> 789\u001b[1;33m             \u001b[0mself\u001b[0m\u001b[1;33m.\u001b[0m\u001b[0mretrieve\u001b[0m\u001b[1;33m(\u001b[0m\u001b[1;33m)\u001b[0m\u001b[1;33m\u001b[0m\u001b[0m\n\u001b[0m\u001b[0;32m    790\u001b[0m             \u001b[1;31m# Make sure that we get a last message telling us we are done\u001b[0m\u001b[1;33m\u001b[0m\u001b[1;33m\u001b[0m\u001b[0m\n\u001b[0;32m    791\u001b[0m             \u001b[0melapsed_time\u001b[0m \u001b[1;33m=\u001b[0m \u001b[0mtime\u001b[0m\u001b[1;33m.\u001b[0m\u001b[0mtime\u001b[0m\u001b[1;33m(\u001b[0m\u001b[1;33m)\u001b[0m \u001b[1;33m-\u001b[0m \u001b[0mself\u001b[0m\u001b[1;33m.\u001b[0m\u001b[0m_start_time\u001b[0m\u001b[1;33m\u001b[0m\u001b[0m\n",
      "\u001b[1;32mC:\\Anaconda\\lib\\site-packages\\sklearn\\externals\\joblib\\parallel.py\u001b[0m in \u001b[0;36mretrieve\u001b[1;34m(self)\u001b[0m\n\u001b[0;32m    697\u001b[0m             \u001b[1;32mtry\u001b[0m\u001b[1;33m:\u001b[0m\u001b[1;33m\u001b[0m\u001b[0m\n\u001b[0;32m    698\u001b[0m                 \u001b[1;32mif\u001b[0m \u001b[0mgetattr\u001b[0m\u001b[1;33m(\u001b[0m\u001b[0mself\u001b[0m\u001b[1;33m.\u001b[0m\u001b[0m_backend\u001b[0m\u001b[1;33m,\u001b[0m \u001b[1;34m'supports_timeout'\u001b[0m\u001b[1;33m,\u001b[0m \u001b[1;32mFalse\u001b[0m\u001b[1;33m)\u001b[0m\u001b[1;33m:\u001b[0m\u001b[1;33m\u001b[0m\u001b[0m\n\u001b[1;32m--> 699\u001b[1;33m                     \u001b[0mself\u001b[0m\u001b[1;33m.\u001b[0m\u001b[0m_output\u001b[0m\u001b[1;33m.\u001b[0m\u001b[0mextend\u001b[0m\u001b[1;33m(\u001b[0m\u001b[0mjob\u001b[0m\u001b[1;33m.\u001b[0m\u001b[0mget\u001b[0m\u001b[1;33m(\u001b[0m\u001b[0mtimeout\u001b[0m\u001b[1;33m=\u001b[0m\u001b[0mself\u001b[0m\u001b[1;33m.\u001b[0m\u001b[0mtimeout\u001b[0m\u001b[1;33m)\u001b[0m\u001b[1;33m)\u001b[0m\u001b[1;33m\u001b[0m\u001b[0m\n\u001b[0m\u001b[0;32m    700\u001b[0m                 \u001b[1;32melse\u001b[0m\u001b[1;33m:\u001b[0m\u001b[1;33m\u001b[0m\u001b[0m\n\u001b[0;32m    701\u001b[0m                     \u001b[0mself\u001b[0m\u001b[1;33m.\u001b[0m\u001b[0m_output\u001b[0m\u001b[1;33m.\u001b[0m\u001b[0mextend\u001b[0m\u001b[1;33m(\u001b[0m\u001b[0mjob\u001b[0m\u001b[1;33m.\u001b[0m\u001b[0mget\u001b[0m\u001b[1;33m(\u001b[0m\u001b[1;33m)\u001b[0m\u001b[1;33m)\u001b[0m\u001b[1;33m\u001b[0m\u001b[0m\n",
      "\u001b[1;32mC:\\Anaconda\\lib\\multiprocessing\\pool.py\u001b[0m in \u001b[0;36mget\u001b[1;34m(self, timeout)\u001b[0m\n\u001b[0;32m    636\u001b[0m \u001b[1;33m\u001b[0m\u001b[0m\n\u001b[0;32m    637\u001b[0m     \u001b[1;32mdef\u001b[0m \u001b[0mget\u001b[0m\u001b[1;33m(\u001b[0m\u001b[0mself\u001b[0m\u001b[1;33m,\u001b[0m \u001b[0mtimeout\u001b[0m\u001b[1;33m=\u001b[0m\u001b[1;32mNone\u001b[0m\u001b[1;33m)\u001b[0m\u001b[1;33m:\u001b[0m\u001b[1;33m\u001b[0m\u001b[0m\n\u001b[1;32m--> 638\u001b[1;33m         \u001b[0mself\u001b[0m\u001b[1;33m.\u001b[0m\u001b[0mwait\u001b[0m\u001b[1;33m(\u001b[0m\u001b[0mtimeout\u001b[0m\u001b[1;33m)\u001b[0m\u001b[1;33m\u001b[0m\u001b[0m\n\u001b[0m\u001b[0;32m    639\u001b[0m         \u001b[1;32mif\u001b[0m \u001b[1;32mnot\u001b[0m \u001b[0mself\u001b[0m\u001b[1;33m.\u001b[0m\u001b[0mready\u001b[0m\u001b[1;33m(\u001b[0m\u001b[1;33m)\u001b[0m\u001b[1;33m:\u001b[0m\u001b[1;33m\u001b[0m\u001b[0m\n\u001b[0;32m    640\u001b[0m             \u001b[1;32mraise\u001b[0m \u001b[0mTimeoutError\u001b[0m\u001b[1;33m\u001b[0m\u001b[0m\n",
      "\u001b[1;32mC:\\Anaconda\\lib\\multiprocessing\\pool.py\u001b[0m in \u001b[0;36mwait\u001b[1;34m(self, timeout)\u001b[0m\n\u001b[0;32m    633\u001b[0m \u001b[1;33m\u001b[0m\u001b[0m\n\u001b[0;32m    634\u001b[0m     \u001b[1;32mdef\u001b[0m \u001b[0mwait\u001b[0m\u001b[1;33m(\u001b[0m\u001b[0mself\u001b[0m\u001b[1;33m,\u001b[0m \u001b[0mtimeout\u001b[0m\u001b[1;33m=\u001b[0m\u001b[1;32mNone\u001b[0m\u001b[1;33m)\u001b[0m\u001b[1;33m:\u001b[0m\u001b[1;33m\u001b[0m\u001b[0m\n\u001b[1;32m--> 635\u001b[1;33m         \u001b[0mself\u001b[0m\u001b[1;33m.\u001b[0m\u001b[0m_event\u001b[0m\u001b[1;33m.\u001b[0m\u001b[0mwait\u001b[0m\u001b[1;33m(\u001b[0m\u001b[0mtimeout\u001b[0m\u001b[1;33m)\u001b[0m\u001b[1;33m\u001b[0m\u001b[0m\n\u001b[0m\u001b[0;32m    636\u001b[0m \u001b[1;33m\u001b[0m\u001b[0m\n\u001b[0;32m    637\u001b[0m     \u001b[1;32mdef\u001b[0m \u001b[0mget\u001b[0m\u001b[1;33m(\u001b[0m\u001b[0mself\u001b[0m\u001b[1;33m,\u001b[0m \u001b[0mtimeout\u001b[0m\u001b[1;33m=\u001b[0m\u001b[1;32mNone\u001b[0m\u001b[1;33m)\u001b[0m\u001b[1;33m:\u001b[0m\u001b[1;33m\u001b[0m\u001b[0m\n",
      "\u001b[1;32mC:\\Anaconda\\lib\\threading.py\u001b[0m in \u001b[0;36mwait\u001b[1;34m(self, timeout)\u001b[0m\n\u001b[0;32m    549\u001b[0m             \u001b[0msignaled\u001b[0m \u001b[1;33m=\u001b[0m \u001b[0mself\u001b[0m\u001b[1;33m.\u001b[0m\u001b[0m_flag\u001b[0m\u001b[1;33m\u001b[0m\u001b[0m\n\u001b[0;32m    550\u001b[0m             \u001b[1;32mif\u001b[0m \u001b[1;32mnot\u001b[0m \u001b[0msignaled\u001b[0m\u001b[1;33m:\u001b[0m\u001b[1;33m\u001b[0m\u001b[0m\n\u001b[1;32m--> 551\u001b[1;33m                 \u001b[0msignaled\u001b[0m \u001b[1;33m=\u001b[0m \u001b[0mself\u001b[0m\u001b[1;33m.\u001b[0m\u001b[0m_cond\u001b[0m\u001b[1;33m.\u001b[0m\u001b[0mwait\u001b[0m\u001b[1;33m(\u001b[0m\u001b[0mtimeout\u001b[0m\u001b[1;33m)\u001b[0m\u001b[1;33m\u001b[0m\u001b[0m\n\u001b[0m\u001b[0;32m    552\u001b[0m             \u001b[1;32mreturn\u001b[0m \u001b[0msignaled\u001b[0m\u001b[1;33m\u001b[0m\u001b[0m\n\u001b[0;32m    553\u001b[0m \u001b[1;33m\u001b[0m\u001b[0m\n",
      "\u001b[1;32mC:\\Anaconda\\lib\\threading.py\u001b[0m in \u001b[0;36mwait\u001b[1;34m(self, timeout)\u001b[0m\n\u001b[0;32m    293\u001b[0m         \u001b[1;32mtry\u001b[0m\u001b[1;33m:\u001b[0m    \u001b[1;31m# restore state no matter what (e.g., KeyboardInterrupt)\u001b[0m\u001b[1;33m\u001b[0m\u001b[0m\n\u001b[0;32m    294\u001b[0m             \u001b[1;32mif\u001b[0m \u001b[0mtimeout\u001b[0m \u001b[1;32mis\u001b[0m \u001b[1;32mNone\u001b[0m\u001b[1;33m:\u001b[0m\u001b[1;33m\u001b[0m\u001b[0m\n\u001b[1;32m--> 295\u001b[1;33m                 \u001b[0mwaiter\u001b[0m\u001b[1;33m.\u001b[0m\u001b[0macquire\u001b[0m\u001b[1;33m(\u001b[0m\u001b[1;33m)\u001b[0m\u001b[1;33m\u001b[0m\u001b[0m\n\u001b[0m\u001b[0;32m    296\u001b[0m                 \u001b[0mgotit\u001b[0m \u001b[1;33m=\u001b[0m \u001b[1;32mTrue\u001b[0m\u001b[1;33m\u001b[0m\u001b[0m\n\u001b[0;32m    297\u001b[0m             \u001b[1;32melse\u001b[0m\u001b[1;33m:\u001b[0m\u001b[1;33m\u001b[0m\u001b[0m\n",
      "\u001b[1;31mKeyboardInterrupt\u001b[0m: "
     ]
    }
   ],
   "source": [
    "print(\"Format:\")\n",
    "print(\"------------\")\n",
    "print(\"Classifier\")\n",
    "print(\"score\")\n",
    "print(\"cross-validation score\")\n",
    "print(\"GridSearch score\")\n",
    "print(\"------------\")\n",
    "print()\n",
    "\n",
    "with warnings.catch_warnings():\n",
    "    warnings.simplefilter('ignore')\n",
    "    for name, cls in steps.clfs.items():\n",
    "        classif = cls()\n",
    "        print(classif.__class__.__name__)\n",
    "        classif.fit(train_X, train_Y)\n",
    "        print(classif.score(test_X, test_Y))\n",
    "        print(model_selection.cross_val_score(classif, test_X, test_Y).mean())\n",
    "        \n",
    "        params = steps.params[name]\n",
    "        gs = model_selection.GridSearchCV(classif, params, n_jobs=-1, verbose=5)\n",
    "        gs.fit(train_X, train_Y)\n",
    "        \n",
    "        print(gs.best_params_)\n",
    "        print(gs.score(test_X, test_Y))\n",
    "        print()"
   ]
  },
  {
   "cell_type": "code",
   "execution_count": 9,
   "metadata": {},
   "outputs": [
    {
     "name": "stdout",
     "output_type": "stream",
     "text": [
      "\n",
      "Gen 1:\n",
      "\n",
      "Hall of fame:\n",
      "[('PCA', {'whiten': True}), ('PCA', {'whiten': False}), ('gaussianNB', {})]\n",
      "[('PCA', {'whiten': True}), ('PCA', {'whiten': False}), ('PCA', {'whiten': False}), ('gaussianNB', {})]\n",
      "[('PCA', {'whiten': False}), ('DT', {'criterion': 'gini', 'max_features': 1, 'max_depth': 50, 'min_samples_split': 2, 'min_samples_leaf': 20})]\n",
      "[('PCA', {'whiten': False}), ('PCA', {'whiten': True}), ('DT', {'criterion': 'entropy', 'max_features': 1, 'max_depth': 5, 'min_samples_split': 10, 'min_samples_leaf': 5})]\n",
      "[('PCA', {'whiten': False}), ('PCA', {'whiten': False}), ('DT', {'criterion': 'gini', 'max_features': 1, 'max_depth': 50, 'min_samples_split': 2, 'min_samples_leaf': 20})]\n",
      "\n",
      "Gen 6:\n",
      "\n",
      "Hall of fame:\n",
      "[('PCA', {'whiten': True}), ('PCA', {'whiten': False}), ('gaussianNB', {})]\n",
      "[('PCA', {'whiten': False}), ('gaussianNB', {})]\n",
      "[('PCA', {'whiten': False}), ('PCA', {'whiten': False}), ('gaussianNB', {})]\n",
      "[('PCA', {'whiten': True}), ('PCA', {'whiten': False}), ('PCA', {'whiten': False}), ('gaussianNB', {})]\n",
      "[('PCA', {'whiten': True}), ('PCA', {'whiten': False}), ('DT', {'criterion': 'gini', 'max_features': 1, 'max_depth': 50, 'min_samples_split': 2, 'min_samples_leaf': 20})]\n",
      "\n",
      "Gen 11:\n",
      "\n",
      "Hall of fame:\n",
      "[('PCA', {'whiten': True}), ('PCA', {'whiten': False}), ('gaussianNB', {})]\n",
      "[('PCA', {'whiten': False}), ('gaussianNB', {})]\n",
      "[('PCA', {'whiten': False}), ('PCA', {'whiten': False}), ('gaussianNB', {})]\n",
      "[('PCA', {'whiten': True}), ('PCA', {'whiten': False}), ('PCA', {'whiten': False}), ('gaussianNB', {})]\n",
      "[('PCA', {'whiten': True}), ('PCA', {'whiten': False}), ('DT', {'criterion': 'gini', 'max_features': 1, 'max_depth': 50, 'min_samples_split': 2, 'min_samples_leaf': 20})]\n",
      "\n",
      "Gen 16:\n",
      "\n",
      "Hall of fame:\n",
      "[('PCA', {'whiten': True}), ('PCA', {'whiten': False}), ('gaussianNB', {})]\n",
      "[('PCA', {'whiten': False}), ('gaussianNB', {})]\n",
      "[('PCA', {'whiten': False}), ('PCA', {'whiten': False}), ('gaussianNB', {})]\n",
      "[('PCA', {'whiten': True}), ('PCA', {'whiten': False}), ('PCA', {'whiten': False}), ('gaussianNB', {})]\n",
      "[('PCA', {'whiten': True}), ('PCA', {'whiten': False}), ('DT', {'criterion': 'gini', 'max_features': 1, 'max_depth': 50, 'min_samples_split': 2, 'min_samples_leaf': 20})]\n",
      "\n",
      "Gen 21:\n",
      "\n",
      "Hall of fame:\n",
      "[('PCA', {'whiten': True}), ('PCA', {'whiten': False}), ('gaussianNB', {})]\n",
      "[('PCA', {'whiten': False}), ('gaussianNB', {})]\n",
      "[('PCA', {'whiten': False}), ('PCA', {'whiten': False}), ('gaussianNB', {})]\n",
      "[('PCA', {'whiten': True}), ('PCA', {'whiten': False}), ('PCA', {'whiten': False}), ('gaussianNB', {})]\n",
      "[('PCA', {'whiten': True}), ('PCA', {'whiten': False}), ('DT', {'criterion': 'gini', 'max_features': 1, 'max_depth': 50, 'min_samples_split': 2, 'min_samples_leaf': 20})]\n",
      "\n",
      "Gen 26:\n",
      "\n",
      "Hall of fame:\n",
      "[('PCA', {'whiten': True}), ('PCA', {'whiten': False}), ('gaussianNB', {})]\n",
      "[('PCA', {'whiten': False}), ('gaussianNB', {})]\n",
      "[('PCA', {'whiten': False}), ('PCA', {'whiten': False}), ('gaussianNB', {})]\n",
      "[('PCA', {'whiten': True}), ('PCA', {'whiten': False}), ('PCA', {'whiten': False}), ('gaussianNB', {})]\n",
      "[('PCA', {'whiten': True}), ('PCA', {'whiten': False}), ('DT', {'criterion': 'gini', 'max_features': 1, 'max_depth': 50, 'min_samples_split': 2, 'min_samples_leaf': 20})]\n",
      "\n",
      "Gen 31:\n",
      "\n",
      "Hall of fame:\n",
      "[('PCA', {'whiten': True}), ('PCA', {'whiten': False}), ('gaussianNB', {})]\n",
      "[('PCA', {'whiten': False}), ('gaussianNB', {})]\n",
      "[('PCA', {'whiten': False}), ('PCA', {'whiten': False}), ('gaussianNB', {})]\n",
      "[('PCA', {'whiten': True}), ('PCA', {'whiten': False}), ('PCA', {'whiten': False}), ('gaussianNB', {})]\n",
      "[('PCA', {'whiten': True}), ('PCA', {'whiten': False}), ('DT', {'criterion': 'gini', 'max_features': 1, 'max_depth': 50, 'min_samples_split': 2, 'min_samples_leaf': 20})]\n",
      "\n",
      "Gen 36:\n",
      "\n",
      "Hall of fame:\n",
      "[('PCA', {'whiten': True}), ('PCA', {'whiten': False}), ('gaussianNB', {})]\n",
      "[('PCA', {'whiten': False}), ('gaussianNB', {})]\n",
      "[('PCA', {'whiten': False}), ('PCA', {'whiten': False}), ('gaussianNB', {})]\n",
      "[('PCA', {'whiten': True}), ('PCA', {'whiten': False}), ('PCA', {'whiten': False}), ('gaussianNB', {})]\n",
      "[('PCA', {'whiten': True}), ('PCA', {'whiten': False}), ('DT', {'criterion': 'gini', 'max_features': 1, 'max_depth': 50, 'min_samples_split': 2, 'min_samples_leaf': 20})]\n",
      "\n",
      "Best pipeline test score: 0.77\n",
      "\n",
      "Kappa: 0.44622081824485704, Pipe: ['pca-1', 'pca-2', 'gaussiannb']\n",
      "Kappa: 0.41719281204468184, Pipe: ['pca', 'gaussiannb']\n",
      "Kappa: 0.41719281204468184, Pipe: ['pca-1', 'pca-2', 'gaussiannb']\n",
      "Kappa: 0.3518701761329903, Pipe: ['pca-1', 'pca-2', 'pca-3', 'gaussiannb']\n",
      "Kappa: 0.2497180148243635, Pipe: ['pca-1', 'pca-2', 'decisiontreeclassifier']\n"
     ]
    }
   ],
   "source": [
    "clf = evopipe.EvoPipeClassifier(steps.preproc, steps.clfs, steps.params)\n",
    "clf.fit(train_X, train_Y)\n",
    "\n",
    "score = clf.score(test_X, test_Y)\n",
    "print(\"\\nBest pipeline test score: {}\\n\".format(score))\n",
    "/\n",
    "best_pipes = clf.best_pipelines()\n",
    "\n",
    "for pipe in best_pipes:\n",
    "    pipe.fit(train_X, train_Y)\n",
    "    res_Y = pipe.predict(test_X)\n",
    "    \n",
    "    score = metrics.cohen_kappa_score(test_Y, res_Y, weights='quadratic')\n",
    "    \n",
    "    pipe_named_steps = []\n",
    "    for key, val in pipe.steps:\n",
    "        pipe_named_steps.append(key)       \n",
    "    print(\"Kappa: {}, Pipe: {}\".format(score, pipe_named_steps))"
   ]
  },
  {
   "cell_type": "code",
   "execution_count": 10,
   "metadata": {},
   "outputs": [
    {
     "name": "stdout",
     "output_type": "stream",
     "text": [
      "gen\tavg     \tmin     \tmax     \n",
      "0  \t0.853261\t0       \t0.993088\n",
      "1  \t0.987848\t0.976948\t0.993088\n",
      "2  \t0.990576\t0.982024\t0.993088\n",
      "3  \t0.993035\t0.992858\t0.993088\n",
      "4  \t0.993073\t0.992858\t0.993088\n",
      "5  \t0.993088\t0.993088\t0.993088\n",
      "6  \t0.993088\t0.993088\t0.993088\n",
      "7  \t0.993088\t0.993088\t0.993088\n",
      "8  \t0.993088\t0.993088\t0.993088\n",
      "9  \t0.993088\t0.993088\t0.993088\n",
      "10 \t0.993088\t0.993088\t0.993088\n",
      "11 \t0.993088\t0.993088\t0.993088\n",
      "12 \t0.993088\t0.993088\t0.993088\n",
      "13 \t0.993088\t0.993088\t0.993088\n",
      "14 \t0.993088\t0.993088\t0.993088\n",
      "15 \t0.993088\t0.993088\t0.993088\n",
      "16 \t0.993088\t0.993088\t0.993088\n",
      "17 \t0.993088\t0.993088\t0.993088\n",
      "18 \t0.993088\t0.993088\t0.993088\n",
      "19 \t0.993088\t0.993088\t0.993088\n",
      "20 \t0.993088\t0.993088\t0.993088\n",
      "21 \t0.993088\t0.993088\t0.993088\n",
      "22 \t0.993088\t0.993088\t0.993088\n",
      "23 \t0.993088\t0.993088\t0.993088\n",
      "24 \t0.993088\t0.993088\t0.993088\n",
      "25 \t0.993088\t0.993088\t0.993088\n",
      "26 \t0.993088\t0.993088\t0.993088\n",
      "27 \t0.993088\t0.993088\t0.993088\n",
      "28 \t0.993088\t0.993088\t0.993088\n",
      "29 \t0.993088\t0.993088\t0.993088\n",
      "30 \t0.993088\t0.993088\t0.993088\n",
      "31 \t0.993088\t0.993088\t0.993088\n",
      "32 \t0.993088\t0.993088\t0.993088\n",
      "33 \t0.993088\t0.993088\t0.993088\n",
      "34 \t0.993088\t0.993088\t0.993088\n",
      "35 \t0.993088\t0.993088\t0.993088\n",
      "36 \t0.993088\t0.993088\t0.993088\n",
      "37 \t0.993088\t0.993088\t0.993088\n",
      "38 \t0.993088\t0.993088\t0.993088\n",
      "39 \t0.993088\t0.993088\t0.993088\n"
     ]
    },
    {
     "data": {
      "image/png": "[encoded data removed]",
      "text/plain": [
       "<matplotlib.figure.Figure at 0x16cec2f83c8>"
      ]
     },
     "metadata": {},
     "output_type": "display_data"
    }
   ],
   "source": [
    "print(clf.logbook)\n",
    "\n",
    "gen = clf.logbook.select(\"gen\")\n",
    "avgs, mins, maxs, vars = clf.logbook.select(\"avg\", \"min\", \"max\", \"var\")\n",
    "\n",
    "sns.set()\n",
    "\n",
    "fig = plt.figure()\n",
    "ax1 = fig.add_subplot(111)\n",
    "ax1.plot(gen, avgs, label='Average')\n",
    "ax1.set_xlabel(\"Generation\")\n",
    "ax1.set_ylabel(\"Fitness\")\n",
    "\n",
    "ax1.plot(gen, maxs, label='Maximum')\n",
    "ax1.set_xlabel(\"Generation\")\n",
    "# ax1.set_ylabel(\"Maximum Fitness\")\n",
    "\n",
    "plt.show()"
   ]
  },
  {
   "cell_type": "code",
   "execution_count": null,
   "metadata": {},
   "outputs": [],
   "source": []
  }
 ],
 "metadata": {
  "kernelspec": {
   "display_name": "Python 3",
   "language": "python",
   "name": "python3"
  },
  "language_info": {
   "codemirror_mode": {
    "name": "ipython",
    "version": 3
   },
   "file_extension": ".py",
   "mimetype": "text/x-python",
   "name": "python",
   "nbconvert_exporter": "python",
   "pygments_lexer": "ipython3",
   "version": "3.6.4"
  }
 },
 "nbformat": 4,
 "nbformat_minor": 2
}
