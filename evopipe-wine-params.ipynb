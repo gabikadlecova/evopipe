{
 "cells": [
  {
   "cell_type": "code",
   "execution_count": 1,
   "metadata": {},
   "outputs": [],
   "source": [
    "from sklearn import preprocessing\n",
    "from sklearn import model_selection\n",
    "\n",
    "import evopipe\n",
    "import steps\n",
    "import warnings\n",
    "\n",
    "from sklearn.model_selection import train_test_split\n",
    "from sklearn import datasets\n",
    "\n",
    "import matplotlib.pyplot as plt\n",
    "import seaborn as sns"
   ]
  },
  {
   "cell_type": "code",
   "execution_count": 2,
   "metadata": {},
   "outputs": [],
   "source": [
    "wine = datasets.load_wine()\n",
    "train_X, test_X, train_Y, test_Y = train_test_split(wine.data, wine.target, test_size = 0.25, random_state = 0)\n",
    "\n",
    "params = steps.get_params(len(train_X[0]))"
   ]
  },
  {
   "cell_type": "code",
   "execution_count": 3,
   "metadata": {},
   "outputs": [
    {
     "name": "stdout",
     "output_type": "stream",
     "text": [
      "Format:\n",
      "------------\n",
      "Classifier\n",
      "score\n",
      "cross-validation score\n",
      "GridSearch score\n",
      "------------\n",
      "\n",
      "SVC\n",
      "0.5111111111111111\n",
      "0.4680555555555556\n"
     ]
    },
    {
     "ename": "ValueError",
     "evalue": "Parameter values for parameter (PCA) need to be a sequence(but not a string) or np.ndarray.",
     "output_type": "error",
     "traceback": [
      "\u001b[1;31m---------------------------------------------------------------------------\u001b[0m",
      "\u001b[1;31mValueError\u001b[0m                                Traceback (most recent call last)",
      "\u001b[1;32m<ipython-input-3-e65dacaa0d3f>\u001b[0m in \u001b[0;36m<module>\u001b[1;34m()\u001b[0m\n\u001b[0;32m     18\u001b[0m \u001b[1;33m\u001b[0m\u001b[0m\n\u001b[0;32m     19\u001b[0m         \u001b[0mpipe_params\u001b[0m \u001b[1;33m=\u001b[0m \u001b[0mparams\u001b[0m\u001b[1;33m[\u001b[0m\u001b[0mname\u001b[0m\u001b[1;33m]\u001b[0m\u001b[1;33m\u001b[0m\u001b[0m\n\u001b[1;32m---> 20\u001b[1;33m         \u001b[0mgs\u001b[0m \u001b[1;33m=\u001b[0m \u001b[0mmodel_selection\u001b[0m\u001b[1;33m.\u001b[0m\u001b[0mGridSearchCV\u001b[0m\u001b[1;33m(\u001b[0m\u001b[0mclassif\u001b[0m\u001b[1;33m,\u001b[0m \u001b[0mparams\u001b[0m\u001b[1;33m,\u001b[0m\u001b[0mn_jobs\u001b[0m\u001b[1;33m=\u001b[0m\u001b[1;33m-\u001b[0m\u001b[1;36m1\u001b[0m\u001b[1;33m,\u001b[0m \u001b[0mpre_dispatch\u001b[0m\u001b[1;33m=\u001b[0m\u001b[1;34m'2*n_jobs'\u001b[0m\u001b[1;33m,\u001b[0m \u001b[0mverbose\u001b[0m\u001b[1;33m=\u001b[0m\u001b[1;36m5\u001b[0m\u001b[1;33m)\u001b[0m\u001b[1;33m\u001b[0m\u001b[0m\n\u001b[0m\u001b[0;32m     21\u001b[0m         \u001b[0mgs\u001b[0m\u001b[1;33m.\u001b[0m\u001b[0mfit\u001b[0m\u001b[1;33m(\u001b[0m\u001b[0mtrain_X\u001b[0m\u001b[1;33m,\u001b[0m \u001b[0mtrain_Y\u001b[0m\u001b[1;33m)\u001b[0m\u001b[1;33m\u001b[0m\u001b[0m\n\u001b[0;32m     22\u001b[0m \u001b[1;33m\u001b[0m\u001b[0m\n",
      "\u001b[1;32mC:\\Anaconda\\lib\\site-packages\\sklearn\\model_selection\\_search.py\u001b[0m in \u001b[0;36m__init__\u001b[1;34m(self, estimator, param_grid, scoring, fit_params, n_jobs, iid, refit, cv, verbose, pre_dispatch, error_score, return_train_score)\u001b[0m\n\u001b[0;32m   1075\u001b[0m             return_train_score=return_train_score)\n\u001b[0;32m   1076\u001b[0m         \u001b[0mself\u001b[0m\u001b[1;33m.\u001b[0m\u001b[0mparam_grid\u001b[0m \u001b[1;33m=\u001b[0m \u001b[0mparam_grid\u001b[0m\u001b[1;33m\u001b[0m\u001b[0m\n\u001b[1;32m-> 1077\u001b[1;33m         \u001b[0m_check_param_grid\u001b[0m\u001b[1;33m(\u001b[0m\u001b[0mparam_grid\u001b[0m\u001b[1;33m)\u001b[0m\u001b[1;33m\u001b[0m\u001b[0m\n\u001b[0m\u001b[0;32m   1078\u001b[0m \u001b[1;33m\u001b[0m\u001b[0m\n\u001b[0;32m   1079\u001b[0m     \u001b[1;32mdef\u001b[0m \u001b[0m_get_param_iterator\u001b[0m\u001b[1;33m(\u001b[0m\u001b[0mself\u001b[0m\u001b[1;33m)\u001b[0m\u001b[1;33m:\u001b[0m\u001b[1;33m\u001b[0m\u001b[0m\n",
      "\u001b[1;32mC:\\Anaconda\\lib\\site-packages\\sklearn\\model_selection\\_search.py\u001b[0m in \u001b[0;36m_check_param_grid\u001b[1;34m(param_grid)\u001b[0m\n\u001b[0;32m    354\u001b[0m                 raise ValueError(\"Parameter values for parameter ({0}) need \"\n\u001b[0;32m    355\u001b[0m                                  \u001b[1;34m\"to be a sequence(but not a string) or\"\u001b[0m\u001b[1;33m\u001b[0m\u001b[0m\n\u001b[1;32m--> 356\u001b[1;33m                                  \" np.ndarray.\".format(name))\n\u001b[0m\u001b[0;32m    357\u001b[0m \u001b[1;33m\u001b[0m\u001b[0m\n\u001b[0;32m    358\u001b[0m             \u001b[1;32mif\u001b[0m \u001b[0mlen\u001b[0m\u001b[1;33m(\u001b[0m\u001b[0mv\u001b[0m\u001b[1;33m)\u001b[0m \u001b[1;33m==\u001b[0m \u001b[1;36m0\u001b[0m\u001b[1;33m:\u001b[0m\u001b[1;33m\u001b[0m\u001b[0m\n",
      "\u001b[1;31mValueError\u001b[0m: Parameter values for parameter (PCA) need to be a sequence(but not a string) or np.ndarray."
     ]
    }
   ],
   "source": [
    "print(\"Format:\")\n",
    "print(\"------------\")\n",
    "print(\"Classifier\")\n",
    "print(\"score\")\n",
    "print(\"cross-validation score\")\n",
    "print(\"GridSearch score\")\n",
    "print(\"------------\")\n",
    "print()\n",
    "\n",
    "with warnings.catch_warnings():\n",
    "    warnings.simplefilter('ignore')\n",
    "    for name, cls in steps.clfs.items():\n",
    "        classif = cls()\n",
    "        print(classif.__class__.__name__)\n",
    "        classif.fit(train_X, train_Y)\n",
    "        print(classif.score(test_X, test_Y))\n",
    "        print(model_selection.cross_val_score(classif, test_X, test_Y).mean())\n",
    "        \n",
    "        pipe_params = params[name]\n",
    "        gs = model_selection.GridSearchCV(classif, params,n_jobs=-1, pre_dispatch='2*n_jobs', verbose=5)\n",
    "        gs.fit(train_X, train_Y)\n",
    "        \n",
    "        print(gs.best_params_)\n",
    "        print(gs.score(test_X, test_Y))\n",
    "        print()"
   ]
  },
  {
   "cell_type": "code",
   "execution_count": 3,
   "metadata": {},
   "outputs": [
    {
     "name": "stdout",
     "output_type": "stream",
     "text": [
      "\n",
      "Gen 6:\n",
      "\n",
      "Hall of fame:\n",
      "[('gaussianNB', {})]\n",
      "[('PCA', {'n_components': 9, 'whiten': True}), ('PCA', {'n_components': 9, 'whiten': True}), ('SVC', {'C': 5, 'gamma': 0.01, 'tol': 0.0001})]\n",
      "[('PCA', {'n_components': 9, 'whiten': True}), ('PCA', {'n_components': 9, 'whiten': False}), ('SGD', {'penalty': 'l2', 'loss': 'log', 'n_iter': 100, 'alpha': 0.0001, 'l1_ratio': 0.5, 'epsilon': 0.05, 'learning_rate': 'constant', 'eta0': 0.1, 'power_t': 2})]\n",
      "[('PCA', {'n_components': 13, 'whiten': True}), ('gaussianNB', {})]\n",
      "[('kBest', {'k': 9}), ('DT', {'criterion': 'entropy', 'max_features': 0.05, 'max_depth': 50, 'min_samples_split': 20, 'min_samples_leaf': 5})]\n",
      "\n",
      "Gen 11:\n",
      "\n",
      "Hall of fame:\n",
      "[('QDA', {'reg_param': 0.0, 'tol': 0.001})]\n",
      "[('gaussianNB', {})]\n",
      "[('PCA', {'n_components': 6, 'whiten': True}), ('QDA', {'reg_param': 0.0, 'tol': 0.0001})]\n",
      "[('PCA', {'n_components': 9, 'whiten': True}), ('PCA', {'n_components': 9, 'whiten': True}), ('SVC', {'C': 5, 'gamma': 0.01, 'tol': 0.0001})]\n",
      "[('PCA', {'n_components': 13, 'whiten': False}), ('QDA', {'reg_param': 0.5, 'tol': 0.0001})]\n",
      "\n",
      "Gen 16:\n",
      "\n",
      "Hall of fame:\n",
      "[('QDA', {'reg_param': 0.0, 'tol': 0.01})]\n",
      "[('QDA', {'reg_param': 0.0, 'tol': 0.001})]\n",
      "[('kBest', {'k': 6}), ('gaussianNB', {})]\n",
      "[('kBest', {'k': 13}), ('kBest', {'k': 13}), ('gaussianNB', {})]\n",
      "[('gaussianNB', {})]\n",
      "\n",
      "Gen 21:\n",
      "\n",
      "Hall of fame:\n",
      "[('kBest', {'k': 9}), ('QDA', {'reg_param': 0.0, 'tol': 0.0001})]\n",
      "[('QDA', {'reg_param': 0.0, 'tol': 0.0001})]\n",
      "[('QDA', {'reg_param': 0.0, 'tol': 0.01})]\n",
      "[('QDA', {'reg_param': 0.0, 'tol': 0.001})]\n",
      "[('kBest', {'k': 6}), ('gaussianNB', {})]\n",
      "\n",
      "Gen 26:\n",
      "\n",
      "Hall of fame:\n",
      "[('kBest', {'k': 9}), ('QDA', {'reg_param': 0.0, 'tol': 0.0001})]\n",
      "[('QDA', {'reg_param': 0.0, 'tol': 0.0001})]\n",
      "[('QDA', {'reg_param': 0.0, 'tol': 0.01})]\n",
      "[('QDA', {'reg_param': 0.0, 'tol': 0.001})]\n",
      "[('kBest', {'k': 6}), ('gaussianNB', {})]\n",
      "\n",
      "Gen 31:\n",
      "\n",
      "Hall of fame:\n",
      "[('PCA', {'n_components': 13, 'whiten': True}), ('QDA', {'reg_param': 1, 'tol': 0.0001})]\n",
      "[('kBest', {'k': 6}), ('QDA', {'reg_param': 0.0, 'tol': 0.001})]\n",
      "[('kBest', {'k': 9}), ('QDA', {'reg_param': 0.0, 'tol': 0.0001})]\n",
      "[('QDA', {'reg_param': 0.0, 'tol': 0.0001})]\n",
      "[('QDA', {'reg_param': 0.0, 'tol': 0.01})]\n",
      "\n",
      "Gen 36:\n",
      "\n",
      "Hall of fame:\n",
      "[('PCA', {'n_components': 13, 'whiten': True}), ('QDA', {'reg_param': 1, 'tol': 0.0001})]\n",
      "[('kBest', {'k': 6}), ('QDA', {'reg_param': 0.0, 'tol': 0.001})]\n",
      "[('kBest', {'k': 9}), ('QDA', {'reg_param': 0.0, 'tol': 0.0001})]\n",
      "[('QDA', {'reg_param': 0.0, 'tol': 0.0001})]\n",
      "[('QDA', {'reg_param': 0.0, 'tol': 0.01})]\n",
      "\n",
      "Best pipeline test score: 1.0\n",
      "\n",
      "Score: 1.0, Pipe: ['pca', 'quadraticdiscriminantanalysis']\n",
      "Score: 0.9555555555555556, Pipe: ['selectkbest', 'quadraticdiscriminantanalysis']\n",
      "Score: 1.0, Pipe: ['selectkbest', 'quadraticdiscriminantanalysis']\n",
      "Score: 1.0, Pipe: ['quadraticdiscriminantanalysis']\n",
      "Score: 1.0, Pipe: ['quadraticdiscriminantanalysis']\n"
     ]
    }
   ],
   "source": [
    "clf = evopipe.EvoPipeClassifier(steps.preproc, steps.clfs, params, mutpb=0.5, swap_mutpb=0.2, param_mutpb=0.7,\n",
    "                                ind_mutpb=0.8)\n",
    "clf.fit(train_X, train_Y, test_X, test_Y)\n",
    "\n",
    "score = clf.score(test_X, test_Y)\n",
    "print(\"\\nBest pipeline test score: {}\\n\".format(score))\n",
    "\n",
    "best_pipes = clf.best_pipelines()\n",
    "\n",
    "for pipe in best_pipes:\n",
    "    pipe.fit(train_X, train_Y)\n",
    "    score = pipe.score(test_X, test_Y)\n",
    "    \n",
    "    pipe_named_steps = []\n",
    "    for key, val in pipe.steps:\n",
    "        pipe_named_steps.append(key)       \n",
    "    print(\"Score: {}, Pipe: {}\".format(score, pipe_named_steps))"
   ]
  },
  {
   "cell_type": "code",
   "execution_count": 4,
   "metadata": {},
   "outputs": [
    {
     "name": "stdout",
     "output_type": "stream",
     "text": [
      "   \t                        fitness                         \t                       train_test                       \n",
      "   \t--------------------------------------------------------\t--------------------------------------------------------\n",
      "gen\tvar        \tavg     \tmin        \tmax     \tvar        \tavg     \tmin       \tmax     \n",
      "1  \t0.0103078  \t0.900985\t0.565629   \t0.966097\t0.0157355  \t0.87925 \t0.415584  \t0.964761\n",
      "2  \t0.0163847  \t0.870637\t0.496189   \t0.966097\t0.0310177  \t0.84097 \t0.415584  \t1       \n",
      "3  \t0.0123677  \t0.867586\t0.654025   \t0.966097\t0.0144996  \t0.832518\t0.376368  \t0.964761\n",
      "4  \t0.0949445  \t0.593476\t0          \t0.966097\t0.112109   \t0.532816\t0         \t0.964761\n",
      "5  \t0.112896   \t0.681247\t0          \t0.966097\t0.13095    \t0.670287\t-0.0583942\t0.964761\n",
      "6  \t0.21138    \t0.603477\t0          \t0.966097\t0.187616   \t0.569031\t0         \t0.964761\n",
      "7  \t0.0141832  \t0.925982\t0.503104   \t0.966097\t0.0105225  \t0.869196\t0.489051  \t0.964761\n",
      "8  \t2.67356e-09\t0.965903\t0.96589    \t0.966097\t0.000301902\t0.960117\t0.895105  \t0.964761\n",
      "9  \t2.23426e-05\t0.968947\t0.966097   \t0.976786\t0.00215169 \t0.923077\t0.895105  \t1       \n",
      "10 \t0.0951726  \t0.790599\t0.231554   \t0.976786\t0.165113   \t0.734809\t0         \t1       \n",
      "11 \t0.000585101\t0.965808\t0.876872   \t0.976786\t0.00205606 \t0.955507\t0.858713  \t1       \n",
      "12 \t0.0522994  \t0.648182\t0.453026   \t0.976786\t0.0777461  \t0.701408\t0.0461771 \t1       \n",
      "13 \t0.0652116  \t0.638829\t0          \t0.976786\t0.0501079  \t0.716291\t0         \t1       \n",
      "14 \t0.0149164  \t0.878933\t0.706555   \t0.976786\t0.0280059  \t0.847555\t0.612979  \t1       \n",
      "15 \t0.196021   \t0.557434\t0          \t0.976786\t0.20155    \t0.551821\t0         \t1       \n",
      "16 \t0.0500951  \t0.766584\t0.32796    \t0.976786\t0.132548   \t0.709681\t-0.272661 \t1       \n",
      "17 \t0.0805004  \t0.854694\t0.0434821  \t0.976786\t0.106638   \t0.833389\t0         \t1       \n",
      "18 \t0.120103   \t0.747506\t-0.00934121\t0.976786\t0.0758099  \t0.824549\t0         \t1       \n",
      "19 \t0.0375331  \t0.833917\t0.491089   \t0.976786\t0.0134272  \t0.888198\t0.686775  \t1       \n",
      "20 \t0.0141178  \t0.876154\t0.630998   \t0.976786\t0.0134511  \t0.908035\t0.635762  \t1       \n",
      "21 \t0.141186   \t0.733751\t0          \t0.976786\t0.144506   \t0.750443\t0         \t1       \n",
      "22 \t0.000213862\t0.968005\t0.932472   \t0.976786\t0.00107385 \t0.982196\t0.893449  \t1       \n",
      "23 \t2.63836e-05\t0.969522\t0.96589    \t0.976786\t0.00027595 \t0.976507\t0.964761  \t1       \n",
      "24 \t0.0859554  \t0.667591\t0.32375    \t0.976786\t0.055887   \t0.725784\t0.442149  \t1       \n",
      "25 \t0.0428999  \t0.794115\t0.266683   \t0.976786\t0.0657354  \t0.748528\t0         \t1       \n",
      "26 \t0.00227993 \t0.956653\t0.706555   \t0.978626\t0.00448701 \t0.951656\t0.612979  \t1       \n",
      "27 \t0.127838   \t0.548472\t0          \t0.978626\t0.135823   \t0.588289\t0         \t1       \n",
      "28 \t0.0369623  \t0.859878\t0.516642   \t0.988496\t0.0225397  \t0.90379 \t0.544747  \t1       \n",
      "29 \t0.0899154  \t0.54537 \t0.0444444  \t0.988496\t0.1063     \t0.575761\t0         \t1       \n",
      "30 \t0.129986   \t0.572689\t0          \t0.988496\t0.15966    \t0.58603 \t0         \t1       \n",
      "31 \t0.0049499  \t0.946609\t0.583124   \t0.988496\t0.00310929 \t0.952052\t0.686775  \t1       \n",
      "32 \t0.00587296 \t0.95745 \t0.549189   \t0.988496\t0.00376832 \t0.961312\t0.686775  \t1       \n",
      "33 \t0.0409577  \t0.819466\t0.310177   \t0.988496\t0.0380923  \t0.842565\t0.260355  \t1       \n",
      "34 \t0.0794487  \t0.79852 \t0          \t0.988496\t0.0651665  \t0.826253\t0         \t1       \n",
      "35 \t0.1168     \t0.469658\t0          \t0.988496\t0.13286    \t0.536672\t0         \t1       \n",
      "36 \t0.0696092  \t0.860168\t0          \t0.988496\t0.0527971  \t0.819765\t0         \t1       \n",
      "37 \t0.0521906  \t0.722693\t0.509363   \t0.988496\t0.0131196  \t0.852827\t0.746172  \t1       \n",
      "38 \t0.1724     \t0.725019\t0          \t0.988496\t0.184513   \t0.726846\t0         \t1       \n",
      "39 \t0.0349162  \t0.827978\t0.417165   \t0.988496\t0.0115805  \t0.905566\t0.763514  \t1       \n"
     ]
    },
    {
     "data": {
      "image/png": "[encoded data removed]",
      "text/plain": [
       "<matplotlib.figure.Figure at 0x1bda61a6668>"
      ]
     },
     "metadata": {},
     "output_type": "display_data"
    }
   ],
   "source": [
    "print(clf.logbook)\n",
    "\n",
    "gen = clf.logbook.select(\"gen\")\n",
    "avgs, mins, maxs, vars = clf.logbook.chapters[\"fitness\"].select(\"avg\", \"min\", \"max\", \"var\")\n",
    "avgs_tt, mins_tt, maxs_tt, vars_tt = clf.logbook.chapters[\"train_test\"].select(\"avg\", \"min\", \"max\", \"var\")\n",
    "\n",
    "sns.set()\n",
    "\n",
    "fig = plt.figure()\n",
    "ax1 = fig.add_subplot(111)\n",
    "ax1.plot(gen, avgs, label='Average')\n",
    "ax1.set_xlabel(\"Generation\")\n",
    "ax1.set_ylabel(\"Fitness\")\n",
    "\n",
    "ax1.plot(gen, maxs, label='Maximum')\n",
    "\n",
    "ax1.plot(gen, maxs_tt, label='Maximum test')\n",
    "ax1.plot(gen, avgs_tt, label='Average test')\n",
    "\n",
    "plt.show()"
   ]
  },
  {
   "cell_type": "code",
   "execution_count": null,
   "metadata": {},
   "outputs": [],
   "source": []
  }
 ],
 "metadata": {
  "kernelspec": {
   "display_name": "Python 3",
   "language": "python",
   "name": "python3"
  },
  "language_info": {
   "codemirror_mode": {
    "name": "ipython",
    "version": 3
   },
   "file_extension": ".py",
   "mimetype": "text/x-python",
   "name": "python",
   "nbconvert_exporter": "python",
   "pygments_lexer": "ipython3",
   "version": "3.6.4"
  }
 },
 "nbformat": 4,
 "nbformat_minor": 2
}
