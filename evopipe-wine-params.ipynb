{
 "cells": [
  {
   "cell_type": "code",
   "execution_count": 1,
   "metadata": {},
   "outputs": [],
   "source": [
    "from sklearn import preprocessing\n",
    "from sklearn import model_selection\n",
    "\n",
    "import evopipe\n",
    "import steps\n",
    "import warnings\n",
    "\n",
    "from sklearn.model_selection import train_test_split\n",
    "from sklearn import datasets\n",
    "\n",
    "import matplotlib.pyplot as plt\n",
    "import seaborn as sns"
   ]
  },
  {
   "cell_type": "code",
   "execution_count": 2,
   "metadata": {},
   "outputs": [],
   "source": [
    "wine = datasets.load_wine()\n",
    "train_X, test_X, train_Y, test_Y = train_test_split(wine.data, wine.target, test_size = 0.25, random_state = 0)\n",
    "\n",
    "params = steps.get_params(len(train_X[0]))"
   ]
  },
  {
   "cell_type": "code",
   "execution_count": 3,
   "metadata": {},
   "outputs": [
    {
     "name": "stdout",
     "output_type": "stream",
     "text": [
      "Format:\n",
      "------------\n",
      "Classifier\n",
      "score\n",
      "cross-validation score\n",
      "GridSearch score\n",
      "------------\n",
      "\n",
      "SVC\n",
      "0.5111111111111111\n",
      "0.4680555555555556\n"
     ]
    },
    {
     "ename": "AttributeError",
     "evalue": "module 'steps' has no attribute 'params'",
     "output_type": "error",
     "traceback": [
      "\u001b[1;31m---------------------------------------------------------------------------\u001b[0m",
      "\u001b[1;31mAttributeError\u001b[0m                            Traceback (most recent call last)",
      "\u001b[1;32m<ipython-input-3-78e61848ea71>\u001b[0m in \u001b[0;36m<module>\u001b[1;34m()\u001b[0m\n\u001b[0;32m     17\u001b[0m         \u001b[0mprint\u001b[0m\u001b[1;33m(\u001b[0m\u001b[0mmodel_selection\u001b[0m\u001b[1;33m.\u001b[0m\u001b[0mcross_val_score\u001b[0m\u001b[1;33m(\u001b[0m\u001b[0mclassif\u001b[0m\u001b[1;33m,\u001b[0m \u001b[0mtest_X\u001b[0m\u001b[1;33m,\u001b[0m \u001b[0mtest_Y\u001b[0m\u001b[1;33m)\u001b[0m\u001b[1;33m.\u001b[0m\u001b[0mmean\u001b[0m\u001b[1;33m(\u001b[0m\u001b[1;33m)\u001b[0m\u001b[1;33m)\u001b[0m\u001b[1;33m\u001b[0m\u001b[0m\n\u001b[0;32m     18\u001b[0m \u001b[1;33m\u001b[0m\u001b[0m\n\u001b[1;32m---> 19\u001b[1;33m         \u001b[0mparams\u001b[0m \u001b[1;33m=\u001b[0m \u001b[0msteps\u001b[0m\u001b[1;33m.\u001b[0m\u001b[0mparams\u001b[0m\u001b[1;33m[\u001b[0m\u001b[0mname\u001b[0m\u001b[1;33m]\u001b[0m\u001b[1;33m\u001b[0m\u001b[0m\n\u001b[0m\u001b[0;32m     20\u001b[0m         \u001b[0mgs\u001b[0m \u001b[1;33m=\u001b[0m \u001b[0mmodel_selection\u001b[0m\u001b[1;33m.\u001b[0m\u001b[0mGridSearchCV\u001b[0m\u001b[1;33m(\u001b[0m\u001b[0mclassif\u001b[0m\u001b[1;33m,\u001b[0m \u001b[0mparams\u001b[0m\u001b[1;33m,\u001b[0m\u001b[0mn_jobs\u001b[0m\u001b[1;33m=\u001b[0m\u001b[1;33m-\u001b[0m\u001b[1;36m1\u001b[0m\u001b[1;33m,\u001b[0m \u001b[0mpre_dispatch\u001b[0m\u001b[1;33m=\u001b[0m\u001b[1;34m'2*n_jobs'\u001b[0m\u001b[1;33m,\u001b[0m \u001b[0mverbose\u001b[0m\u001b[1;33m=\u001b[0m\u001b[1;36m5\u001b[0m\u001b[1;33m)\u001b[0m\u001b[1;33m\u001b[0m\u001b[0m\n\u001b[0;32m     21\u001b[0m         \u001b[0mgs\u001b[0m\u001b[1;33m.\u001b[0m\u001b[0mfit\u001b[0m\u001b[1;33m(\u001b[0m\u001b[0mtrain_X\u001b[0m\u001b[1;33m,\u001b[0m \u001b[0mtrain_Y\u001b[0m\u001b[1;33m)\u001b[0m\u001b[1;33m\u001b[0m\u001b[0m\n",
      "\u001b[1;31mAttributeError\u001b[0m: module 'steps' has no attribute 'params'"
     ]
    }
   ],
   "source": [
    "print(\"Format:\")\n",
    "print(\"------------\")\n",
    "print(\"Classifier\")\n",
    "print(\"score\")\n",
    "print(\"cross-validation score\")\n",
    "print(\"GridSearch score\")\n",
    "print(\"------------\")\n",
    "print()\n",
    "\n",
    "with warnings.catch_warnings():\n",
    "    warnings.simplefilter('ignore')\n",
    "    for name, cls in steps.clfs.items():\n",
    "        classif = cls()\n",
    "        print(classif.__class__.__name__)\n",
    "        classif.fit(train_X, train_Y)\n",
    "        print(classif.score(test_X, test_Y))\n",
    "        print(model_selection.cross_val_score(classif, test_X, test_Y).mean())\n",
    "        \n",
    "        pipe_params = params[name]\n",
    "        gs = model_selection.GridSearchCV(classif, params,n_jobs=-1, pre_dispatch='2*n_jobs', verbose=5)\n",
    "        gs.fit(train_X, train_Y)\n",
    "        \n",
    "        print(gs.best_params_)\n",
    "        print(gs.score(test_X, test_Y))\n",
    "        print()"
   ]
  },
  {
   "cell_type": "code",
   "execution_count": 3,
   "metadata": {},
   "outputs": [
    {
     "name": "stdout",
     "output_type": "stream",
     "text": [
      "\n",
      "Gen 6:\n",
      "\n",
      "Hall of fame:\n",
      "[('LDA', {'solver': 'eigen', 'shrinkage': None})]\n",
      "[('gaussianNB', {})]\n",
      "[('DT', {'criterion': 'entropy', 'max_features': 0.75, 'max_depth': 2, 'min_samples_split': 10, 'min_samples_leaf': 5})]\n",
      "[('DT', {'criterion': 'gini', 'max_features': 0.1, 'max_depth': 15, 'min_samples_split': 20, 'min_samples_leaf': 2})]\n",
      "[('LDA', {'solver': 'lsqr', 'shrinkage': 0.5})]\n",
      "\n",
      "Gen 11:\n",
      "\n",
      "Hall of fame:\n",
      "[('LDA', {'solver': 'eigen', 'shrinkage': None})]\n",
      "[('gaussianNB', {})]\n",
      "[('DT', {'criterion': 'entropy', 'max_features': 0.75, 'max_depth': 2, 'min_samples_split': 10, 'min_samples_leaf': 5})]\n",
      "[('DT', {'criterion': 'gini', 'max_features': 0.1, 'max_depth': 15, 'min_samples_split': 20, 'min_samples_leaf': 2})]\n",
      "[('LDA', {'solver': 'lsqr', 'shrinkage': 0.5})]\n",
      "\n",
      "Gen 16:\n",
      "\n",
      "Hall of fame:\n",
      "[('LDA', {'solver': 'eigen', 'shrinkage': None})]\n",
      "[('gaussianNB', {})]\n",
      "[('DT', {'criterion': 'entropy', 'max_features': 0.75, 'max_depth': 2, 'min_samples_split': 10, 'min_samples_leaf': 5})]\n",
      "[('DT', {'criterion': 'gini', 'max_features': 0.1, 'max_depth': 15, 'min_samples_split': 20, 'min_samples_leaf': 2})]\n",
      "[('LDA', {'solver': 'lsqr', 'shrinkage': 0.5})]\n",
      "\n",
      "Gen 21:\n",
      "\n",
      "Hall of fame:\n",
      "[('LDA', {'solver': 'eigen', 'shrinkage': None})]\n",
      "[('gaussianNB', {})]\n",
      "[('DT', {'criterion': 'entropy', 'max_features': 0.75, 'max_depth': 2, 'min_samples_split': 10, 'min_samples_leaf': 5})]\n",
      "[('DT', {'criterion': 'gini', 'max_features': 0.1, 'max_depth': 15, 'min_samples_split': 20, 'min_samples_leaf': 2})]\n",
      "[('LDA', {'solver': 'lsqr', 'shrinkage': 0.5})]\n",
      "\n",
      "Gen 26:\n",
      "\n",
      "Hall of fame:\n",
      "[('LDA', {'solver': 'eigen', 'shrinkage': None})]\n",
      "[('gaussianNB', {})]\n",
      "[('DT', {'criterion': 'entropy', 'max_features': 0.75, 'max_depth': 2, 'min_samples_split': 10, 'min_samples_leaf': 5})]\n",
      "[('DT', {'criterion': 'gini', 'max_features': 0.1, 'max_depth': 15, 'min_samples_split': 20, 'min_samples_leaf': 2})]\n",
      "[('LDA', {'solver': 'lsqr', 'shrinkage': 0.5})]\n",
      "\n",
      "Gen 31:\n",
      "\n",
      "Hall of fame:\n",
      "[('LDA', {'solver': 'eigen', 'shrinkage': None})]\n",
      "[('gaussianNB', {})]\n",
      "[('DT', {'criterion': 'entropy', 'max_features': 0.75, 'max_depth': 2, 'min_samples_split': 10, 'min_samples_leaf': 5})]\n",
      "[('DT', {'criterion': 'gini', 'max_features': 0.1, 'max_depth': 15, 'min_samples_split': 20, 'min_samples_leaf': 2})]\n",
      "[('LDA', {'solver': 'lsqr', 'shrinkage': 0.5})]\n",
      "\n",
      "Gen 36:\n",
      "\n",
      "Hall of fame:\n",
      "[('LDA', {'solver': 'eigen', 'shrinkage': None})]\n",
      "[('gaussianNB', {})]\n",
      "[('DT', {'criterion': 'entropy', 'max_features': 0.75, 'max_depth': 2, 'min_samples_split': 10, 'min_samples_leaf': 5})]\n",
      "[('DT', {'criterion': 'gini', 'max_features': 0.1, 'max_depth': 15, 'min_samples_split': 20, 'min_samples_leaf': 2})]\n",
      "[('LDA', {'solver': 'lsqr', 'shrinkage': 0.5})]\n",
      "\n",
      "Best pipeline test score: 1.0\n",
      "\n",
      "Score: 1.0, Pipe: ['lineardiscriminantanalysis']\n",
      "Score: 0.9333333333333333, Pipe: ['gaussiannb']\n",
      "Score: 0.9555555555555556, Pipe: ['decisiontreeclassifier']\n",
      "Score: 0.9555555555555556, Pipe: ['decisiontreeclassifier']\n",
      "Score: 0.8, Pipe: ['lineardiscriminantanalysis']\n"
     ]
    }
   ],
   "source": [
    "clf = evopipe.EvoPipeClassifier(steps.preproc, steps.clfs, params)\n",
    "clf.fit(train_X, train_Y, test_X, test_Y)\n",
    "\n",
    "score = clf.score(test_X, test_Y)\n",
    "print(\"\\nBest pipeline test score: {}\\n\".format(score))\n",
    "\n",
    "best_pipes = clf.best_pipelines()\n",
    "\n",
    "for pipe in best_pipes:\n",
    "    pipe.fit(train_X, train_Y)\n",
    "    score = pipe.score(test_X, test_Y)\n",
    "    \n",
    "    pipe_named_steps = []\n",
    "    for key, val in pipe.steps:\n",
    "        pipe_named_steps.append(key)       \n",
    "    print(\"Score: {}, Pipe: {}\".format(score, pipe_named_steps))"
   ]
  },
  {
   "cell_type": "code",
   "execution_count": 4,
   "metadata": {},
   "outputs": [
    {
     "name": "stdout",
     "output_type": "stream",
     "text": [
      "   \t                    fitness                     \t                 train_test                \n",
      "   \t------------------------------------------------\t-------------------------------------------\n",
      "gen\tgen\tavg     \tmin     \tmax     \tgen\tavg     \tmin     \tmax\n",
      "1  \t   \t0.621593\t0       \t0.992308\t   \t0.680741\t0       \t1  \n",
      "2  \t   \t0.896978\t0.669231\t0.992308\t   \t0.913333\t0.755556\t1  \n",
      "3  \t   \t0.981832\t0.692857\t0.992308\t   \t0.991111\t0.8     \t1  \n",
      "4  \t   \t0.992308\t0.992308\t0.992308\t   \t1       \t1       \t1  \n",
      "5  \t   \t0.992308\t0.992308\t0.992308\t   \t1       \t1       \t1  \n",
      "6  \t   \t0.992308\t0.992308\t0.992308\t   \t1       \t1       \t1  \n",
      "7  \t   \t0.992308\t0.992308\t0.992308\t   \t1       \t1       \t1  \n",
      "8  \t   \t0.992308\t0.992308\t0.992308\t   \t1       \t1       \t1  \n",
      "9  \t   \t0.992308\t0.992308\t0.992308\t   \t1       \t1       \t1  \n",
      "10 \t   \t0.992308\t0.992308\t0.992308\t   \t1       \t1       \t1  \n",
      "11 \t   \t0.992308\t0.992308\t0.992308\t   \t1       \t1       \t1  \n",
      "12 \t   \t0.992308\t0.992308\t0.992308\t   \t1       \t1       \t1  \n",
      "13 \t   \t0.992308\t0.992308\t0.992308\t   \t1       \t1       \t1  \n",
      "14 \t   \t0.992308\t0.992308\t0.992308\t   \t1       \t1       \t1  \n",
      "15 \t   \t0.992308\t0.992308\t0.992308\t   \t1       \t1       \t1  \n",
      "16 \t   \t0.992308\t0.992308\t0.992308\t   \t1       \t1       \t1  \n",
      "17 \t   \t0.992308\t0.992308\t0.992308\t   \t1       \t1       \t1  \n",
      "18 \t   \t0.992308\t0.992308\t0.992308\t   \t1       \t1       \t1  \n",
      "19 \t   \t0.992308\t0.992308\t0.992308\t   \t1       \t1       \t1  \n",
      "20 \t   \t0.992308\t0.992308\t0.992308\t   \t1       \t1       \t1  \n",
      "21 \t   \t0.992308\t0.992308\t0.992308\t   \t1       \t1       \t1  \n",
      "22 \t   \t0.992308\t0.992308\t0.992308\t   \t1       \t1       \t1  \n",
      "23 \t   \t0.992308\t0.992308\t0.992308\t   \t1       \t1       \t1  \n",
      "24 \t   \t0.992308\t0.992308\t0.992308\t   \t1       \t1       \t1  \n",
      "25 \t   \t0.992308\t0.992308\t0.992308\t   \t1       \t1       \t1  \n",
      "26 \t   \t0.992308\t0.992308\t0.992308\t   \t1       \t1       \t1  \n",
      "27 \t   \t0.992308\t0.992308\t0.992308\t   \t1       \t1       \t1  \n",
      "28 \t   \t0.992308\t0.992308\t0.992308\t   \t1       \t1       \t1  \n",
      "29 \t   \t0.992308\t0.992308\t0.992308\t   \t1       \t1       \t1  \n",
      "30 \t   \t0.992308\t0.992308\t0.992308\t   \t1       \t1       \t1  \n",
      "31 \t   \t0.992308\t0.992308\t0.992308\t   \t1       \t1       \t1  \n",
      "32 \t   \t0.992308\t0.992308\t0.992308\t   \t1       \t1       \t1  \n",
      "33 \t   \t0.992308\t0.992308\t0.992308\t   \t1       \t1       \t1  \n",
      "34 \t   \t0.992308\t0.992308\t0.992308\t   \t1       \t1       \t1  \n",
      "35 \t   \t0.992308\t0.992308\t0.992308\t   \t1       \t1       \t1  \n",
      "36 \t   \t0.992308\t0.992308\t0.992308\t   \t1       \t1       \t1  \n",
      "37 \t   \t0.992308\t0.992308\t0.992308\t   \t1       \t1       \t1  \n",
      "38 \t   \t0.992308\t0.992308\t0.992308\t   \t1       \t1       \t1  \n",
      "39 \t   \t0.992308\t0.992308\t0.992308\t   \t1       \t1       \t1  \n"
     ]
    },
    {
     "data": {
      "image/png": "[encoded data removed]",
      "text/plain": [
       "<matplotlib.figure.Figure at 0x1afe7d440b8>"
      ]
     },
     "metadata": {},
     "output_type": "display_data"
    }
   ],
   "source": [
    "print(clf.logbook)\n",
    "\n",
    "gen = clf.logbook.select(\"gen\")\n",
    "avgs, mins, maxs, vars = clf.logbook.chapters[\"fitness\"].select(\"avg\", \"min\", \"max\", \"var\")\n",
    "avgs_tt, mins_tt, maxs_tt, vars_tt = clf.logbook.chapters[\"train_test\"].select(\"avg\", \"min\", \"max\", \"var\")\n",
    "\n",
    "sns.set()\n",
    "\n",
    "fig = plt.figure()\n",
    "ax1 = fig.add_subplot(111)\n",
    "ax1.plot(gen, avgs, label='Average')\n",
    "ax1.set_xlabel(\"Generation\")\n",
    "ax1.set_ylabel(\"Fitness\")\n",
    "\n",
    "ax1.plot(gen, maxs, label='Maximum')\n",
    "\n",
    "ax1.plot(gen, maxs_tt, label='Maximum test')\n",
    "ax1.plot(gen, avgs_tt, label='Average test')\n",
    "\n",
    "plt.show()"
   ]
  },
  {
   "cell_type": "code",
   "execution_count": null,
   "metadata": {},
   "outputs": [],
   "source": []
  }
 ],
 "metadata": {
  "kernelspec": {
   "display_name": "Python 3",
   "language": "python",
   "name": "python3"
  },
  "language_info": {
   "codemirror_mode": {
    "name": "ipython",
    "version": 3
   },
   "file_extension": ".py",
   "mimetype": "text/x-python",
   "name": "python",
   "nbconvert_exporter": "python",
   "pygments_lexer": "ipython3",
   "version": "3.6.4"
  }
 },
 "nbformat": 4,
 "nbformat_minor": 2
}
