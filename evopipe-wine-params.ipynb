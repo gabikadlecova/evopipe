{
 "cells": [
  {
   "cell_type": "code",
   "execution_count": 2,
   "metadata": {},
   "outputs": [],
   "source": [
    "from sklearn import preprocessing\n",
    "from sklearn import model_selection\n",
    "\n",
    "import evopipe\n",
    "import steps\n",
    "import warnings\n",
    "\n",
    "from sklearn.model_selection import train_test_split\n",
    "from sklearn import datasets\n",
    "\n",
    "import matplotlib.pyplot as plt\n",
    "import seaborn as sns"
   ]
  },
  {
   "cell_type": "code",
   "execution_count": 3,
   "metadata": {},
   "outputs": [],
   "source": [
    "wine = datasets.load_wine()\n",
    "train_X, test_X, train_Y, test_Y = train_test_split(wine.data, wine.target, test_size = 0.25, random_state = 0)"
   ]
  },
  {
   "cell_type": "code",
   "execution_count": 5,
   "metadata": {},
   "outputs": [
    {
     "name": "stdout",
     "output_type": "stream",
     "text": [
      "Format:\n",
      "------------\n",
      "Classifier\n",
      "score\n",
      "cross-validation score\n",
      "GridSearch score\n",
      "------------\n",
      "\n",
      "SVC\n",
      "0.5111111111111111\n",
      "0.4680555555555556\n",
      "Fitting 3 folds for each of 126 candidates, totalling 378 fits\n"
     ]
    },
    {
     "name": "stderr",
     "output_type": "stream",
     "text": [
      "[Parallel(n_jobs=-1)]: Done  10 tasks      | elapsed:    1.7s\n",
      "[Parallel(n_jobs=-1)]: Done 378 out of 378 | elapsed:    2.2s finished\n"
     ]
    },
    {
     "name": "stdout",
     "output_type": "stream",
     "text": [
      "GridSearchCV(cv=None, error_score='raise',\n",
      "       estimator=SVC(C=1.0, cache_size=200, class_weight=None, coef0=0.0,\n",
      "  decision_function_shape='ovr', degree=3, gamma='auto', kernel='rbf',\n",
      "  max_iter=-1, probability=False, random_state=None, shrinking=True,\n",
      "  tol=0.001, verbose=False),\n",
      "       fit_params=None, iid=True, n_jobs=-1,\n",
      "       param_grid={'C': [0.1, 0.5, 1.0, 2, 5, 10, 15], 'gamma': ['auto', 0.0001, 0.001, 0.01, 0.1, 0.5], 'tol': [0.0001, 0.001, 0.01]},\n",
      "       pre_dispatch='2*n_jobs', refit=True, return_train_score='warn',\n",
      "       scoring=None, verbose=5)\n",
      "0.8222222222222222\n",
      "\n",
      "LogisticRegression\n",
      "0.9333333333333333\n",
      "0.953968253968254\n",
      "Fitting 3 folds for each of 21 candidates, totalling 63 fits\n"
     ]
    },
    {
     "name": "stderr",
     "output_type": "stream",
     "text": [
      "[Parallel(n_jobs=-1)]: Done  10 tasks      | elapsed:    1.6s\n",
      "[Parallel(n_jobs=-1)]: Done  63 out of  63 | elapsed:    1.9s finished\n"
     ]
    },
    {
     "name": "stdout",
     "output_type": "stream",
     "text": [
      "GridSearchCV(cv=None, error_score='raise',\n",
      "       estimator=LogisticRegression(C=1.0, class_weight=None, dual=False, fit_intercept=True,\n",
      "          intercept_scaling=1, max_iter=100, multi_class='ovr', n_jobs=1,\n",
      "          penalty='l2', random_state=None, solver='liblinear', tol=0.0001,\n",
      "          verbose=0, warm_start=False),\n",
      "       fit_params=None, iid=True, n_jobs=-1,\n",
      "       param_grid={'penalty': ['l2'], 'C': [0.1, 0.5, 1.0, 2, 5, 10, 15], 'tol': [0.0001, 0.001, 0.01], 'solver': ['sag']},\n",
      "       pre_dispatch='2*n_jobs', refit=True, return_train_score='warn',\n",
      "       scoring=None, verbose=5)\n",
      "0.8222222222222222\n",
      "\n",
      "Perceptron\n",
      "0.8\n",
      "0.45059523809523805\n",
      "Fitting 3 folds for each of 60 candidates, totalling 180 fits\n"
     ]
    },
    {
     "name": "stderr",
     "output_type": "stream",
     "text": [
      "[Parallel(n_jobs=-1)]: Done  10 tasks      | elapsed:    1.5s\n",
      "[Parallel(n_jobs=-1)]: Done 180 out of 180 | elapsed:    1.7s finished\n"
     ]
    },
    {
     "name": "stdout",
     "output_type": "stream",
     "text": [
      "GridSearchCV(cv=None, error_score='raise',\n",
      "       estimator=Perceptron(alpha=0.0001, class_weight=None, eta0=1.0, fit_intercept=True,\n",
      "      max_iter=None, n_iter=None, n_jobs=1, penalty=None, random_state=0,\n",
      "      shuffle=True, tol=None, verbose=0, warm_start=False),\n",
      "       fit_params=None, iid=True, n_jobs=-1,\n",
      "       param_grid={'penalty': ['None', 'l2', 'l1', 'elasticnet'], 'n_iter': [1, 2, 5, 10, 100], 'alpha': [0.0001, 0.001, 0.01]},\n",
      "       pre_dispatch='2*n_jobs', refit=True, return_train_score='warn',\n",
      "       scoring=None, verbose=5)\n",
      "0.4444444444444444\n",
      "\n",
      "SGDClassifier\n",
      "0.4666666666666667\n",
      "0.4458333333333333\n",
      "Fitting 3 folds for each of 69120 candidates, totalling 207360 fits\n"
     ]
    },
    {
     "name": "stderr",
     "output_type": "stream",
     "text": [
      "[Parallel(n_jobs=-1)]: Done  10 tasks      | elapsed:    1.6s\n",
      "[Parallel(n_jobs=-1)]: Done 1203 tasks      | elapsed:    3.6s\n",
      "[Parallel(n_jobs=-1)]: Done 4803 tasks      | elapsed:    8.7s\n",
      "[Parallel(n_jobs=-1)]: Done 9843 tasks      | elapsed:   15.7s\n",
      "[Parallel(n_jobs=-1)]: Done 16323 tasks      | elapsed:   24.7s\n",
      "[Parallel(n_jobs=-1)]: Done 24243 tasks      | elapsed:   38.3s\n",
      "[Parallel(n_jobs=-1)]: Done 33603 tasks      | elapsed:   59.0s\n",
      "[Parallel(n_jobs=-1)]: Done 44403 tasks      | elapsed:  1.4min\n",
      "[Parallel(n_jobs=-1)]: Done 56643 tasks      | elapsed:  1.8min\n",
      "[Parallel(n_jobs=-1)]: Done 70323 tasks      | elapsed:  2.2min\n",
      "[Parallel(n_jobs=-1)]: Done 85443 tasks      | elapsed:  2.6min\n",
      "[Parallel(n_jobs=-1)]: Done 102003 tasks      | elapsed:  3.2min\n",
      "[Parallel(n_jobs=-1)]: Done 120003 tasks      | elapsed:  3.8min\n",
      "[Parallel(n_jobs=-1)]: Done 139443 tasks      | elapsed:  4.4min\n",
      "[Parallel(n_jobs=-1)]: Done 160323 tasks      | elapsed:  4.9min\n",
      "[Parallel(n_jobs=-1)]: Done 182643 tasks      | elapsed:  5.5min\n",
      "[Parallel(n_jobs=-1)]: Done 206403 tasks      | elapsed:  6.0min\n",
      "[Parallel(n_jobs=-1)]: Done 207360 out of 207360 | elapsed:  6.1min finished\n"
     ]
    },
    {
     "name": "stdout",
     "output_type": "stream",
     "text": [
      "GridSearchCV(cv=None, error_score='raise',\n",
      "       estimator=SGDClassifier(alpha=0.0001, average=False, class_weight=None, epsilon=0.1,\n",
      "       eta0=0.0, fit_intercept=True, l1_ratio=0.15,\n",
      "       learning_rate='optimal', loss='hinge', max_iter=None, n_iter=None,\n",
      "       n_jobs=1, penalty='l2', power_t=0.5, random_state=None,\n",
      "       shuffle=True, tol=None, verbose=0, warm_start=False),\n",
      "       fit_params=None, iid=True, n_jobs=-1,\n",
      "       param_grid={'penalty': ['none', 'l2', 'l1', 'elasticnet'], 'loss': ['hinge', 'log', 'modified_huber', 'squared_hinge', 'perceptron'], 'n_iter': [5, 10, 100], 'alpha': [0.0001, 0.001, 0.01], 'l1_ratio': [0, 0.15, 0.5, 1], 'epsilon': [0.01, 0.05, 0.1, 0.5], 'learning_rate': ['constant', 'optimal'], 'eta0': [0.01, 0.1, 0.5], 'power_t': [0.1, 0.5, 1, 2]},\n",
      "       pre_dispatch='2*n_jobs', refit=True, return_train_score='warn',\n",
      "       scoring=None, verbose=5)\n",
      "0.8222222222222222\n",
      "\n",
      "PassiveAggressiveClassifier\n",
      "0.5777777777777777\n",
      "0.5986111111111111\n",
      "Fitting 3 folds for each of 14 candidates, totalling 42 fits\n"
     ]
    },
    {
     "name": "stderr",
     "output_type": "stream",
     "text": [
      "[Parallel(n_jobs=-1)]: Done  10 tasks      | elapsed:    1.6s\n",
      "[Parallel(n_jobs=-1)]: Done  35 out of  42 | elapsed:    1.6s remaining:    0.2s\n",
      "[Parallel(n_jobs=-1)]: Done  42 out of  42 | elapsed:    1.6s finished\n"
     ]
    },
    {
     "name": "stdout",
     "output_type": "stream",
     "text": [
      "GridSearchCV(cv=None, error_score='raise',\n",
      "       estimator=PassiveAggressiveClassifier(C=1.0, average=False, class_weight=None,\n",
      "              fit_intercept=True, loss='hinge', max_iter=None, n_iter=None,\n",
      "              n_jobs=1, random_state=None, shuffle=True, tol=None,\n",
      "              verbose=0, warm_start=False),\n",
      "       fit_params=None, iid=True, n_jobs=-1,\n",
      "       param_grid={'loss': ['hinge', 'squared_hinge'], 'C': [0.1, 0.5, 1.0, 2, 5, 10, 15]},\n",
      "       pre_dispatch='2*n_jobs', refit=True, return_train_score='warn',\n",
      "       scoring=None, verbose=5)\n",
      "0.37777777777777777\n",
      "\n",
      "LinearDiscriminantAnalysis\n",
      "0.9777777777777777\n",
      "0.9777777777777779\n",
      "Fitting 3 folds for each of 10 candidates, totalling 30 fits\n"
     ]
    },
    {
     "name": "stderr",
     "output_type": "stream",
     "text": [
      "[Parallel(n_jobs=-1)]: Done  10 tasks      | elapsed:    1.6s\n",
      "[Parallel(n_jobs=-1)]: Done  23 out of  30 | elapsed:    1.6s remaining:    0.4s\n",
      "[Parallel(n_jobs=-1)]: Done  30 out of  30 | elapsed:    1.6s remaining:    0.0s\n",
      "[Parallel(n_jobs=-1)]: Done  30 out of  30 | elapsed:    1.6s finished\n"
     ]
    },
    {
     "name": "stdout",
     "output_type": "stream",
     "text": [
      "GridSearchCV(cv=None, error_score='raise',\n",
      "       estimator=LinearDiscriminantAnalysis(n_components=None, priors=None, shrinkage=None,\n",
      "              solver='svd', store_covariance=False, tol=0.0001),\n",
      "       fit_params=None, iid=True, n_jobs=-1,\n",
      "       param_grid={'solver': ['lsqr', 'eigen'], 'shrinkage': [None, 'auto', 0.1, 0.5, 1.0]},\n",
      "       pre_dispatch='2*n_jobs', refit=True, return_train_score='warn',\n",
      "       scoring=None, verbose=5)\n",
      "1.0\n",
      "\n",
      "QuadraticDiscriminantAnalysis\n",
      "1.0\n",
      "0.4680555555555556\n",
      "Fitting 3 folds for each of 12 candidates, totalling 36 fits\n"
     ]
    },
    {
     "name": "stderr",
     "output_type": "stream",
     "text": [
      "[Parallel(n_jobs=-1)]: Done  10 tasks      | elapsed:    1.5s\n",
      "[Parallel(n_jobs=-1)]: Done  36 out of  36 | elapsed:    1.5s finished\n"
     ]
    },
    {
     "name": "stdout",
     "output_type": "stream",
     "text": [
      "GridSearchCV(cv=None, error_score='raise',\n",
      "       estimator=QuadraticDiscriminantAnalysis(priors=None, reg_param=0.0,\n",
      "               store_covariance=False, store_covariances=None, tol=0.0001),\n",
      "       fit_params=None, iid=True, n_jobs=-1,\n",
      "       param_grid={'reg_param': [0.0, 0.1, 0.5, 1], 'tol': [0.0001, 0.001, 0.01]},\n",
      "       pre_dispatch='2*n_jobs', refit=True, return_train_score='warn',\n",
      "       scoring=None, verbose=5)\n",
      "1.0\n",
      "\n",
      "MLPClassifier\n",
      "0.06666666666666667\n",
      "0.46527777777777773\n"
     ]
    },
    {
     "name": "stderr",
     "output_type": "stream",
     "text": [
      "[Parallel(n_jobs=-1)]: Done  10 tasks      | elapsed:    1.4s\n",
      "[Parallel(n_jobs=-1)]: Done 739 tasks      | elapsed:    5.6s\n",
      "[Parallel(n_jobs=-1)]: Done 2899 tasks      | elapsed:   20.3s\n",
      "[Parallel(n_jobs=-1)]: Done 4939 tasks      | elapsed:   33.9s\n",
      "[Parallel(n_jobs=-1)]: Done 6883 tasks      | elapsed:   48.6s\n",
      "[Parallel(n_jobs=-1)]: Done 9259 tasks      | elapsed:  1.1min\n",
      "[Parallel(n_jobs=-1)]: Done 12067 tasks      | elapsed:  1.3min\n",
      "[Parallel(n_jobs=-1)]: Done 15307 tasks      | elapsed:  1.7min\n",
      "[Parallel(n_jobs=-1)]: Done 18979 tasks      | elapsed:  2.0min\n",
      "[Parallel(n_jobs=-1)]: Done 23083 tasks      | elapsed:  2.3min\n",
      "[Parallel(n_jobs=-1)]: Done 27619 tasks      | elapsed:  2.6min\n",
      "[Parallel(n_jobs=-1)]: Done 32587 tasks      | elapsed:  2.9min\n",
      "[Parallel(n_jobs=-1)]: Done 37987 tasks      | elapsed:  3.5min\n",
      "[Parallel(n_jobs=-1)]: Done 43141 tasks      | elapsed:  4.2min\n",
      "[Parallel(n_jobs=-1)]: Done 49405 tasks      | elapsed:  5.0min\n",
      "[Parallel(n_jobs=-1)]: Done 56101 tasks      | elapsed:  5.6min\n",
      "[Parallel(n_jobs=-1)]: Done 63229 tasks      | elapsed:  6.2min\n",
      "[Parallel(n_jobs=-1)]: Done 70789 tasks      | elapsed:  6.7min\n",
      "[Parallel(n_jobs=-1)]: Done 78781 tasks      | elapsed:  7.7min\n",
      "[Parallel(n_jobs=-1)]: Done 87205 tasks      | elapsed:  8.5min\n",
      "[Parallel(n_jobs=-1)]: Done 96061 tasks      | elapsed:  9.1min\n",
      "[Parallel(n_jobs=-1)]: Done 105349 tasks      | elapsed:  9.8min\n",
      "[Parallel(n_jobs=-1)]: Done 111607 tasks      | elapsed: 11.6min\n",
      "[Parallel(n_jobs=-1)]: Done 119676 tasks      | elapsed: 13.3min\n",
      "[Parallel(n_jobs=-1)]: Done 131268 tasks      | elapsed: 14.7min\n",
      "[Parallel(n_jobs=-1)]: Done 142276 tasks      | elapsed: 16.0min\n",
      "[Parallel(n_jobs=-1)]: Done 149856 tasks      | elapsed: 18.1min\n",
      "[Parallel(n_jobs=-1)]: Done 162672 tasks      | elapsed: 20.0min\n",
      "[Parallel(n_jobs=-1)]: Done 178921 tasks      | elapsed: 22.1min\n",
      "[Parallel(n_jobs=-1)]: Done 188694 tasks      | elapsed: 24.6min\n",
      "[Parallel(n_jobs=-1)]: Done 201324 tasks      | elapsed: 26.3min\n",
      "[Parallel(n_jobs=-1)]: Done 216306 tasks      | elapsed: 28.1min\n",
      "[Parallel(n_jobs=-1)]: Done 227634 tasks      | elapsed: 30.1min\n",
      "[Parallel(n_jobs=-1)]: Done 242106 tasks      | elapsed: 31.6min\n",
      "[Parallel(n_jobs=-1)]: Done 253152 tasks      | elapsed: 33.6min\n",
      "[Parallel(n_jobs=-1)]: Done 267822 tasks      | elapsed: 35.6min\n",
      "[Parallel(n_jobs=-1)]: Done 282852 tasks      | elapsed: 37.5min\n",
      "[Parallel(n_jobs=-1)]: Done 295698 tasks      | elapsed: 39.8min\n",
      "[Parallel(n_jobs=-1)]: Done 314928 out of 314928 | elapsed: 42.7min finished\n"
     ]
    },
    {
     "name": "stdout",
     "output_type": "stream",
     "text": [
      "Fitting 3 folds for each of 104976 candidates, totalling 314928 fits\n",
      "GridSearchCV(cv=None, error_score='raise',\n",
      "       estimator=MLPClassifier(activation='relu', alpha=0.0001, batch_size='auto', beta_1=0.9,\n",
      "       beta_2=0.999, early_stopping=False, epsilon=1e-08,\n",
      "       hidden_layer_sizes=(100,), learning_rate='constant',\n",
      "       learning_rate_init=0.001, max_iter=200, momentum=0.9,\n",
      "       nesterovs_momentum=True, power_t=0.5, random_state=None,\n",
      "       shuffle=True, solver='adam', tol=0.0001, validation_fraction=0.1,\n",
      "       verbose=False, warm_start=False),\n",
      "       fit_params=None, iid=True, n_jobs=-1,\n",
      "       param_grid={'activation': ['identity', 'logistic', 'relu'], 'solver': ['lbfgs', 'sgd', 'adam'], 'alpha': [0.0001, 0.001, 0.01], 'learning_rate': ['constant', 'invscaling', 'adaptive'], 'tol': [0.0001, 0.001, 0.01], 'max_iter': [10, 100, 200], 'learning_rate_init': [0.0001, 0.001, 0.01], 'power_t': [0.1, 0.5, 1, 2], 'momentum': [0.1, 0.5, 0.9], 'hidden_layer_sizes': [(100,), (50,), (20,), (10,)]},\n",
      "       pre_dispatch='2*n_jobs', refit=True, return_train_score='warn',\n",
      "       scoring=None, verbose=5)\n",
      "0.4\n",
      "\n",
      "GaussianNB\n",
      "0.9333333333333333\n",
      "0.9791666666666666\n",
      "Fitting 3 folds for each of 1 candidates, totalling 3 fits\n"
     ]
    },
    {
     "name": "stderr",
     "output_type": "stream",
     "text": [
      "[Parallel(n_jobs=-1)]: Done   3 out of   3 | elapsed:    1.5s remaining:    0.0s\n",
      "[Parallel(n_jobs=-1)]: Done   3 out of   3 | elapsed:    1.5s finished\n"
     ]
    },
    {
     "name": "stdout",
     "output_type": "stream",
     "text": [
      "GridSearchCV(cv=None, error_score='raise', estimator=GaussianNB(priors=None),\n",
      "       fit_params=None, iid=True, n_jobs=-1, param_grid={},\n",
      "       pre_dispatch='2*n_jobs', refit=True, return_train_score='warn',\n",
      "       scoring=None, verbose=5)\n",
      "0.9333333333333333\n",
      "\n",
      "DecisionTreeClassifier\n",
      "0.8444444444444444\n",
      "0.8484126984126984\n",
      "Fitting 3 folds for each of 1920 candidates, totalling 5760 fits\n"
     ]
    },
    {
     "name": "stderr",
     "output_type": "stream",
     "text": [
      "[Parallel(n_jobs=-1)]: Done  10 tasks      | elapsed:    1.5s\n",
      "[Parallel(n_jobs=-1)]: Done 2202 tasks      | elapsed:    3.6s\n"
     ]
    },
    {
     "name": "stdout",
     "output_type": "stream",
     "text": [
      "GridSearchCV(cv=None, error_score='raise',\n",
      "       estimator=DecisionTreeClassifier(class_weight=None, criterion='gini', max_depth=None,\n",
      "            max_features=None, max_leaf_nodes=None,\n",
      "            min_impurity_decrease=0.0, min_impurity_split=None,\n",
      "            min_samples_leaf=1, min_samples_split=2,\n",
      "            min_weight_fraction_leaf=0.0, presort=False, random_state=None,\n",
      "            splitter='best'),\n",
      "       fit_params=None, iid=True, n_jobs=-1,\n",
      "       param_grid={'criterion': ['gini', 'entropy'], 'max_features': [0.05, 0.1, 0.25, 0.5, 0.75, 1], 'max_depth': [1, 2, 5, 10, 15, 25, 50, 100], 'min_samples_split': [2, 5, 10, 20], 'min_samples_leaf': [1, 2, 5, 10, 20]},\n",
      "       pre_dispatch='2*n_jobs', refit=True, return_train_score='warn',\n",
      "       scoring=None, verbose=5)\n",
      "0.9111111111111111\n",
      "\n"
     ]
    },
    {
     "name": "stderr",
     "output_type": "stream",
     "text": [
      "[Parallel(n_jobs=-1)]: Done 5760 out of 5760 | elapsed:    6.4s finished\n"
     ]
    }
   ],
   "source": [
    "print(\"Format:\")\n",
    "print(\"------------\")\n",
    "print(\"Classifier\")\n",
    "print(\"score\")\n",
    "print(\"cross-validation score\")\n",
    "print(\"GridSearch score\")\n",
    "print(\"------------\")\n",
    "print()\n",
    "\n",
    "with warnings.catch_warnings():\n",
    "    warnings.simplefilter('ignore')\n",
    "    for name, cls in steps.clfs.items():\n",
    "        classif = cls()\n",
    "        print(classif.__class__.__name__)\n",
    "        classif.fit(train_X, train_Y)\n",
    "        print(classif.score(test_X, test_Y))\n",
    "        print(model_selection.cross_val_score(classif, test_X, test_Y).mean())\n",
    "        \n",
    "        params = steps.params[name]\n",
    "        gs = model_selection.GridSearchCV(classif, params,n_jobs=-1, pre_dispatch='2*n_jobs', verbose=5)\n",
    "        gs.fit(train_X, train_Y)\n",
    "        \n",
    "        print(gs)\n",
    "        print(gs.score(test_X, test_Y))\n",
    "        print()"
   ]
  },
  {
   "cell_type": "code",
   "execution_count": 4,
   "metadata": {},
   "outputs": [
    {
     "name": "stdout",
     "output_type": "stream",
     "text": [
      "\n",
      "Gen 1:\n",
      "\n",
      "Hall of fame:\n",
      "[('PCA', {'whiten': True}), ('PCA', {'whiten': False}), ('QDA', {'reg_param': 1, 'tol': 0.0001})]\n",
      "[('PCA', {'whiten': False}), ('kBest', {}), ('PCA', {'whiten': True}), ('kBest', {}), ('SGD', {'penalty': 'l2', 'loss': 'squared_hinge', 'n_iter': 100, 'alpha': 0.0001, 'l1_ratio': 0.5, 'epsilon': 0.5, 'learning_rate': 'optimal', 'eta0': 0.1, 'power_t': 1})]\n",
      "[('PCA', {'whiten': True}), ('PCA', {'whiten': True}), ('PCA', {'whiten': False}), ('PAC', {'loss': 'squared_hinge', 'C': 0.5})]\n",
      "[('PCA', {'whiten': True}), ('PCA', {'whiten': False}), ('PAC', {'loss': 'squared_hinge', 'C': 2})]\n",
      "[('gaussianNB', {})]\n",
      "\n",
      "Gen 6:\n",
      "\n",
      "Hall of fame:\n",
      "[('PCA', {'whiten': False}), ('kBest', {}), ('PCA', {'whiten': True}), ('kBest', {}), ('QDA', {'reg_param': 1, 'tol': 0.001})]\n",
      "[('PCA', {'whiten': True}), ('kBest', {}), ('LDA', {'solver': 'eigen', 'shrinkage': 'auto'})]\n",
      "[('PCA', {'whiten': True}), ('kBest', {}), ('QDA', {'reg_param': 1, 'tol': 0.001})]\n",
      "[('PCA', {'whiten': False}), ('kBest', {}), ('PCA', {'whiten': True}), ('kBest', {}), ('QDA', {'reg_param': 1, 'tol': 0.0001})]\n",
      "[('PCA', {'whiten': False}), ('kBest', {}), ('PCA', {'whiten': True}), ('kBest', {}), ('LDA', {'solver': 'eigen', 'shrinkage': 'auto'})]\n",
      "\n",
      "Gen 11:\n",
      "\n",
      "Hall of fame:\n",
      "[('PCA', {'whiten': False}), ('kBest', {}), ('PCA', {'whiten': True}), ('kBest', {}), ('QDA', {'reg_param': 1, 'tol': 0.001})]\n",
      "[('PCA', {'whiten': True}), ('kBest', {}), ('LDA', {'solver': 'eigen', 'shrinkage': 'auto'})]\n",
      "[('PCA', {'whiten': True}), ('kBest', {}), ('QDA', {'reg_param': 1, 'tol': 0.001})]\n",
      "[('PCA', {'whiten': False}), ('kBest', {}), ('PCA', {'whiten': True}), ('kBest', {}), ('QDA', {'reg_param': 1, 'tol': 0.0001})]\n",
      "[('PCA', {'whiten': False}), ('kBest', {}), ('PCA', {'whiten': True}), ('kBest', {}), ('LDA', {'solver': 'eigen', 'shrinkage': 'auto'})]\n",
      "\n",
      "Gen 16:\n",
      "\n",
      "Hall of fame:\n",
      "[('PCA', {'whiten': False}), ('kBest', {}), ('PCA', {'whiten': True}), ('kBest', {}), ('QDA', {'reg_param': 1, 'tol': 0.001})]\n",
      "[('PCA', {'whiten': True}), ('kBest', {}), ('LDA', {'solver': 'eigen', 'shrinkage': 'auto'})]\n",
      "[('PCA', {'whiten': True}), ('kBest', {}), ('QDA', {'reg_param': 1, 'tol': 0.001})]\n",
      "[('PCA', {'whiten': False}), ('kBest', {}), ('PCA', {'whiten': True}), ('kBest', {}), ('QDA', {'reg_param': 1, 'tol': 0.0001})]\n",
      "[('PCA', {'whiten': False}), ('kBest', {}), ('PCA', {'whiten': True}), ('kBest', {}), ('LDA', {'solver': 'eigen', 'shrinkage': 'auto'})]\n",
      "\n",
      "Gen 21:\n",
      "\n",
      "Hall of fame:\n",
      "[('PCA', {'whiten': False}), ('kBest', {}), ('PCA', {'whiten': True}), ('kBest', {}), ('QDA', {'reg_param': 1, 'tol': 0.001})]\n",
      "[('PCA', {'whiten': True}), ('kBest', {}), ('LDA', {'solver': 'eigen', 'shrinkage': 'auto'})]\n",
      "[('PCA', {'whiten': True}), ('kBest', {}), ('QDA', {'reg_param': 1, 'tol': 0.001})]\n",
      "[('PCA', {'whiten': False}), ('kBest', {}), ('PCA', {'whiten': True}), ('kBest', {}), ('QDA', {'reg_param': 1, 'tol': 0.0001})]\n",
      "[('PCA', {'whiten': False}), ('kBest', {}), ('PCA', {'whiten': True}), ('kBest', {}), ('LDA', {'solver': 'eigen', 'shrinkage': 'auto'})]\n",
      "\n",
      "Gen 26:\n",
      "\n",
      "Hall of fame:\n",
      "[('PCA', {'whiten': False}), ('kBest', {}), ('PCA', {'whiten': True}), ('kBest', {}), ('QDA', {'reg_param': 1, 'tol': 0.001})]\n",
      "[('PCA', {'whiten': True}), ('kBest', {}), ('LDA', {'solver': 'eigen', 'shrinkage': 'auto'})]\n",
      "[('PCA', {'whiten': True}), ('kBest', {}), ('QDA', {'reg_param': 1, 'tol': 0.001})]\n",
      "[('PCA', {'whiten': False}), ('kBest', {}), ('PCA', {'whiten': True}), ('kBest', {}), ('QDA', {'reg_param': 1, 'tol': 0.0001})]\n",
      "[('PCA', {'whiten': False}), ('kBest', {}), ('PCA', {'whiten': True}), ('kBest', {}), ('LDA', {'solver': 'eigen', 'shrinkage': 'auto'})]\n",
      "\n",
      "Gen 31:\n",
      "\n",
      "Hall of fame:\n",
      "[('PCA', {'whiten': False}), ('kBest', {}), ('PCA', {'whiten': True}), ('kBest', {}), ('QDA', {'reg_param': 1, 'tol': 0.001})]\n",
      "[('PCA', {'whiten': True}), ('kBest', {}), ('LDA', {'solver': 'eigen', 'shrinkage': 'auto'})]\n",
      "[('PCA', {'whiten': True}), ('kBest', {}), ('QDA', {'reg_param': 1, 'tol': 0.001})]\n",
      "[('PCA', {'whiten': False}), ('kBest', {}), ('PCA', {'whiten': True}), ('kBest', {}), ('QDA', {'reg_param': 1, 'tol': 0.0001})]\n",
      "[('PCA', {'whiten': False}), ('kBest', {}), ('PCA', {'whiten': True}), ('kBest', {}), ('LDA', {'solver': 'eigen', 'shrinkage': 'auto'})]\n",
      "\n",
      "Gen 36:\n",
      "\n",
      "Hall of fame:\n",
      "[('PCA', {'whiten': False}), ('kBest', {}), ('PCA', {'whiten': True}), ('kBest', {}), ('QDA', {'reg_param': 1, 'tol': 0.001})]\n",
      "[('PCA', {'whiten': True}), ('kBest', {}), ('LDA', {'solver': 'eigen', 'shrinkage': 'auto'})]\n",
      "[('PCA', {'whiten': True}), ('kBest', {}), ('QDA', {'reg_param': 1, 'tol': 0.001})]\n",
      "[('PCA', {'whiten': False}), ('kBest', {}), ('PCA', {'whiten': True}), ('kBest', {}), ('QDA', {'reg_param': 1, 'tol': 0.0001})]\n",
      "[('PCA', {'whiten': False}), ('kBest', {}), ('PCA', {'whiten': True}), ('kBest', {}), ('LDA', {'solver': 'eigen', 'shrinkage': 'auto'})]\n",
      "\n",
      "Best pipeline test score: 1.0\n",
      "\n",
      "Score: 1.0, Pipe: ['pca-1', 'selectkbest-1', 'pca-2', 'selectkbest-2', 'quadraticdiscriminantanalysis']\n",
      "Score: 1.0, Pipe: ['pca', 'selectkbest', 'lineardiscriminantanalysis']\n",
      "Score: 1.0, Pipe: ['pca', 'selectkbest', 'quadraticdiscriminantanalysis']\n",
      "Score: 1.0, Pipe: ['pca-1', 'selectkbest-1', 'pca-2', 'selectkbest-2', 'quadraticdiscriminantanalysis']\n",
      "Score: 1.0, Pipe: ['pca-1', 'selectkbest-1', 'pca-2', 'selectkbest-2', 'lineardiscriminantanalysis']\n"
     ]
    }
   ],
   "source": [
    "clf = evopipe.EvoPipeClassifier(steps.preproc, steps.clfs, steps.params)\n",
    "clf.fit(train_X, train_Y)\n",
    "\n",
    "score = clf.score(test_X, test_Y)\n",
    "print(\"\\nBest pipeline test score: {}\\n\".format(score))\n",
    "\n",
    "best_pipes = clf.best_pipelines()\n",
    "\n",
    "for pipe in best_pipes:\n",
    "    pipe.fit(train_X, train_Y)\n",
    "    score = pipe.score(test_X, test_Y)\n",
    "    \n",
    "    pipe_named_steps = []\n",
    "    for key, val in pipe.steps:\n",
    "        pipe_named_steps.append(key)       \n",
    "    print(\"Score: {}, Pipe: {}\".format(score, pipe_named_steps))"
   ]
  },
  {
   "cell_type": "code",
   "execution_count": 5,
   "metadata": {},
   "outputs": [
    {
     "name": "stdout",
     "output_type": "stream",
     "text": [
      "gen\tavg     \tmin     \tmax     \n",
      "0  \t0.919367\t0.518545\t0.977097\n",
      "1  \t0.971828\t0.962098\t0.984496\n",
      "2  \t0.977312\t0.969674\t0.984672\n",
      "3  \t0.981896\t0.970685\t0.984672\n",
      "4  \t0.984602\t0.984496\t0.984672\n",
      "5  \t0.984649\t0.984496\t0.984672\n",
      "6  \t0.984672\t0.984672\t0.984672\n",
      "7  \t0.984672\t0.984672\t0.984672\n",
      "8  \t0.984672\t0.984672\t0.984672\n",
      "9  \t0.984672\t0.984672\t0.984672\n",
      "10 \t0.984672\t0.984672\t0.984672\n",
      "11 \t0.984672\t0.984672\t0.984672\n",
      "12 \t0.984672\t0.984672\t0.984672\n",
      "13 \t0.984672\t0.984672\t0.984672\n",
      "14 \t0.984672\t0.984672\t0.984672\n",
      "15 \t0.984672\t0.984672\t0.984672\n",
      "16 \t0.984672\t0.984672\t0.984672\n",
      "17 \t0.984672\t0.984672\t0.984672\n",
      "18 \t0.984672\t0.984672\t0.984672\n",
      "19 \t0.984672\t0.984672\t0.984672\n",
      "20 \t0.984672\t0.984672\t0.984672\n",
      "21 \t0.984672\t0.984672\t0.984672\n",
      "22 \t0.984672\t0.984672\t0.984672\n",
      "23 \t0.984672\t0.984672\t0.984672\n",
      "24 \t0.984672\t0.984672\t0.984672\n",
      "25 \t0.984672\t0.984672\t0.984672\n",
      "26 \t0.984672\t0.984672\t0.984672\n",
      "27 \t0.984672\t0.984672\t0.984672\n",
      "28 \t0.984672\t0.984672\t0.984672\n",
      "29 \t0.984672\t0.984672\t0.984672\n",
      "30 \t0.984672\t0.984672\t0.984672\n",
      "31 \t0.984672\t0.984672\t0.984672\n",
      "32 \t0.984672\t0.984672\t0.984672\n",
      "33 \t0.984672\t0.984672\t0.984672\n",
      "34 \t0.984672\t0.984672\t0.984672\n",
      "35 \t0.984672\t0.984672\t0.984672\n",
      "36 \t0.984672\t0.984672\t0.984672\n",
      "37 \t0.984672\t0.984672\t0.984672\n",
      "38 \t0.984672\t0.984672\t0.984672\n",
      "39 \t0.984672\t0.984672\t0.984672\n"
     ]
    },
    {
     "data": {
      "image/png": "[encoded data removed]",
      "text/plain": [
       "<matplotlib.figure.Figure at 0x1d2f41f16a0>"
      ]
     },
     "metadata": {},
     "output_type": "display_data"
    }
   ],
   "source": [
    "print(clf.logbook)\n",
    "\n",
    "gen = clf.logbook.select(\"gen\")\n",
    "avgs, mins, maxs, vars = clf.logbook.select(\"avg\", \"min\", \"max\", \"var\")\n",
    "\n",
    "sns.set()\n",
    "\n",
    "fig = plt.figure()\n",
    "ax1 = fig.add_subplot(111)\n",
    "ax1.plot(gen, avgs, label='Average')\n",
    "ax1.set_xlabel(\"Generation\")\n",
    "ax1.set_ylabel(\"Fitness\")\n",
    "\n",
    "ax1.plot(gen, maxs, label='Maximum')\n",
    "ax1.set_xlabel(\"Generation\")\n",
    "# ax1.set_ylabel(\"Maximum Fitness\")\n",
    "\n",
    "plt.show()"
   ]
  },
  {
   "cell_type": "code",
   "execution_count": null,
   "metadata": {},
   "outputs": [],
   "source": []
  }
 ],
 "metadata": {
  "kernelspec": {
   "display_name": "Python 3",
   "language": "python",
   "name": "python3"
  },
  "language_info": {
   "codemirror_mode": {
    "name": "ipython",
    "version": 3
   },
   "file_extension": ".py",
   "mimetype": "text/x-python",
   "name": "python",
   "nbconvert_exporter": "python",
   "pygments_lexer": "ipython3",
   "version": "3.6.4"
  }
 },
 "nbformat": 4,
 "nbformat_minor": 2
}
